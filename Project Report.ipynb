{
 "cells": [
  {
   "cell_type": "markdown",
   "id": "e168f138-bc18-4515-880f-44d8a340690d",
   "metadata": {},
   "source": [
    "<div style=\"text-align: center\"> <h1>Project Report</h1></div>\n",
    "\n",
    "***\n",
    "\n",
    "<div style=\"text-align: center\"> <h2>Predicting Occupation Using Knn-Classifciation</h2></div>"
   ]
  },
  {
   "cell_type": "markdown",
   "id": "15dc75c7-4a52-4d53-a8ff-3b2baed69041",
   "metadata": {},
   "source": [
    " "
   ]
  },
  {
   "cell_type": "markdown",
   "id": "a424797c-c09e-4d15-85bb-99d8d4852c12",
   "metadata": {},
   "source": [
    " "
   ]
  },
  {
   "cell_type": "markdown",
   "id": "62103278-7c67-4638-99f7-f952774e4161",
   "metadata": {},
   "source": [
    "<h4> Introduction </h4>\n",
    "\n",
    "A person's occupation has a significant impact on their lifestyle and health. Overall well-being can be influenced by a number of work-related factors, including physical demands, irregular hours, sedentary positions, and stress related to one's job. Maintaining a healthy balance between work obligations and personal well-being is essential for a long-lasting and satisfying career. The following suggestion is based on this awareness:\n",
    "\n",
    "Our work is founded on the concept that different occupational categories may show certain patterns in health and wellness parameters, allowing one to infer a person's career from variables like stress and sleep habits.\n",
    "\n",
    "Our research aims to determine whether it is possible to predict an individual's occupation using predictor variables from the dataset of interest. \n",
    "\n",
    "The Sleep Health and Lifestyle Dataset includes data on gender, age, occupation, sleep metrics, physical activity, stress levels, BMI, cardiovascular health, and sleep disorders. The dataset's columns consist of Person ID, Gender, Age, Occupation, Sleep Duration, Quality of Sleep, Physical Activity Level, Stress Level, BMI Category, Blood Pressure, Heart Rate, Daily Steps, and Sleep Disorder Status (None, Insomnia, Sleep Apnea). This dataset facilitates in-depth analysis of sleep patterns, lifestyle factors, cardiovascular health, and sleep disorders for a diverse population.\n",
    "The Hypothesis underlying our study is that distinct occupational categories may exhibit specific patterns in health and wellness factors, making it possible to infer a person's profession based on factors such as sleep and stress levels. \n"
   ]
  },
  {
   "cell_type": "code",
   "execution_count": 3,
   "id": "0ac7df1a-5f28-4f89-bd6c-9fb8ce55e288",
   "metadata": {
    "tags": []
   },
   "outputs": [
    {
     "name": "stderr",
     "output_type": "stream",
     "text": [
      "\u001b[1mRows: \u001b[22m\u001b[34m374\u001b[39m \u001b[1mColumns: \u001b[22m\u001b[34m13\u001b[39m\n",
      "\u001b[36m──\u001b[39m \u001b[1mColumn specification\u001b[22m \u001b[36m────────────────────────────────────────────────────────\u001b[39m\n",
      "\u001b[1mDelimiter:\u001b[22m \",\"\n",
      "\u001b[31mchr\u001b[39m (5): Gender, Occupation, BMI Category, Blood Pressure, Sleep Disorder\n",
      "\u001b[32mdbl\u001b[39m (8): Person ID, Age, Sleep Duration, Quality of Sleep, Physical Activity...\n",
      "\n",
      "\u001b[36mℹ\u001b[39m Use `spec()` to retrieve the full column specification for this data.\n",
      "\u001b[36mℹ\u001b[39m Specify the column types or set `show_col_types = FALSE` to quiet this message.\n"
     ]
    },
    {
     "data": {
      "text/html": [
       "<table class=\"dataframe\">\n",
       "<caption>A tibble: 6 × 5</caption>\n",
       "<thead>\n",
       "\t<tr><th scope=col>occupation</th><th scope=col>daily_steps</th><th scope=col>stress_level</th><th scope=col>quality_of_sleep</th><th scope=col>sleep_duration</th></tr>\n",
       "\t<tr><th scope=col>&lt;chr&gt;</th><th scope=col>&lt;dbl&gt;</th><th scope=col>&lt;dbl&gt;</th><th scope=col>&lt;dbl&gt;</th><th scope=col>&lt;dbl&gt;</th></tr>\n",
       "</thead>\n",
       "<tbody>\n",
       "\t<tr><td>Software Engineer   </td><td> 4200</td><td>6</td><td>6</td><td>6.1</td></tr>\n",
       "\t<tr><td>Doctor              </td><td>10000</td><td>8</td><td>6</td><td>6.2</td></tr>\n",
       "\t<tr><td>Doctor              </td><td>10000</td><td>8</td><td>6</td><td>6.2</td></tr>\n",
       "\t<tr><td>Sales Representative</td><td> 3000</td><td>8</td><td>4</td><td>5.9</td></tr>\n",
       "\t<tr><td>Sales Representative</td><td> 3000</td><td>8</td><td>4</td><td>5.9</td></tr>\n",
       "\t<tr><td>Software Engineer   </td><td> 3000</td><td>8</td><td>4</td><td>5.9</td></tr>\n",
       "</tbody>\n",
       "</table>\n"
      ],
      "text/latex": [
       "A tibble: 6 × 5\n",
       "\\begin{tabular}{lllll}\n",
       " occupation & daily\\_steps & stress\\_level & quality\\_of\\_sleep & sleep\\_duration\\\\\n",
       " <chr> & <dbl> & <dbl> & <dbl> & <dbl>\\\\\n",
       "\\hline\n",
       "\t Software Engineer    &  4200 & 6 & 6 & 6.1\\\\\n",
       "\t Doctor               & 10000 & 8 & 6 & 6.2\\\\\n",
       "\t Doctor               & 10000 & 8 & 6 & 6.2\\\\\n",
       "\t Sales Representative &  3000 & 8 & 4 & 5.9\\\\\n",
       "\t Sales Representative &  3000 & 8 & 4 & 5.9\\\\\n",
       "\t Software Engineer    &  3000 & 8 & 4 & 5.9\\\\\n",
       "\\end{tabular}\n"
      ],
      "text/markdown": [
       "\n",
       "A tibble: 6 × 5\n",
       "\n",
       "| occupation &lt;chr&gt; | daily_steps &lt;dbl&gt; | stress_level &lt;dbl&gt; | quality_of_sleep &lt;dbl&gt; | sleep_duration &lt;dbl&gt; |\n",
       "|---|---|---|---|---|\n",
       "| Software Engineer    |  4200 | 6 | 6 | 6.1 |\n",
       "| Doctor               | 10000 | 8 | 6 | 6.2 |\n",
       "| Doctor               | 10000 | 8 | 6 | 6.2 |\n",
       "| Sales Representative |  3000 | 8 | 4 | 5.9 |\n",
       "| Sales Representative |  3000 | 8 | 4 | 5.9 |\n",
       "| Software Engineer    |  3000 | 8 | 4 | 5.9 |\n",
       "\n"
      ],
      "text/plain": [
       "  occupation           daily_steps stress_level quality_of_sleep sleep_duration\n",
       "1 Software Engineer     4200       6            6                6.1           \n",
       "2 Doctor               10000       8            6                6.2           \n",
       "3 Doctor               10000       8            6                6.2           \n",
       "4 Sales Representative  3000       8            4                5.9           \n",
       "5 Sales Representative  3000       8            4                5.9           \n",
       "6 Software Engineer     3000       8            4                5.9           "
      ]
     },
     "metadata": {},
     "output_type": "display_data"
    },
    {
     "data": {
      "text/html": [
       "<table class=\"dataframe\">\n",
       "<caption>A tibble: 6 × 5</caption>\n",
       "<thead>\n",
       "\t<tr><th scope=col>occupation</th><th scope=col>daily_steps</th><th scope=col>stress_level</th><th scope=col>quality_of_sleep</th><th scope=col>sleep_duration</th></tr>\n",
       "\t<tr><th scope=col>&lt;chr&gt;</th><th scope=col>&lt;dbl&gt;</th><th scope=col>&lt;dbl&gt;</th><th scope=col>&lt;dbl&gt;</th><th scope=col>&lt;dbl&gt;</th></tr>\n",
       "</thead>\n",
       "<tbody>\n",
       "\t<tr><td>Nurse</td><td>7000</td><td>3</td><td>9</td><td>8.1</td></tr>\n",
       "\t<tr><td>Nurse</td><td>7000</td><td>3</td><td>9</td><td>8.1</td></tr>\n",
       "\t<tr><td>Nurse</td><td>7000</td><td>3</td><td>9</td><td>8.0</td></tr>\n",
       "\t<tr><td>Nurse</td><td>7000</td><td>3</td><td>9</td><td>8.1</td></tr>\n",
       "\t<tr><td>Nurse</td><td>7000</td><td>3</td><td>9</td><td>8.1</td></tr>\n",
       "\t<tr><td>Nurse</td><td>7000</td><td>3</td><td>9</td><td>8.1</td></tr>\n",
       "</tbody>\n",
       "</table>\n"
      ],
      "text/latex": [
       "A tibble: 6 × 5\n",
       "\\begin{tabular}{lllll}\n",
       " occupation & daily\\_steps & stress\\_level & quality\\_of\\_sleep & sleep\\_duration\\\\\n",
       " <chr> & <dbl> & <dbl> & <dbl> & <dbl>\\\\\n",
       "\\hline\n",
       "\t Nurse & 7000 & 3 & 9 & 8.1\\\\\n",
       "\t Nurse & 7000 & 3 & 9 & 8.1\\\\\n",
       "\t Nurse & 7000 & 3 & 9 & 8.0\\\\\n",
       "\t Nurse & 7000 & 3 & 9 & 8.1\\\\\n",
       "\t Nurse & 7000 & 3 & 9 & 8.1\\\\\n",
       "\t Nurse & 7000 & 3 & 9 & 8.1\\\\\n",
       "\\end{tabular}\n"
      ],
      "text/markdown": [
       "\n",
       "A tibble: 6 × 5\n",
       "\n",
       "| occupation &lt;chr&gt; | daily_steps &lt;dbl&gt; | stress_level &lt;dbl&gt; | quality_of_sleep &lt;dbl&gt; | sleep_duration &lt;dbl&gt; |\n",
       "|---|---|---|---|---|\n",
       "| Nurse | 7000 | 3 | 9 | 8.1 |\n",
       "| Nurse | 7000 | 3 | 9 | 8.1 |\n",
       "| Nurse | 7000 | 3 | 9 | 8.0 |\n",
       "| Nurse | 7000 | 3 | 9 | 8.1 |\n",
       "| Nurse | 7000 | 3 | 9 | 8.1 |\n",
       "| Nurse | 7000 | 3 | 9 | 8.1 |\n",
       "\n"
      ],
      "text/plain": [
       "  occupation daily_steps stress_level quality_of_sleep sleep_duration\n",
       "1 Nurse      7000        3            9                8.1           \n",
       "2 Nurse      7000        3            9                8.1           \n",
       "3 Nurse      7000        3            9                8.0           \n",
       "4 Nurse      7000        3            9                8.1           \n",
       "5 Nurse      7000        3            9                8.1           \n",
       "6 Nurse      7000        3            9                8.1           "
      ]
     },
     "metadata": {},
     "output_type": "display_data"
    }
   ],
   "source": [
    "library(repr)\n",
    "library(tidyverse)\n",
    "library(tidymodels)\n",
    "url  <- \"https://raw.githubusercontent.com/hmza-exe/DSCI-100-GroupProject_003-12/main/Sleep_health_and_lifestyle_dataset.csv\"\n",
    "sleep_health_data <- read_csv(url) |> \n",
    "                        rename(\"person_id\" = \"Person ID\",\n",
    "                               \"gender\" = \"Gender\",\n",
    "                               \"age\" = \"Age\", \"occupation\" = \"Occupation\",\n",
    "                               \"sleep_duration\" = \"Sleep Duration\",\n",
    "                               \"quality_of_sleep\" = \"Quality of Sleep\",\n",
    "                               \"physical_activity_level\" = \"Physical Activity Level\",\n",
    "                               \"stress_level\" = \"Stress Level\",\n",
    "                               \"bmi_category\" = \"BMI Category\",\n",
    "                               \"blood_pressure\" = \"Blood Pressure\",\n",
    "                               \"heart_rate\" = \"Heart Rate\",\n",
    "                               \"daily_steps\" = \"Daily Steps\",\n",
    "                               \"sleep_disorder\" = \"Sleep Disorder\")|>\n",
    "                        select(occupation, daily_steps, stress_level, quality_of_sleep, sleep_duration)\n",
    "head(sleep_health_data)\n",
    "tail(sleep_health_data)"
   ]
  },
  {
   "cell_type": "code",
   "execution_count": null,
   "id": "2fe09798-11c2-4ab8-8753-cb86dd0d95e4",
   "metadata": {},
   "outputs": [],
   "source": []
  },
  {
   "cell_type": "markdown",
   "id": "2a3f028d-962d-4c8c-88ad-3538f010468a",
   "metadata": {},
   "source": [
    "<h4>Discussion</h4>"
   ]
  },
  {
   "cell_type": "markdown",
   "id": "8027e393-7e5f-4f76-a569-99d7c2f46017",
   "metadata": {},
   "source": [
    "<h4>References</h4>\n",
    "\n",
    "Tharmalingam, L. (2023, September 18). Sleep health and lifestyle dataset. Kaggle. https://www.kaggle.com/datasets/uom190346a/sleep-health-and-lifestyle-dataset "
   ]
  },
  {
   "cell_type": "code",
   "execution_count": null,
   "id": "f72f472a-dcdd-4b2c-a728-c803ab8e532c",
   "metadata": {},
   "outputs": [],
   "source": []
  },
  {
   "cell_type": "code",
   "execution_count": null,
   "id": "113efa36-ad52-4dcb-81ce-91bf1cc12a3f",
   "metadata": {},
   "outputs": [],
   "source": []
  }
 ],
 "metadata": {
  "kernelspec": {
   "display_name": "R",
   "language": "R",
   "name": "ir"
  },
  "language_info": {
   "codemirror_mode": "r",
   "file_extension": ".r",
   "mimetype": "text/x-r-source",
   "name": "R",
   "pygments_lexer": "r",
   "version": "4.2.2"
  }
 },
 "nbformat": 4,
 "nbformat_minor": 5
}
