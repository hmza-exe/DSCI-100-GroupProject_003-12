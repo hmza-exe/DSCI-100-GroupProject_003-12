{
 "cells": [
  {
   "cell_type": "markdown",
   "id": "e168f138-bc18-4515-880f-44d8a340690d",
   "metadata": {},
   "source": [
    "<div style=\"text-align: center\"> <h1>Project Report</h1></div>\n",
    "\n",
    "***\n",
    "\n",
    "<div style=\"text-align: center\"> <h2>Predicting Occupation Using Knn-Classifciation</h2></div>"
   ]
  },
  {
   "cell_type": "markdown",
   "id": "15dc75c7-4a52-4d53-a8ff-3b2baed69041",
   "metadata": {},
   "source": [
    " "
   ]
  },
  {
   "cell_type": "markdown",
   "id": "a424797c-c09e-4d15-85bb-99d8d4852c12",
   "metadata": {},
   "source": [
    " "
   ]
  },
  {
   "cell_type": "markdown",
   "id": "63aa0d53-5379-4164-8ec6-549269a07596",
   "metadata": {},
   "source": [
    "<h4> Introduction </h4>\n",
    "\n",
    "A person's occupation has a significant impact on their lifestyle and health. Overall well-being can be influenced by a number of work-related factors, including physical demands, irregular hours, sedentary positions, and stress related to one's job. Maintaining a healthy balance between work obligations and personal well-being is essential for a long-lasting and satisfying career. The following suggestion is based on this awareness:\n",
    "\n",
    "Our work is founded on the concept that different occupational categories may show certain patterns in health and wellness parameters, allowing one to infer a person's career from variables like stress and sleep habits.\n",
    "\n",
    "Our research aims to determine whether it is possible to predict an individual's occupation using predictor variables from the dataset of interest. \n",
    "\n",
    "The Sleep Health and Lifestyle Dataset includes data on gender, age, occupation, sleep metrics, physical activity, stress levels, BMI, cardiovascular health, and sleep disorders. The dataset's columns consist of Person ID, Gender, Age, Occupation, Sleep Duration, Quality of Sleep, Physical Activity Level, Stress Level, BMI Category, Blood Pressure, Heart Rate, Daily Steps, and Sleep Disorder Status (None, Insomnia, Sleep Apnea). This dataset facilitates in-depth analysis of sleep patterns, lifestyle factors, cardiovascular health, and sleep disorders for a diverse population.\n",
    "The Hypothesis underlying our study is that distinct occupational categories may exhibit specific patterns in health and wellness factors, making it possible to infer a person's profession based on factors such as sleep and stress levels. \n"
   ]
  },
  {
   "cell_type": "markdown",
   "id": "b08f318d-9956-4a96-a98e-33b2e640c30d",
   "metadata": {
    "tags": []
   },
   "source": [
    "<h4> Analyzing our Data </h4>"
   ]
  },
  {
   "cell_type": "markdown",
   "id": "fdedbdb7-3f17-4b42-9b3f-19ff19acc1b2",
   "metadata": {},
   "source": [
    "<p>The dataset is fetched from a URL, and column names are renamed accordingly for clarity. The focus is then limited down to a small set of jobs, including doctors, teachers, nurses, engineers, accountants, lawyers, and salespeople, because the remaining occupations lack sufficient data, making training and testing difficult. For further examination, relevant columns such as daily steps, physical activity level, stress level, sleep quality, and sleep length are chosen. For categorical representation, the occupation column is changed to a factor.</p>\n",
    "\n",
    "<p>This code serves as the first step in data exploration and preprocessing, laying the groundwork for later data analytics and visualisation in the context of understanding the relationship between profession and sleep-related variables.</p>"
   ]
  },
  {
   "cell_type": "code",
   "execution_count": 12,
   "id": "0ac7df1a-5f28-4f89-bd6c-9fb8ce55e288",
   "metadata": {
    "tags": []
   },
   "outputs": [
    {
     "name": "stderr",
     "output_type": "stream",
     "text": [
      "Updating HTML index of packages in '.Library'\n",
      "\n",
      "Making 'packages.html' ...\n",
      " done\n",
      "\n",
      "Updating HTML index of packages in '.Library'\n",
      "\n",
      "Making 'packages.html' ...\n",
      " done\n",
      "\n",
      "\u001b[1mRows: \u001b[22m\u001b[34m374\u001b[39m \u001b[1mColumns: \u001b[22m\u001b[34m13\u001b[39m\n",
      "\u001b[36m──\u001b[39m \u001b[1mColumn specification\u001b[22m \u001b[36m────────────────────────────────────────────────────────\u001b[39m\n",
      "\u001b[1mDelimiter:\u001b[22m \",\"\n",
      "\u001b[31mchr\u001b[39m (5): Gender, Occupation, BMI Category, Blood Pressure, Sleep Disorder\n",
      "\u001b[32mdbl\u001b[39m (8): Person ID, Age, Sleep Duration, Quality of Sleep, Physical Activity...\n",
      "\n",
      "\u001b[36mℹ\u001b[39m Use `spec()` to retrieve the full column specification for this data.\n",
      "\u001b[36mℹ\u001b[39m Specify the column types or set `show_col_types = FALSE` to quiet this message.\n"
     ]
    },
    {
     "data": {
      "text/html": [
       "<table class=\"dataframe\">\n",
       "<caption>A tibble: 6 × 6</caption>\n",
       "<thead>\n",
       "\t<tr><th scope=col>occupation</th><th scope=col>daily_steps</th><th scope=col>physical_activity_level</th><th scope=col>stress_level</th><th scope=col>quality_of_sleep</th><th scope=col>sleep_duration</th></tr>\n",
       "\t<tr><th scope=col>&lt;fct&gt;</th><th scope=col>&lt;dbl&gt;</th><th scope=col>&lt;dbl&gt;</th><th scope=col>&lt;dbl&gt;</th><th scope=col>&lt;dbl&gt;</th><th scope=col>&lt;dbl&gt;</th></tr>\n",
       "</thead>\n",
       "<tbody>\n",
       "\t<tr><td>Doctor </td><td>10000</td><td>60</td><td>8</td><td>6</td><td>6.2</td></tr>\n",
       "\t<tr><td>Doctor </td><td>10000</td><td>60</td><td>8</td><td>6</td><td>6.2</td></tr>\n",
       "\t<tr><td>Teacher</td><td> 3500</td><td>40</td><td>7</td><td>6</td><td>6.3</td></tr>\n",
       "\t<tr><td>Doctor </td><td> 8000</td><td>75</td><td>6</td><td>7</td><td>7.8</td></tr>\n",
       "\t<tr><td>Doctor </td><td> 8000</td><td>75</td><td>6</td><td>7</td><td>7.8</td></tr>\n",
       "\t<tr><td>Doctor </td><td> 8000</td><td>75</td><td>6</td><td>7</td><td>7.8</td></tr>\n",
       "</tbody>\n",
       "</table>\n"
      ],
      "text/latex": [
       "A tibble: 6 × 6\n",
       "\\begin{tabular}{llllll}\n",
       " occupation & daily\\_steps & physical\\_activity\\_level & stress\\_level & quality\\_of\\_sleep & sleep\\_duration\\\\\n",
       " <fct> & <dbl> & <dbl> & <dbl> & <dbl> & <dbl>\\\\\n",
       "\\hline\n",
       "\t Doctor  & 10000 & 60 & 8 & 6 & 6.2\\\\\n",
       "\t Doctor  & 10000 & 60 & 8 & 6 & 6.2\\\\\n",
       "\t Teacher &  3500 & 40 & 7 & 6 & 6.3\\\\\n",
       "\t Doctor  &  8000 & 75 & 6 & 7 & 7.8\\\\\n",
       "\t Doctor  &  8000 & 75 & 6 & 7 & 7.8\\\\\n",
       "\t Doctor  &  8000 & 75 & 6 & 7 & 7.8\\\\\n",
       "\\end{tabular}\n"
      ],
      "text/markdown": [
       "\n",
       "A tibble: 6 × 6\n",
       "\n",
       "| occupation &lt;fct&gt; | daily_steps &lt;dbl&gt; | physical_activity_level &lt;dbl&gt; | stress_level &lt;dbl&gt; | quality_of_sleep &lt;dbl&gt; | sleep_duration &lt;dbl&gt; |\n",
       "|---|---|---|---|---|---|\n",
       "| Doctor  | 10000 | 60 | 8 | 6 | 6.2 |\n",
       "| Doctor  | 10000 | 60 | 8 | 6 | 6.2 |\n",
       "| Teacher |  3500 | 40 | 7 | 6 | 6.3 |\n",
       "| Doctor  |  8000 | 75 | 6 | 7 | 7.8 |\n",
       "| Doctor  |  8000 | 75 | 6 | 7 | 7.8 |\n",
       "| Doctor  |  8000 | 75 | 6 | 7 | 7.8 |\n",
       "\n"
      ],
      "text/plain": [
       "  occupation daily_steps physical_activity_level stress_level quality_of_sleep\n",
       "1 Doctor     10000       60                      8            6               \n",
       "2 Doctor     10000       60                      8            6               \n",
       "3 Teacher     3500       40                      7            6               \n",
       "4 Doctor      8000       75                      6            7               \n",
       "5 Doctor      8000       75                      6            7               \n",
       "6 Doctor      8000       75                      6            7               \n",
       "  sleep_duration\n",
       "1 6.2           \n",
       "2 6.2           \n",
       "3 6.3           \n",
       "4 7.8           \n",
       "5 7.8           \n",
       "6 7.8           "
      ]
     },
     "metadata": {},
     "output_type": "display_data"
    },
    {
     "data": {
      "text/html": [
       "<!doctype html>\n",
       "<html>\n",
       "\t<head>\n",
       "\t\t<meta charset=\"utf-8\">\n",
       "\t\t\n",
       "\t</head>\n",
       "\t<body>\n",
       "\t\t<h5>Table 1: First Six Entries of Dataset</h5>\n",
       "\t</body>\n",
       "</html>\n"
      ],
      "text/plain": [
       "Shiny tags cannot be represented in plain text (need html)"
      ]
     },
     "metadata": {
      "text/html": {
       "isolated": true
      }
     },
     "output_type": "display_data"
    },
    {
     "data": {
      "text/html": [
       "<table class=\"dataframe\">\n",
       "<caption>A tibble: 6 × 6</caption>\n",
       "<thead>\n",
       "\t<tr><th scope=col>occupation</th><th scope=col>daily_steps</th><th scope=col>physical_activity_level</th><th scope=col>stress_level</th><th scope=col>quality_of_sleep</th><th scope=col>sleep_duration</th></tr>\n",
       "\t<tr><th scope=col>&lt;fct&gt;</th><th scope=col>&lt;dbl&gt;</th><th scope=col>&lt;dbl&gt;</th><th scope=col>&lt;dbl&gt;</th><th scope=col>&lt;dbl&gt;</th><th scope=col>&lt;dbl&gt;</th></tr>\n",
       "</thead>\n",
       "<tbody>\n",
       "\t<tr><td>Nurse</td><td>7000</td><td>75</td><td>3</td><td>9</td><td>8.1</td></tr>\n",
       "\t<tr><td>Nurse</td><td>7000</td><td>75</td><td>3</td><td>9</td><td>8.1</td></tr>\n",
       "\t<tr><td>Nurse</td><td>7000</td><td>75</td><td>3</td><td>9</td><td>8.0</td></tr>\n",
       "\t<tr><td>Nurse</td><td>7000</td><td>75</td><td>3</td><td>9</td><td>8.1</td></tr>\n",
       "\t<tr><td>Nurse</td><td>7000</td><td>75</td><td>3</td><td>9</td><td>8.1</td></tr>\n",
       "\t<tr><td>Nurse</td><td>7000</td><td>75</td><td>3</td><td>9</td><td>8.1</td></tr>\n",
       "</tbody>\n",
       "</table>\n"
      ],
      "text/latex": [
       "A tibble: 6 × 6\n",
       "\\begin{tabular}{llllll}\n",
       " occupation & daily\\_steps & physical\\_activity\\_level & stress\\_level & quality\\_of\\_sleep & sleep\\_duration\\\\\n",
       " <fct> & <dbl> & <dbl> & <dbl> & <dbl> & <dbl>\\\\\n",
       "\\hline\n",
       "\t Nurse & 7000 & 75 & 3 & 9 & 8.1\\\\\n",
       "\t Nurse & 7000 & 75 & 3 & 9 & 8.1\\\\\n",
       "\t Nurse & 7000 & 75 & 3 & 9 & 8.0\\\\\n",
       "\t Nurse & 7000 & 75 & 3 & 9 & 8.1\\\\\n",
       "\t Nurse & 7000 & 75 & 3 & 9 & 8.1\\\\\n",
       "\t Nurse & 7000 & 75 & 3 & 9 & 8.1\\\\\n",
       "\\end{tabular}\n"
      ],
      "text/markdown": [
       "\n",
       "A tibble: 6 × 6\n",
       "\n",
       "| occupation &lt;fct&gt; | daily_steps &lt;dbl&gt; | physical_activity_level &lt;dbl&gt; | stress_level &lt;dbl&gt; | quality_of_sleep &lt;dbl&gt; | sleep_duration &lt;dbl&gt; |\n",
       "|---|---|---|---|---|---|\n",
       "| Nurse | 7000 | 75 | 3 | 9 | 8.1 |\n",
       "| Nurse | 7000 | 75 | 3 | 9 | 8.1 |\n",
       "| Nurse | 7000 | 75 | 3 | 9 | 8.0 |\n",
       "| Nurse | 7000 | 75 | 3 | 9 | 8.1 |\n",
       "| Nurse | 7000 | 75 | 3 | 9 | 8.1 |\n",
       "| Nurse | 7000 | 75 | 3 | 9 | 8.1 |\n",
       "\n"
      ],
      "text/plain": [
       "  occupation daily_steps physical_activity_level stress_level quality_of_sleep\n",
       "1 Nurse      7000        75                      3            9               \n",
       "2 Nurse      7000        75                      3            9               \n",
       "3 Nurse      7000        75                      3            9               \n",
       "4 Nurse      7000        75                      3            9               \n",
       "5 Nurse      7000        75                      3            9               \n",
       "6 Nurse      7000        75                      3            9               \n",
       "  sleep_duration\n",
       "1 8.1           \n",
       "2 8.1           \n",
       "3 8.0           \n",
       "4 8.1           \n",
       "5 8.1           \n",
       "6 8.1           "
      ]
     },
     "metadata": {},
     "output_type": "display_data"
    },
    {
     "data": {
      "text/html": [
       "<!doctype html>\n",
       "<html>\n",
       "\t<head>\n",
       "\t\t<meta charset=\"utf-8\">\n",
       "\t\t\n",
       "\t</head>\n",
       "\t<body>\n",
       "\t\t<h5>Table 2: Last Six Entries of Dataset</h5>\n",
       "\t</body>\n",
       "</html>\n"
      ],
      "text/plain": [
       "Shiny tags cannot be represented in plain text (need html)"
      ]
     },
     "metadata": {
      "text/html": {
       "isolated": true
      }
     },
     "output_type": "display_data"
    }
   ],
   "source": [
    "library(repr)\n",
    "library(tidyverse)\n",
    "install.packages(\"janitor\")\n",
    "install.packages(\"kknn\")\n",
    "library(janitor)\n",
    "library(ggplot2)\n",
    "library(kknn)\n",
    "library(tidymodels)\n",
    "library(shiny)\n",
    "\n",
    "\n",
    "url  <- \"https://raw.githubusercontent.com/hmza-exe/DSCI-100-GroupProject_003-12/main/Sleep_health_and_lifestyle_dataset.csv\"\n",
    "occupation_names <- c(\"Doctor\",\"Teacher\" ,\"Nurse\" ,\"Engineer\" ,\"Accountant\", \"Lawyer\" , \"Salesperson\")\n",
    "sleep_health_data <- read_csv(url) |> \n",
    "                        rename(\"person_id\" = \"Person ID\",\n",
    "                               \"gender\" = \"Gender\",\n",
    "                               \"age\" = \"Age\", \"occupation\" = \"Occupation\",\n",
    "                               \"sleep_duration\" = \"Sleep Duration\",\n",
    "                               \"quality_of_sleep\" = \"Quality of Sleep\",\n",
    "                               \"physical_activity_level\" = \"Physical Activity Level\",\n",
    "                               \"stress_level\" = \"Stress Level\",\n",
    "                               \"bmi_category\" = \"BMI Category\",\n",
    "                               \"blood_pressure\" = \"Blood Pressure\",\n",
    "                               \"heart_rate\" = \"Heart Rate\",\n",
    "                               \"daily_steps\" = \"Daily Steps\",\n",
    "                               \"sleep_disorder\" = \"Sleep Disorder\")|>\n",
    "                        select(occupation, daily_steps, physical_activity_level, stress_level, quality_of_sleep, sleep_duration) |>\n",
    "filter(occupation %in% occupation_names) |>\n",
    "                        mutate(occupation = as_factor(occupation))\n",
    "head(sleep_health_data)\n",
    "h5('Table 1: First Six Entries of Dataset')\n",
    "tail(sleep_health_data)\n",
    "h5('Table 2: Last Six Entries of Dataset')"
   ]
  },
  {
   "cell_type": "markdown",
   "id": "c6cade4a-a363-48cd-af96-41e729228219",
   "metadata": {},
   "source": [
    "The script then scales selected features to allow for more effective analysis. The `scale` function is used to normalise daily steps, physical activity level, stress level, sleep quality, and sleep length. The mean is subtracted during the scaling procedure since the centre parameter is set to TRUE. This normalisation is necessary for standardising the variables and bringing them to a similar scale, which is very useful when dealing with machine learning models or performing multivariate analysis. The resulting dataset, `sleep_health_data_scaled`, is then shown, displaying the scaled values for the selected attributes. This phase improves the robustness of subsequent statistical analyses and modelling efforts by guaranteeing that each variable, regardless of its original magnitude, contributes proportionally to the overall analysis."
   ]
  },
  {
   "cell_type": "code",
   "execution_count": 13,
   "id": "2fe09798-11c2-4ab8-8753-cb86dd0d95e4",
   "metadata": {
    "tags": []
   },
   "outputs": [
    {
     "data": {
      "text/html": [
       "<table class=\"dataframe\">\n",
       "<caption>A tibble: 6 × 11</caption>\n",
       "<thead>\n",
       "\t<tr><th scope=col>occupation</th><th scope=col>daily_steps</th><th scope=col>physical_activity_level</th><th scope=col>stress_level</th><th scope=col>quality_of_sleep</th><th scope=col>sleep_duration</th><th scope=col>scaled_daily_steps</th><th scope=col>scaled_physical_activity</th><th scope=col>scaled_stress_level</th><th scope=col>scaled_quality_of_sleep</th><th scope=col>scaled_sleep_duration</th></tr>\n",
       "\t<tr><th scope=col>&lt;fct&gt;</th><th scope=col>&lt;dbl&gt;</th><th scope=col>&lt;dbl&gt;</th><th scope=col>&lt;dbl&gt;</th><th scope=col>&lt;dbl&gt;</th><th scope=col>&lt;dbl&gt;</th><th scope=col>&lt;dbl[,1]&gt;</th><th scope=col>&lt;dbl[,1]&gt;</th><th scope=col>&lt;dbl[,1]&gt;</th><th scope=col>&lt;dbl[,1]&gt;</th><th scope=col>&lt;dbl[,1]&gt;</th></tr>\n",
       "</thead>\n",
       "<tbody>\n",
       "\t<tr><td>Doctor </td><td>10000</td><td>60</td><td>8</td><td>6</td><td>6.2</td><td> 1.9730987</td><td> 0.01599315</td><td>1.4960715</td><td>-1.1962837</td><td>-1.2136877</td></tr>\n",
       "\t<tr><td>Doctor </td><td>10000</td><td>60</td><td>8</td><td>6</td><td>6.2</td><td> 1.9730987</td><td> 0.01599315</td><td>1.4960715</td><td>-1.1962837</td><td>-1.2136877</td></tr>\n",
       "\t<tr><td>Teacher</td><td> 3500</td><td>40</td><td>7</td><td>6</td><td>6.3</td><td>-2.1229125</td><td>-0.94359587</td><td>0.9321318</td><td>-1.1962837</td><td>-1.0867593</td></tr>\n",
       "\t<tr><td>Doctor </td><td> 8000</td><td>75</td><td>6</td><td>7</td><td>7.8</td><td> 0.7127875</td><td> 0.73568492</td><td>0.3681921</td><td>-0.3207777</td><td> 0.8171675</td></tr>\n",
       "\t<tr><td>Doctor </td><td> 8000</td><td>75</td><td>6</td><td>7</td><td>7.8</td><td> 0.7127875</td><td> 0.73568492</td><td>0.3681921</td><td>-0.3207777</td><td> 0.8171675</td></tr>\n",
       "\t<tr><td>Doctor </td><td> 8000</td><td>75</td><td>6</td><td>7</td><td>7.8</td><td> 0.7127875</td><td> 0.73568492</td><td>0.3681921</td><td>-0.3207777</td><td> 0.8171675</td></tr>\n",
       "</tbody>\n",
       "</table>\n"
      ],
      "text/latex": [
       "A tibble: 6 × 11\n",
       "\\begin{tabular}{lllllllllll}\n",
       " occupation & daily\\_steps & physical\\_activity\\_level & stress\\_level & quality\\_of\\_sleep & sleep\\_duration & scaled\\_daily\\_steps & scaled\\_physical\\_activity & scaled\\_stress\\_level & scaled\\_quality\\_of\\_sleep & scaled\\_sleep\\_duration\\\\\n",
       " <fct> & <dbl> & <dbl> & <dbl> & <dbl> & <dbl> & <dbl{[},1{]}> & <dbl{[},1{]}> & <dbl{[},1{]}> & <dbl{[},1{]}> & <dbl{[},1{]}>\\\\\n",
       "\\hline\n",
       "\t Doctor  & 10000 & 60 & 8 & 6 & 6.2 &  1.9730987 &  0.01599315 & 1.4960715 & -1.1962837 & -1.2136877\\\\\n",
       "\t Doctor  & 10000 & 60 & 8 & 6 & 6.2 &  1.9730987 &  0.01599315 & 1.4960715 & -1.1962837 & -1.2136877\\\\\n",
       "\t Teacher &  3500 & 40 & 7 & 6 & 6.3 & -2.1229125 & -0.94359587 & 0.9321318 & -1.1962837 & -1.0867593\\\\\n",
       "\t Doctor  &  8000 & 75 & 6 & 7 & 7.8 &  0.7127875 &  0.73568492 & 0.3681921 & -0.3207777 &  0.8171675\\\\\n",
       "\t Doctor  &  8000 & 75 & 6 & 7 & 7.8 &  0.7127875 &  0.73568492 & 0.3681921 & -0.3207777 &  0.8171675\\\\\n",
       "\t Doctor  &  8000 & 75 & 6 & 7 & 7.8 &  0.7127875 &  0.73568492 & 0.3681921 & -0.3207777 &  0.8171675\\\\\n",
       "\\end{tabular}\n"
      ],
      "text/markdown": [
       "\n",
       "A tibble: 6 × 11\n",
       "\n",
       "| occupation &lt;fct&gt; | daily_steps &lt;dbl&gt; | physical_activity_level &lt;dbl&gt; | stress_level &lt;dbl&gt; | quality_of_sleep &lt;dbl&gt; | sleep_duration &lt;dbl&gt; | scaled_daily_steps &lt;dbl[,1]&gt; | scaled_physical_activity &lt;dbl[,1]&gt; | scaled_stress_level &lt;dbl[,1]&gt; | scaled_quality_of_sleep &lt;dbl[,1]&gt; | scaled_sleep_duration &lt;dbl[,1]&gt; |\n",
       "|---|---|---|---|---|---|---|---|---|---|---|\n",
       "| Doctor  | 10000 | 60 | 8 | 6 | 6.2 |  1.9730987 |  0.01599315 | 1.4960715 | -1.1962837 | -1.2136877 |\n",
       "| Doctor  | 10000 | 60 | 8 | 6 | 6.2 |  1.9730987 |  0.01599315 | 1.4960715 | -1.1962837 | -1.2136877 |\n",
       "| Teacher |  3500 | 40 | 7 | 6 | 6.3 | -2.1229125 | -0.94359587 | 0.9321318 | -1.1962837 | -1.0867593 |\n",
       "| Doctor  |  8000 | 75 | 6 | 7 | 7.8 |  0.7127875 |  0.73568492 | 0.3681921 | -0.3207777 |  0.8171675 |\n",
       "| Doctor  |  8000 | 75 | 6 | 7 | 7.8 |  0.7127875 |  0.73568492 | 0.3681921 | -0.3207777 |  0.8171675 |\n",
       "| Doctor  |  8000 | 75 | 6 | 7 | 7.8 |  0.7127875 |  0.73568492 | 0.3681921 | -0.3207777 |  0.8171675 |\n",
       "\n"
      ],
      "text/plain": [
       "  occupation daily_steps physical_activity_level stress_level quality_of_sleep\n",
       "1 Doctor     10000       60                      8            6               \n",
       "2 Doctor     10000       60                      8            6               \n",
       "3 Teacher     3500       40                      7            6               \n",
       "4 Doctor      8000       75                      6            7               \n",
       "5 Doctor      8000       75                      6            7               \n",
       "6 Doctor      8000       75                      6            7               \n",
       "  sleep_duration scaled_daily_steps scaled_physical_activity\n",
       "1 6.2             1.9730987          0.01599315             \n",
       "2 6.2             1.9730987          0.01599315             \n",
       "3 6.3            -2.1229125         -0.94359587             \n",
       "4 7.8             0.7127875          0.73568492             \n",
       "5 7.8             0.7127875          0.73568492             \n",
       "6 7.8             0.7127875          0.73568492             \n",
       "  scaled_stress_level scaled_quality_of_sleep scaled_sleep_duration\n",
       "1 1.4960715           -1.1962837              -1.2136877           \n",
       "2 1.4960715           -1.1962837              -1.2136877           \n",
       "3 0.9321318           -1.1962837              -1.0867593           \n",
       "4 0.3681921           -0.3207777               0.8171675           \n",
       "5 0.3681921           -0.3207777               0.8171675           \n",
       "6 0.3681921           -0.3207777               0.8171675           "
      ]
     },
     "metadata": {},
     "output_type": "display_data"
    },
    {
     "data": {
      "text/html": [
       "<!doctype html>\n",
       "<html>\n",
       "\t<head>\n",
       "\t\t<meta charset=\"utf-8\">\n",
       "\t\t\n",
       "\t</head>\n",
       "\t<body>\n",
       "\t\t<h5>Table 3: First Six Entries of Scaled Dataset</h5>\n",
       "\t</body>\n",
       "</html>\n"
      ],
      "text/plain": [
       "Shiny tags cannot be represented in plain text (need html)"
      ]
     },
     "metadata": {
      "text/html": {
       "isolated": true
      }
     },
     "output_type": "display_data"
    },
    {
     "data": {
      "text/html": [
       "<table class=\"dataframe\">\n",
       "<caption>A tibble: 6 × 11</caption>\n",
       "<thead>\n",
       "\t<tr><th scope=col>occupation</th><th scope=col>daily_steps</th><th scope=col>physical_activity_level</th><th scope=col>stress_level</th><th scope=col>quality_of_sleep</th><th scope=col>sleep_duration</th><th scope=col>scaled_daily_steps</th><th scope=col>scaled_physical_activity</th><th scope=col>scaled_stress_level</th><th scope=col>scaled_quality_of_sleep</th><th scope=col>scaled_sleep_duration</th></tr>\n",
       "\t<tr><th scope=col>&lt;fct&gt;</th><th scope=col>&lt;dbl&gt;</th><th scope=col>&lt;dbl&gt;</th><th scope=col>&lt;dbl&gt;</th><th scope=col>&lt;dbl&gt;</th><th scope=col>&lt;dbl&gt;</th><th scope=col>&lt;dbl[,1]&gt;</th><th scope=col>&lt;dbl[,1]&gt;</th><th scope=col>&lt;dbl[,1]&gt;</th><th scope=col>&lt;dbl[,1]&gt;</th><th scope=col>&lt;dbl[,1]&gt;</th></tr>\n",
       "</thead>\n",
       "<tbody>\n",
       "\t<tr><td>Nurse</td><td>7000</td><td>75</td><td>3</td><td>9</td><td>8.1</td><td>0.08263197</td><td>0.7356849</td><td>-1.323627</td><td>1.430234</td><td>1.197953</td></tr>\n",
       "\t<tr><td>Nurse</td><td>7000</td><td>75</td><td>3</td><td>9</td><td>8.1</td><td>0.08263197</td><td>0.7356849</td><td>-1.323627</td><td>1.430234</td><td>1.197953</td></tr>\n",
       "\t<tr><td>Nurse</td><td>7000</td><td>75</td><td>3</td><td>9</td><td>8.0</td><td>0.08263197</td><td>0.7356849</td><td>-1.323627</td><td>1.430234</td><td>1.071024</td></tr>\n",
       "\t<tr><td>Nurse</td><td>7000</td><td>75</td><td>3</td><td>9</td><td>8.1</td><td>0.08263197</td><td>0.7356849</td><td>-1.323627</td><td>1.430234</td><td>1.197953</td></tr>\n",
       "\t<tr><td>Nurse</td><td>7000</td><td>75</td><td>3</td><td>9</td><td>8.1</td><td>0.08263197</td><td>0.7356849</td><td>-1.323627</td><td>1.430234</td><td>1.197953</td></tr>\n",
       "\t<tr><td>Nurse</td><td>7000</td><td>75</td><td>3</td><td>9</td><td>8.1</td><td>0.08263197</td><td>0.7356849</td><td>-1.323627</td><td>1.430234</td><td>1.197953</td></tr>\n",
       "</tbody>\n",
       "</table>\n"
      ],
      "text/latex": [
       "A tibble: 6 × 11\n",
       "\\begin{tabular}{lllllllllll}\n",
       " occupation & daily\\_steps & physical\\_activity\\_level & stress\\_level & quality\\_of\\_sleep & sleep\\_duration & scaled\\_daily\\_steps & scaled\\_physical\\_activity & scaled\\_stress\\_level & scaled\\_quality\\_of\\_sleep & scaled\\_sleep\\_duration\\\\\n",
       " <fct> & <dbl> & <dbl> & <dbl> & <dbl> & <dbl> & <dbl{[},1{]}> & <dbl{[},1{]}> & <dbl{[},1{]}> & <dbl{[},1{]}> & <dbl{[},1{]}>\\\\\n",
       "\\hline\n",
       "\t Nurse & 7000 & 75 & 3 & 9 & 8.1 & 0.08263197 & 0.7356849 & -1.323627 & 1.430234 & 1.197953\\\\\n",
       "\t Nurse & 7000 & 75 & 3 & 9 & 8.1 & 0.08263197 & 0.7356849 & -1.323627 & 1.430234 & 1.197953\\\\\n",
       "\t Nurse & 7000 & 75 & 3 & 9 & 8.0 & 0.08263197 & 0.7356849 & -1.323627 & 1.430234 & 1.071024\\\\\n",
       "\t Nurse & 7000 & 75 & 3 & 9 & 8.1 & 0.08263197 & 0.7356849 & -1.323627 & 1.430234 & 1.197953\\\\\n",
       "\t Nurse & 7000 & 75 & 3 & 9 & 8.1 & 0.08263197 & 0.7356849 & -1.323627 & 1.430234 & 1.197953\\\\\n",
       "\t Nurse & 7000 & 75 & 3 & 9 & 8.1 & 0.08263197 & 0.7356849 & -1.323627 & 1.430234 & 1.197953\\\\\n",
       "\\end{tabular}\n"
      ],
      "text/markdown": [
       "\n",
       "A tibble: 6 × 11\n",
       "\n",
       "| occupation &lt;fct&gt; | daily_steps &lt;dbl&gt; | physical_activity_level &lt;dbl&gt; | stress_level &lt;dbl&gt; | quality_of_sleep &lt;dbl&gt; | sleep_duration &lt;dbl&gt; | scaled_daily_steps &lt;dbl[,1]&gt; | scaled_physical_activity &lt;dbl[,1]&gt; | scaled_stress_level &lt;dbl[,1]&gt; | scaled_quality_of_sleep &lt;dbl[,1]&gt; | scaled_sleep_duration &lt;dbl[,1]&gt; |\n",
       "|---|---|---|---|---|---|---|---|---|---|---|\n",
       "| Nurse | 7000 | 75 | 3 | 9 | 8.1 | 0.08263197 | 0.7356849 | -1.323627 | 1.430234 | 1.197953 |\n",
       "| Nurse | 7000 | 75 | 3 | 9 | 8.1 | 0.08263197 | 0.7356849 | -1.323627 | 1.430234 | 1.197953 |\n",
       "| Nurse | 7000 | 75 | 3 | 9 | 8.0 | 0.08263197 | 0.7356849 | -1.323627 | 1.430234 | 1.071024 |\n",
       "| Nurse | 7000 | 75 | 3 | 9 | 8.1 | 0.08263197 | 0.7356849 | -1.323627 | 1.430234 | 1.197953 |\n",
       "| Nurse | 7000 | 75 | 3 | 9 | 8.1 | 0.08263197 | 0.7356849 | -1.323627 | 1.430234 | 1.197953 |\n",
       "| Nurse | 7000 | 75 | 3 | 9 | 8.1 | 0.08263197 | 0.7356849 | -1.323627 | 1.430234 | 1.197953 |\n",
       "\n"
      ],
      "text/plain": [
       "  occupation daily_steps physical_activity_level stress_level quality_of_sleep\n",
       "1 Nurse      7000        75                      3            9               \n",
       "2 Nurse      7000        75                      3            9               \n",
       "3 Nurse      7000        75                      3            9               \n",
       "4 Nurse      7000        75                      3            9               \n",
       "5 Nurse      7000        75                      3            9               \n",
       "6 Nurse      7000        75                      3            9               \n",
       "  sleep_duration scaled_daily_steps scaled_physical_activity\n",
       "1 8.1            0.08263197         0.7356849               \n",
       "2 8.1            0.08263197         0.7356849               \n",
       "3 8.0            0.08263197         0.7356849               \n",
       "4 8.1            0.08263197         0.7356849               \n",
       "5 8.1            0.08263197         0.7356849               \n",
       "6 8.1            0.08263197         0.7356849               \n",
       "  scaled_stress_level scaled_quality_of_sleep scaled_sleep_duration\n",
       "1 -1.323627           1.430234                1.197953             \n",
       "2 -1.323627           1.430234                1.197953             \n",
       "3 -1.323627           1.430234                1.071024             \n",
       "4 -1.323627           1.430234                1.197953             \n",
       "5 -1.323627           1.430234                1.197953             \n",
       "6 -1.323627           1.430234                1.197953             "
      ]
     },
     "metadata": {},
     "output_type": "display_data"
    },
    {
     "data": {
      "text/html": [
       "<!doctype html>\n",
       "<html>\n",
       "\t<head>\n",
       "\t\t<meta charset=\"utf-8\">\n",
       "\t\t\n",
       "\t</head>\n",
       "\t<body>\n",
       "\t\t<h5>Table 4: Last Six Entries of Scaled Dataset</h5>\n",
       "\t</body>\n",
       "</html>\n"
      ],
      "text/plain": [
       "Shiny tags cannot be represented in plain text (need html)"
      ]
     },
     "metadata": {
      "text/html": {
       "isolated": true
      }
     },
     "output_type": "display_data"
    }
   ],
   "source": [
    "sleep_health_data_scaled <- sleep_health_data |>\n",
    "                        mutate(scaled_daily_steps = scale(daily_steps, center = TRUE),\n",
    "                               scaled_physical_activity = scale(physical_activity_level, center = TRUE),\n",
    "                                scaled_stress_level = scale(stress_level, center = TRUE),\n",
    "                              scaled_quality_of_sleep = scale(quality_of_sleep, center = TRUE),\n",
    "                              scaled_sleep_duration = scale(sleep_duration, center = TRUE)) \n",
    "head(sleep_health_data_scaled)\n",
    "h5('Table 3: First Six Entries of Scaled Dataset')\n",
    "tail(sleep_health_data_scaled)\n",
    "h5('Table 4: Last Six Entries of Scaled Dataset')\n"
   ]
  },
  {
   "cell_type": "markdown",
   "id": "6ef738fc-1e98-4d23-8857-9d6fe103fdf2",
   "metadata": {},
   "source": [
    "Using the `initial_split` function from the `tidymodels` package, the dataset `sleep_health_data` is split into training and testing sets. The prop parameter is set to 0.75, indicating that 75% of the data will be used for training and the remaining 25% for testing. The stratum parameter is specified as the `occupation` column, which ensures that the split maintains a proportional representation of various vocations in both the training and testing sets. The training and testing functions are then used to obtain training and testing subgroups from the split. The generated datasets, dubbed `sleep_train` and `sleep_test`, represent the partitions of the data selected for model training and evaluation, respectively. "
   ]
  },
  {
   "cell_type": "code",
   "execution_count": 14,
   "id": "fa06737c-6e0e-4ddd-9bef-eeb6430d7558",
   "metadata": {
    "tags": []
   },
   "outputs": [
    {
     "data": {
      "text/html": [
       "<table class=\"dataframe\">\n",
       "<caption>A tibble: 6 × 6</caption>\n",
       "<thead>\n",
       "\t<tr><th scope=col>occupation</th><th scope=col>daily_steps</th><th scope=col>physical_activity_level</th><th scope=col>stress_level</th><th scope=col>quality_of_sleep</th><th scope=col>sleep_duration</th></tr>\n",
       "\t<tr><th scope=col>&lt;fct&gt;</th><th scope=col>&lt;dbl&gt;</th><th scope=col>&lt;dbl&gt;</th><th scope=col>&lt;dbl&gt;</th><th scope=col>&lt;dbl&gt;</th><th scope=col>&lt;dbl&gt;</th></tr>\n",
       "</thead>\n",
       "<tbody>\n",
       "\t<tr><td>Accountant</td><td>7000</td><td>50</td><td>6</td><td>8</td><td>7.2</td></tr>\n",
       "\t<tr><td>Accountant</td><td>7000</td><td>60</td><td>4</td><td>8</td><td>7.2</td></tr>\n",
       "\t<tr><td>Accountant</td><td>7000</td><td>60</td><td>4</td><td>8</td><td>7.1</td></tr>\n",
       "\t<tr><td>Accountant</td><td>7000</td><td>60</td><td>4</td><td>8</td><td>7.1</td></tr>\n",
       "\t<tr><td>Accountant</td><td>7000</td><td>60</td><td>4</td><td>8</td><td>7.2</td></tr>\n",
       "\t<tr><td>Accountant</td><td>7000</td><td>60</td><td>4</td><td>8</td><td>7.2</td></tr>\n",
       "</tbody>\n",
       "</table>\n"
      ],
      "text/latex": [
       "A tibble: 6 × 6\n",
       "\\begin{tabular}{llllll}\n",
       " occupation & daily\\_steps & physical\\_activity\\_level & stress\\_level & quality\\_of\\_sleep & sleep\\_duration\\\\\n",
       " <fct> & <dbl> & <dbl> & <dbl> & <dbl> & <dbl>\\\\\n",
       "\\hline\n",
       "\t Accountant & 7000 & 50 & 6 & 8 & 7.2\\\\\n",
       "\t Accountant & 7000 & 60 & 4 & 8 & 7.2\\\\\n",
       "\t Accountant & 7000 & 60 & 4 & 8 & 7.1\\\\\n",
       "\t Accountant & 7000 & 60 & 4 & 8 & 7.1\\\\\n",
       "\t Accountant & 7000 & 60 & 4 & 8 & 7.2\\\\\n",
       "\t Accountant & 7000 & 60 & 4 & 8 & 7.2\\\\\n",
       "\\end{tabular}\n"
      ],
      "text/markdown": [
       "\n",
       "A tibble: 6 × 6\n",
       "\n",
       "| occupation &lt;fct&gt; | daily_steps &lt;dbl&gt; | physical_activity_level &lt;dbl&gt; | stress_level &lt;dbl&gt; | quality_of_sleep &lt;dbl&gt; | sleep_duration &lt;dbl&gt; |\n",
       "|---|---|---|---|---|---|\n",
       "| Accountant | 7000 | 50 | 6 | 8 | 7.2 |\n",
       "| Accountant | 7000 | 60 | 4 | 8 | 7.2 |\n",
       "| Accountant | 7000 | 60 | 4 | 8 | 7.1 |\n",
       "| Accountant | 7000 | 60 | 4 | 8 | 7.1 |\n",
       "| Accountant | 7000 | 60 | 4 | 8 | 7.2 |\n",
       "| Accountant | 7000 | 60 | 4 | 8 | 7.2 |\n",
       "\n"
      ],
      "text/plain": [
       "  occupation daily_steps physical_activity_level stress_level quality_of_sleep\n",
       "1 Accountant 7000        50                      6            8               \n",
       "2 Accountant 7000        60                      4            8               \n",
       "3 Accountant 7000        60                      4            8               \n",
       "4 Accountant 7000        60                      4            8               \n",
       "5 Accountant 7000        60                      4            8               \n",
       "6 Accountant 7000        60                      4            8               \n",
       "  sleep_duration\n",
       "1 7.2           \n",
       "2 7.2           \n",
       "3 7.1           \n",
       "4 7.1           \n",
       "5 7.2           \n",
       "6 7.2           "
      ]
     },
     "metadata": {},
     "output_type": "display_data"
    },
    {
     "data": {
      "text/html": [
       "<!doctype html>\n",
       "<html>\n",
       "\t<head>\n",
       "\t\t<meta charset=\"utf-8\">\n",
       "\t\t\n",
       "\t</head>\n",
       "\t<body>\n",
       "\t\t<h5>Table 5: First Six Entries of Training Data</h5>\n",
       "\t</body>\n",
       "</html>\n"
      ],
      "text/plain": [
       "Shiny tags cannot be represented in plain text (need html)"
      ]
     },
     "metadata": {
      "text/html": {
       "isolated": true
      }
     },
     "output_type": "display_data"
    },
    {
     "data": {
      "text/html": [
       "<table class=\"dataframe\">\n",
       "<caption>A tibble: 6 × 6</caption>\n",
       "<thead>\n",
       "\t<tr><th scope=col>occupation</th><th scope=col>daily_steps</th><th scope=col>physical_activity_level</th><th scope=col>stress_level</th><th scope=col>quality_of_sleep</th><th scope=col>sleep_duration</th></tr>\n",
       "\t<tr><th scope=col>&lt;fct&gt;</th><th scope=col>&lt;dbl&gt;</th><th scope=col>&lt;dbl&gt;</th><th scope=col>&lt;dbl&gt;</th><th scope=col>&lt;dbl&gt;</th><th scope=col>&lt;dbl&gt;</th></tr>\n",
       "</thead>\n",
       "<tbody>\n",
       "\t<tr><td>Teacher</td><td>3500</td><td>40</td><td>7</td><td>6</td><td>6.3</td></tr>\n",
       "\t<tr><td>Doctor </td><td>8000</td><td>30</td><td>8</td><td>6</td><td>6.0</td></tr>\n",
       "\t<tr><td>Doctor </td><td>8000</td><td>30</td><td>8</td><td>6</td><td>6.0</td></tr>\n",
       "\t<tr><td>Doctor </td><td>8000</td><td>75</td><td>6</td><td>7</td><td>7.8</td></tr>\n",
       "\t<tr><td>Doctor </td><td>8000</td><td>75</td><td>6</td><td>7</td><td>7.7</td></tr>\n",
       "\t<tr><td>Doctor </td><td>5000</td><td>30</td><td>8</td><td>6</td><td>6.1</td></tr>\n",
       "</tbody>\n",
       "</table>\n"
      ],
      "text/latex": [
       "A tibble: 6 × 6\n",
       "\\begin{tabular}{llllll}\n",
       " occupation & daily\\_steps & physical\\_activity\\_level & stress\\_level & quality\\_of\\_sleep & sleep\\_duration\\\\\n",
       " <fct> & <dbl> & <dbl> & <dbl> & <dbl> & <dbl>\\\\\n",
       "\\hline\n",
       "\t Teacher & 3500 & 40 & 7 & 6 & 6.3\\\\\n",
       "\t Doctor  & 8000 & 30 & 8 & 6 & 6.0\\\\\n",
       "\t Doctor  & 8000 & 30 & 8 & 6 & 6.0\\\\\n",
       "\t Doctor  & 8000 & 75 & 6 & 7 & 7.8\\\\\n",
       "\t Doctor  & 8000 & 75 & 6 & 7 & 7.7\\\\\n",
       "\t Doctor  & 5000 & 30 & 8 & 6 & 6.1\\\\\n",
       "\\end{tabular}\n"
      ],
      "text/markdown": [
       "\n",
       "A tibble: 6 × 6\n",
       "\n",
       "| occupation &lt;fct&gt; | daily_steps &lt;dbl&gt; | physical_activity_level &lt;dbl&gt; | stress_level &lt;dbl&gt; | quality_of_sleep &lt;dbl&gt; | sleep_duration &lt;dbl&gt; |\n",
       "|---|---|---|---|---|---|\n",
       "| Teacher | 3500 | 40 | 7 | 6 | 6.3 |\n",
       "| Doctor  | 8000 | 30 | 8 | 6 | 6.0 |\n",
       "| Doctor  | 8000 | 30 | 8 | 6 | 6.0 |\n",
       "| Doctor  | 8000 | 75 | 6 | 7 | 7.8 |\n",
       "| Doctor  | 8000 | 75 | 6 | 7 | 7.7 |\n",
       "| Doctor  | 5000 | 30 | 8 | 6 | 6.1 |\n",
       "\n"
      ],
      "text/plain": [
       "  occupation daily_steps physical_activity_level stress_level quality_of_sleep\n",
       "1 Teacher    3500        40                      7            6               \n",
       "2 Doctor     8000        30                      8            6               \n",
       "3 Doctor     8000        30                      8            6               \n",
       "4 Doctor     8000        75                      6            7               \n",
       "5 Doctor     8000        75                      6            7               \n",
       "6 Doctor     5000        30                      8            6               \n",
       "  sleep_duration\n",
       "1 6.3           \n",
       "2 6.0           \n",
       "3 6.0           \n",
       "4 7.8           \n",
       "5 7.7           \n",
       "6 6.1           "
      ]
     },
     "metadata": {},
     "output_type": "display_data"
    },
    {
     "data": {
      "text/html": [
       "<!doctype html>\n",
       "<html>\n",
       "\t<head>\n",
       "\t\t<meta charset=\"utf-8\">\n",
       "\t\t\n",
       "\t</head>\n",
       "\t<body>\n",
       "\t\t<h5>Table 6: First Six Entries of Testing Data</h5>\n",
       "\t</body>\n",
       "</html>\n"
      ],
      "text/plain": [
       "Shiny tags cannot be represented in plain text (need html)"
      ]
     },
     "metadata": {
      "text/html": {
       "isolated": true
      }
     },
     "output_type": "display_data"
    }
   ],
   "source": [
    "sleep_health_data_split <- initial_split(sleep_health_data, prop = 0.75, strata = occupation)\n",
    "\n",
    "\n",
    "sleep_train <- training(sleep_health_data_split)   \n",
    "sleep_test <- testing(sleep_health_data_split)\n",
    "\n",
    "head(sleep_train)\n",
    "h5('Table 5: First Six Entries of Training Data')\n",
    "head(sleep_test)\n",
    "h5('Table 6: First Six Entries of Testing Data')"
   ]
  },
  {
   "cell_type": "markdown",
   "id": "78b42f93-c94a-4ff5-bf8e-f97b4c54b02f",
   "metadata": {},
   "source": [
    "To preprocess the training data (`sleep_train`), a recipe is constructed using the tidymodels package. The `recipe` function specifies that the goal variable is 'occupation,' and the '~.' notation indicates that the other variables are predictors. Following that, the `step_scale` and `step_center` functions are used to standardise and centre all predictor variables, guaranteeing that they have a mean of 0 and a normal deviation of 1.\n",
    "\n",
    "The `nearest_neighbor` function is used to provide a k-nearest neighbours (k-NN) model. The weight function \"rectangular\" is chosen, and the number of neighbours is set to be adjusted. The model is then configured for classification using the \"kknn\" engine's `set_engine` and `set_mode` methods.\n",
    "\n",
    "The `vfold_cv` function is used to generate a stratified 5-fold cross-validation plan (`sleep_vfold`). A tibble (`k_vals`) is also created, which specifies a range of neighbour values from 2 to 9 for tweaking the k-NN model.\n",
    "\n",
    "Combining the pre-processing recipe (`sleep_recipe`) and the k-NN model specification (`sleep_spec`) creates the workflow. The `tune_grid` function is used to find the best number of neighbours based on cross-validated performance indicators, and the results are collected and saved in the `sleep_results` object.\n",
    "\n",
    "`ggplot2` is used to extract and visualise the accuracy findings. The accuracy vs the number of neighbours is plotted, offering insight into the model's performance at various k values. This visualisation assists in determining the best k value for the k-NN model."
   ]
  },
  {
   "cell_type": "code",
   "execution_count": 20,
   "id": "eeeb2f62-e8bb-4aae-bd95-c30e8f8759a2",
   "metadata": {
    "tags": []
   },
   "outputs": [
    {
     "data": {
      "application/pdf": "[encoded data removed]",
      "image/jpeg": "[encoded data removed]",
      "image/png": "[encoded data removed]",
      "image/svg+xml": [
       "<?xml version=\"1.0\" encoding=\"UTF-8\"?>\n",
       "<svg xmlns=\"http://www.w3.org/2000/svg\" xmlns:xlink=\"http://www.w3.org/1999/xlink\" width=\"432pt\" height=\"432pt\" viewBox=\"0 0 432 432\" version=\"1.1\">\n",
       "<defs>\n",
       "<g>\n",
       "<symbol overflow=\"visible\" id=\"glyph0-0\">\n",
       "<path style=\"stroke:none;\" d=\"M 0.3125 0 L 0.3125 -6.390625 L 2.859375 -6.390625 L 2.859375 0 Z M 0.640625 -0.3125 L 2.546875 -0.3125 L 2.546875 -6.078125 L 0.640625 -6.078125 Z M 0.640625 -0.3125 \"/>\n",
       "</symbol>\n",
       "<symbol overflow=\"visible\" id=\"glyph0-1\">\n",
       "<path style=\"stroke:none;\" d=\"M 4.953125 -3.296875 C 4.953125 -2.671875 4.890625 -2.140625 4.765625 -1.703125 C 4.648438 -1.265625 4.488281 -0.910156 4.28125 -0.640625 C 4.082031 -0.378906 3.84375 -0.191406 3.5625 -0.078125 C 3.28125 0.0351562 2.976562 0.09375 2.65625 0.09375 C 2.332031 0.09375 2.03125 0.0351562 1.75 -0.078125 C 1.476562 -0.191406 1.238281 -0.378906 1.03125 -0.640625 C 0.820312 -0.910156 0.660156 -1.257812 0.546875 -1.6875 C 0.429688 -2.125 0.375 -2.660156 0.375 -3.296875 C 0.375 -3.960938 0.429688 -4.515625 0.546875 -4.953125 C 0.660156 -5.390625 0.820312 -5.738281 1.03125 -6 C 1.238281 -6.257812 1.484375 -6.441406 1.765625 -6.546875 C 2.046875 -6.648438 2.351562 -6.703125 2.6875 -6.703125 C 3 -6.703125 3.289062 -6.648438 3.5625 -6.546875 C 3.84375 -6.441406 4.085938 -6.257812 4.296875 -6 C 4.503906 -5.738281 4.664062 -5.390625 4.78125 -4.953125 C 4.894531 -4.515625 4.953125 -3.960938 4.953125 -3.296875 Z M 4.109375 -3.296875 C 4.109375 -3.828125 4.078125 -4.265625 4.015625 -4.609375 C 3.953125 -4.960938 3.859375 -5.238281 3.734375 -5.4375 C 3.609375 -5.644531 3.457031 -5.789062 3.28125 -5.875 C 3.101562 -5.96875 2.90625 -6.015625 2.6875 -6.015625 C 2.445312 -6.015625 2.234375 -5.96875 2.046875 -5.875 C 1.867188 -5.789062 1.71875 -5.644531 1.59375 -5.4375 C 1.476562 -5.226562 1.390625 -4.945312 1.328125 -4.59375 C 1.265625 -4.25 1.234375 -3.816406 1.234375 -3.296875 C 1.234375 -2.796875 1.265625 -2.367188 1.328125 -2.015625 C 1.390625 -1.671875 1.484375 -1.394531 1.609375 -1.1875 C 1.734375 -0.976562 1.882812 -0.828125 2.0625 -0.734375 C 2.238281 -0.640625 2.441406 -0.59375 2.671875 -0.59375 C 2.890625 -0.59375 3.085938 -0.640625 3.265625 -0.734375 C 3.441406 -0.828125 3.59375 -0.976562 3.71875 -1.1875 C 3.84375 -1.394531 3.9375 -1.671875 4 -2.015625 C 4.070312 -2.367188 4.109375 -2.796875 4.109375 -3.296875 Z M 4.109375 -3.296875 \"/>\n",
       "</symbol>\n",
       "<symbol overflow=\"visible\" id=\"glyph0-2\">\n",
       "<path style=\"stroke:none;\" d=\"M 0.875 0 L 0.875 -1.03125 L 1.796875 -1.03125 L 1.796875 0 Z M 0.875 0 \"/>\n",
       "</symbol>\n",
       "<symbol overflow=\"visible\" id=\"glyph0-3\">\n",
       "<path style=\"stroke:none;\" d=\"M 4.921875 -1.84375 C 4.921875 -1.5625 4.875 -1.300781 4.78125 -1.0625 C 4.695312 -0.832031 4.5625 -0.628906 4.375 -0.453125 C 4.195312 -0.285156 3.960938 -0.148438 3.671875 -0.046875 C 3.390625 0.046875 3.054688 0.09375 2.671875 0.09375 C 2.285156 0.09375 1.945312 0.046875 1.65625 -0.046875 C 1.375 -0.148438 1.140625 -0.285156 0.953125 -0.453125 C 0.773438 -0.617188 0.640625 -0.820312 0.546875 -1.0625 C 0.460938 -1.300781 0.421875 -1.554688 0.421875 -1.828125 C 0.421875 -2.066406 0.457031 -2.28125 0.53125 -2.46875 C 0.601562 -2.65625 0.695312 -2.816406 0.8125 -2.953125 C 0.9375 -3.085938 1.078125 -3.195312 1.234375 -3.28125 C 1.398438 -3.363281 1.566406 -3.421875 1.734375 -3.453125 L 1.734375 -3.46875 C 1.546875 -3.507812 1.378906 -3.578125 1.234375 -3.671875 C 1.085938 -3.773438 0.960938 -3.894531 0.859375 -4.03125 C 0.765625 -4.164062 0.691406 -4.316406 0.640625 -4.484375 C 0.597656 -4.648438 0.578125 -4.820312 0.578125 -5 C 0.578125 -5.238281 0.617188 -5.457031 0.703125 -5.65625 C 0.796875 -5.863281 0.925781 -6.046875 1.09375 -6.203125 C 1.269531 -6.359375 1.488281 -6.476562 1.75 -6.5625 C 2.007812 -6.65625 2.3125 -6.703125 2.65625 -6.703125 C 3.007812 -6.703125 3.316406 -6.65625 3.578125 -6.5625 C 3.847656 -6.46875 4.066406 -6.34375 4.234375 -6.1875 C 4.410156 -6.039062 4.539062 -5.863281 4.625 -5.65625 C 4.707031 -5.445312 4.75 -5.226562 4.75 -5 C 4.75 -4.820312 4.722656 -4.648438 4.671875 -4.484375 C 4.617188 -4.316406 4.546875 -4.164062 4.453125 -4.03125 C 4.359375 -3.894531 4.238281 -3.773438 4.09375 -3.671875 C 3.945312 -3.578125 3.773438 -3.515625 3.578125 -3.484375 L 3.578125 -3.46875 C 3.773438 -3.4375 3.953125 -3.378906 4.109375 -3.296875 C 4.273438 -3.210938 4.414062 -3.101562 4.53125 -2.96875 C 4.65625 -2.832031 4.75 -2.671875 4.8125 -2.484375 C 4.882812 -2.296875 4.921875 -2.082031 4.921875 -1.84375 Z M 3.875 -4.953125 C 3.875 -5.117188 3.851562 -5.269531 3.8125 -5.40625 C 3.769531 -5.539062 3.703125 -5.65625 3.609375 -5.75 C 3.515625 -5.851562 3.390625 -5.929688 3.234375 -5.984375 C 3.078125 -6.046875 2.882812 -6.078125 2.65625 -6.078125 C 2.425781 -6.078125 2.234375 -6.046875 2.078125 -5.984375 C 1.929688 -5.929688 1.804688 -5.851562 1.703125 -5.75 C 1.609375 -5.65625 1.539062 -5.539062 1.5 -5.40625 C 1.457031 -5.269531 1.4375 -5.117188 1.4375 -4.953125 C 1.4375 -4.816406 1.453125 -4.679688 1.484375 -4.546875 C 1.515625 -4.410156 1.578125 -4.285156 1.671875 -4.171875 C 1.765625 -4.054688 1.890625 -3.960938 2.046875 -3.890625 C 2.203125 -3.828125 2.40625 -3.796875 2.65625 -3.796875 C 2.925781 -3.796875 3.140625 -3.828125 3.296875 -3.890625 C 3.460938 -3.960938 3.585938 -4.054688 3.671875 -4.171875 C 3.753906 -4.285156 3.804688 -4.410156 3.828125 -4.546875 C 3.859375 -4.679688 3.875 -4.816406 3.875 -4.953125 Z M 4.046875 -1.921875 C 4.046875 -2.078125 4.019531 -2.226562 3.96875 -2.375 C 3.925781 -2.53125 3.851562 -2.664062 3.75 -2.78125 C 3.644531 -2.894531 3.5 -2.984375 3.3125 -3.046875 C 3.132812 -3.117188 2.914062 -3.15625 2.65625 -3.15625 C 2.40625 -3.15625 2.191406 -3.117188 2.015625 -3.046875 C 1.847656 -2.984375 1.707031 -2.890625 1.59375 -2.765625 C 1.488281 -2.648438 1.410156 -2.515625 1.359375 -2.359375 C 1.304688 -2.210938 1.28125 -2.0625 1.28125 -1.90625 C 1.28125 -1.695312 1.304688 -1.507812 1.359375 -1.34375 C 1.410156 -1.175781 1.488281 -1.03125 1.59375 -0.90625 C 1.707031 -0.789062 1.851562 -0.695312 2.03125 -0.625 C 2.207031 -0.5625 2.421875 -0.53125 2.671875 -0.53125 C 2.929688 -0.53125 3.148438 -0.5625 3.328125 -0.625 C 3.503906 -0.695312 3.644531 -0.789062 3.75 -0.90625 C 3.851562 -1.03125 3.925781 -1.175781 3.96875 -1.34375 C 4.019531 -1.519531 4.046875 -1.710938 4.046875 -1.921875 Z M 4.046875 -1.921875 \"/>\n",
       "</symbol>\n",
       "<symbol overflow=\"visible\" id=\"glyph0-4\">\n",
       "<path style=\"stroke:none;\" d=\"M 0.734375 0 L 0.734375 -0.71875 L 2.40625 -0.71875 L 2.40625 -5.796875 L 0.921875 -4.734375 L 0.921875 -5.53125 L 2.484375 -6.59375 L 3.265625 -6.59375 L 3.265625 -0.71875 L 4.859375 -0.71875 L 4.859375 0 Z M 0.734375 0 \"/>\n",
       "</symbol>\n",
       "<symbol overflow=\"visible\" id=\"glyph0-5\">\n",
       "<path style=\"stroke:none;\" d=\"M 4.125 -1.5 L 4.125 0 L 3.328125 0 L 3.328125 -1.5 L 0.21875 -1.5 L 0.21875 -2.15625 L 3.234375 -6.59375 L 4.125 -6.59375 L 4.125 -2.15625 L 5.046875 -2.15625 L 5.046875 -1.5 Z M 3.328125 -5.65625 C 3.328125 -5.632812 3.3125 -5.597656 3.28125 -5.546875 C 3.257812 -5.503906 3.234375 -5.457031 3.203125 -5.40625 C 3.171875 -5.351562 3.132812 -5.296875 3.09375 -5.234375 C 3.0625 -5.171875 3.035156 -5.125 3.015625 -5.09375 L 1.328125 -2.59375 C 1.304688 -2.570312 1.28125 -2.539062 1.25 -2.5 C 1.226562 -2.457031 1.203125 -2.414062 1.171875 -2.375 C 1.140625 -2.332031 1.109375 -2.289062 1.078125 -2.25 C 1.046875 -2.207031 1.019531 -2.175781 1 -2.15625 L 3.328125 -2.15625 Z M 3.328125 -5.65625 \"/>\n",
       "</symbol>\n",
       "<symbol overflow=\"visible\" id=\"glyph0-6\">\n",
       "<path style=\"stroke:none;\" d=\"M 4.859375 -5.921875 C 4.523438 -5.410156 4.21875 -4.921875 3.9375 -4.453125 C 3.65625 -3.984375 3.414062 -3.515625 3.21875 -3.046875 C 3.019531 -2.578125 2.863281 -2.09375 2.75 -1.59375 C 2.644531 -1.09375 2.59375 -0.5625 2.59375 0 L 1.703125 0 C 1.703125 -0.53125 1.765625 -1.046875 1.890625 -1.546875 C 2.015625 -2.054688 2.179688 -2.554688 2.390625 -3.046875 C 2.609375 -3.535156 2.859375 -4.015625 3.140625 -4.484375 C 3.421875 -4.953125 3.71875 -5.421875 4.03125 -5.890625 L 0.484375 -5.890625 L 0.484375 -6.59375 L 4.859375 -6.59375 Z M 4.859375 -5.921875 \"/>\n",
       "</symbol>\n",
       "<symbol overflow=\"visible\" id=\"glyph0-7\">\n",
       "<path style=\"stroke:none;\" d=\"M 4.875 -3.4375 C 4.875 -2.84375 4.816406 -2.328125 4.703125 -1.890625 C 4.597656 -1.453125 4.441406 -1.082031 4.234375 -0.78125 C 4.035156 -0.488281 3.785156 -0.269531 3.484375 -0.125 C 3.191406 0.0195312 2.859375 0.09375 2.484375 0.09375 C 2.234375 0.09375 2.003906 0.0664062 1.796875 0.015625 C 1.597656 -0.0351562 1.421875 -0.113281 1.265625 -0.21875 C 1.109375 -0.332031 0.972656 -0.472656 0.859375 -0.640625 C 0.742188 -0.816406 0.648438 -1.03125 0.578125 -1.28125 L 1.390625 -1.40625 C 1.472656 -1.125 1.609375 -0.914062 1.796875 -0.78125 C 1.984375 -0.644531 2.21875 -0.578125 2.5 -0.578125 C 2.726562 -0.578125 2.9375 -0.628906 3.125 -0.734375 C 3.320312 -0.847656 3.484375 -1.015625 3.609375 -1.234375 C 3.742188 -1.453125 3.847656 -1.722656 3.921875 -2.046875 C 3.992188 -2.367188 4.035156 -2.75 4.046875 -3.1875 C 3.984375 -3.039062 3.894531 -2.910156 3.78125 -2.796875 C 3.664062 -2.679688 3.535156 -2.582031 3.390625 -2.5 C 3.242188 -2.414062 3.085938 -2.351562 2.921875 -2.3125 C 2.753906 -2.269531 2.582031 -2.25 2.40625 -2.25 C 2.101562 -2.25 1.832031 -2.300781 1.59375 -2.40625 C 1.351562 -2.519531 1.144531 -2.671875 0.96875 -2.859375 C 0.800781 -3.054688 0.671875 -3.289062 0.578125 -3.5625 C 0.492188 -3.84375 0.453125 -4.148438 0.453125 -4.484375 C 0.453125 -4.816406 0.5 -5.117188 0.59375 -5.390625 C 0.695312 -5.671875 0.84375 -5.90625 1.03125 -6.09375 C 1.21875 -6.289062 1.445312 -6.441406 1.71875 -6.546875 C 1.988281 -6.648438 2.296875 -6.703125 2.640625 -6.703125 C 3.378906 -6.703125 3.9375 -6.425781 4.3125 -5.875 C 4.6875 -5.332031 4.875 -4.519531 4.875 -3.4375 Z M 3.96875 -4.25 C 3.96875 -4.488281 3.9375 -4.71875 3.875 -4.9375 C 3.820312 -5.15625 3.738281 -5.34375 3.625 -5.5 C 3.507812 -5.65625 3.367188 -5.78125 3.203125 -5.875 C 3.035156 -5.96875 2.84375 -6.015625 2.625 -6.015625 C 2.414062 -6.015625 2.226562 -5.976562 2.0625 -5.90625 C 1.90625 -5.832031 1.769531 -5.726562 1.65625 -5.59375 C 1.539062 -5.46875 1.453125 -5.304688 1.390625 -5.109375 C 1.335938 -4.921875 1.3125 -4.710938 1.3125 -4.484375 C 1.3125 -4.253906 1.335938 -4.046875 1.390625 -3.859375 C 1.441406 -3.671875 1.519531 -3.503906 1.625 -3.359375 C 1.738281 -3.222656 1.875 -3.113281 2.03125 -3.03125 C 2.195312 -2.957031 2.390625 -2.921875 2.609375 -2.921875 C 2.765625 -2.921875 2.921875 -2.945312 3.078125 -3 C 3.242188 -3.050781 3.390625 -3.128906 3.515625 -3.234375 C 3.648438 -3.347656 3.757812 -3.488281 3.84375 -3.65625 C 3.925781 -3.820312 3.96875 -4.019531 3.96875 -4.25 Z M 3.96875 -4.25 \"/>\n",
       "</symbol>\n",
       "<symbol overflow=\"visible\" id=\"glyph0-8\">\n",
       "<path style=\"stroke:none;\" d=\"M 0.484375 0 L 0.484375 -0.59375 C 0.640625 -0.957031 0.832031 -1.28125 1.0625 -1.5625 C 1.289062 -1.84375 1.53125 -2.09375 1.78125 -2.3125 C 2.039062 -2.539062 2.289062 -2.75 2.53125 -2.9375 C 2.78125 -3.132812 3.003906 -3.332031 3.203125 -3.53125 C 3.410156 -3.726562 3.578125 -3.929688 3.703125 -4.140625 C 3.828125 -4.347656 3.890625 -4.585938 3.890625 -4.859375 C 3.890625 -5.046875 3.859375 -5.207031 3.796875 -5.34375 C 3.742188 -5.488281 3.660156 -5.609375 3.546875 -5.703125 C 3.441406 -5.804688 3.316406 -5.878906 3.171875 -5.921875 C 3.023438 -5.972656 2.859375 -6 2.671875 -6 C 2.503906 -6 2.347656 -5.972656 2.203125 -5.921875 C 2.054688 -5.878906 1.925781 -5.8125 1.8125 -5.71875 C 1.695312 -5.625 1.601562 -5.507812 1.53125 -5.375 C 1.457031 -5.238281 1.40625 -5.078125 1.375 -4.890625 L 0.515625 -4.96875 C 0.546875 -5.207031 0.613281 -5.429688 0.71875 -5.640625 C 0.820312 -5.847656 0.960938 -6.03125 1.140625 -6.1875 C 1.328125 -6.34375 1.546875 -6.46875 1.796875 -6.5625 C 2.046875 -6.65625 2.335938 -6.703125 2.671875 -6.703125 C 3.003906 -6.703125 3.296875 -6.660156 3.546875 -6.578125 C 3.804688 -6.503906 4.023438 -6.390625 4.203125 -6.234375 C 4.378906 -6.078125 4.515625 -5.882812 4.609375 -5.65625 C 4.703125 -5.4375 4.75 -5.179688 4.75 -4.890625 C 4.75 -4.671875 4.707031 -4.457031 4.625 -4.25 C 4.550781 -4.050781 4.445312 -3.863281 4.3125 -3.6875 C 4.175781 -3.507812 4.019531 -3.332031 3.84375 -3.15625 C 3.675781 -2.988281 3.492188 -2.820312 3.296875 -2.65625 C 3.109375 -2.5 2.914062 -2.34375 2.71875 -2.1875 C 2.53125 -2.03125 2.347656 -1.867188 2.171875 -1.703125 C 2.003906 -1.546875 1.851562 -1.382812 1.71875 -1.21875 C 1.582031 -1.0625 1.476562 -0.894531 1.40625 -0.71875 L 4.859375 -0.71875 L 4.859375 0 Z M 0.484375 0 \"/>\n",
       "</symbol>\n",
       "<symbol overflow=\"visible\" id=\"glyph0-9\">\n",
       "<path style=\"stroke:none;\" d=\"M 4.90625 -2.15625 C 4.90625 -1.820312 4.859375 -1.515625 4.765625 -1.234375 C 4.679688 -0.960938 4.546875 -0.726562 4.359375 -0.53125 C 4.179688 -0.332031 3.957031 -0.175781 3.6875 -0.0625 C 3.425781 0.0390625 3.125 0.09375 2.78125 0.09375 C 2.394531 0.09375 2.054688 0.0195312 1.765625 -0.125 C 1.484375 -0.269531 1.242188 -0.476562 1.046875 -0.75 C 0.859375 -1.03125 0.71875 -1.367188 0.625 -1.765625 C 0.53125 -2.171875 0.484375 -2.628906 0.484375 -3.140625 C 0.484375 -3.734375 0.535156 -4.25 0.640625 -4.6875 C 0.753906 -5.132812 0.910156 -5.503906 1.109375 -5.796875 C 1.316406 -6.097656 1.566406 -6.320312 1.859375 -6.46875 C 2.148438 -6.625 2.476562 -6.703125 2.84375 -6.703125 C 3.070312 -6.703125 3.285156 -6.675781 3.484375 -6.625 C 3.679688 -6.582031 3.859375 -6.507812 4.015625 -6.40625 C 4.179688 -6.300781 4.320312 -6.160156 4.4375 -5.984375 C 4.5625 -5.816406 4.660156 -5.609375 4.734375 -5.359375 L 3.921875 -5.203125 C 3.835938 -5.492188 3.695312 -5.703125 3.5 -5.828125 C 3.3125 -5.953125 3.09375 -6.015625 2.84375 -6.015625 C 2.601562 -6.015625 2.390625 -5.957031 2.203125 -5.84375 C 2.023438 -5.738281 1.867188 -5.578125 1.734375 -5.359375 C 1.597656 -5.140625 1.492188 -4.863281 1.421875 -4.53125 C 1.359375 -4.207031 1.328125 -3.828125 1.328125 -3.390625 C 1.484375 -3.679688 1.695312 -3.898438 1.96875 -4.046875 C 2.25 -4.191406 2.566406 -4.265625 2.921875 -4.265625 C 3.222656 -4.265625 3.492188 -4.21875 3.734375 -4.125 C 3.984375 -4.03125 4.191406 -3.890625 4.359375 -3.703125 C 4.535156 -3.515625 4.671875 -3.289062 4.765625 -3.03125 C 4.859375 -2.769531 4.90625 -2.476562 4.90625 -2.15625 Z M 4.0625 -2.125 C 4.0625 -2.351562 4.03125 -2.554688 3.96875 -2.734375 C 3.914062 -2.921875 3.832031 -3.078125 3.71875 -3.203125 C 3.601562 -3.335938 3.460938 -3.4375 3.296875 -3.5 C 3.128906 -3.570312 2.9375 -3.609375 2.71875 -3.609375 C 2.570312 -3.609375 2.421875 -3.585938 2.265625 -3.546875 C 2.109375 -3.503906 1.96875 -3.429688 1.84375 -3.328125 C 1.71875 -3.222656 1.613281 -3.085938 1.53125 -2.921875 C 1.445312 -2.753906 1.40625 -2.554688 1.40625 -2.328125 C 1.40625 -2.078125 1.4375 -1.847656 1.5 -1.640625 C 1.5625 -1.429688 1.648438 -1.25 1.765625 -1.09375 C 1.890625 -0.9375 2.03125 -0.8125 2.1875 -0.71875 C 2.351562 -0.625 2.539062 -0.578125 2.75 -0.578125 C 2.957031 -0.578125 3.140625 -0.613281 3.296875 -0.6875 C 3.460938 -0.757812 3.597656 -0.859375 3.703125 -0.984375 C 3.816406 -1.117188 3.90625 -1.28125 3.96875 -1.46875 C 4.03125 -1.664062 4.0625 -1.882812 4.0625 -2.125 Z M 4.0625 -2.125 \"/>\n",
       "</symbol>\n",
       "<symbol overflow=\"visible\" id=\"glyph1-0\">\n",
       "<path style=\"stroke:none;\" d=\"M 0.40625 0 L 0.40625 -8 L 3.59375 -8 L 3.59375 0 Z M 0.796875 -0.40625 L 3.1875 -0.40625 L 3.1875 -7.59375 L 0.796875 -7.59375 Z M 0.796875 -0.40625 \"/>\n",
       "</symbol>\n",
       "<symbol overflow=\"visible\" id=\"glyph1-1\">\n",
       "<path style=\"stroke:none;\" d=\"M 6.34375 0 L 1.921875 -7.03125 C 1.929688 -6.84375 1.941406 -6.65625 1.953125 -6.46875 C 1.960938 -6.300781 1.96875 -6.128906 1.96875 -5.953125 C 1.976562 -5.773438 1.984375 -5.617188 1.984375 -5.484375 L 1.984375 0 L 0.984375 0 L 0.984375 -8.25 L 2.28125 -8.25 L 6.75 -1.171875 C 6.738281 -1.367188 6.726562 -1.5625 6.71875 -1.75 C 6.707031 -1.914062 6.695312 -2.09375 6.6875 -2.28125 C 6.6875 -2.476562 6.6875 -2.664062 6.6875 -2.84375 L 6.6875 -8.25 L 7.6875 -8.25 L 7.6875 0 Z M 6.34375 0 \"/>\n",
       "</symbol>\n",
       "<symbol overflow=\"visible\" id=\"glyph1-2\">\n",
       "<path style=\"stroke:none;\" d=\"M 1.625 -2.953125 C 1.625 -2.617188 1.65625 -2.3125 1.71875 -2.03125 C 1.789062 -1.75 1.894531 -1.507812 2.03125 -1.3125 C 2.175781 -1.113281 2.359375 -0.957031 2.578125 -0.84375 C 2.804688 -0.726562 3.078125 -0.671875 3.390625 -0.671875 C 3.847656 -0.671875 4.210938 -0.757812 4.484375 -0.9375 C 4.765625 -1.125 4.953125 -1.359375 5.046875 -1.640625 L 5.96875 -1.390625 C 5.90625 -1.210938 5.8125 -1.035156 5.6875 -0.859375 C 5.570312 -0.679688 5.414062 -0.519531 5.21875 -0.375 C 5.019531 -0.226562 4.769531 -0.109375 4.46875 -0.015625 C 4.164062 0.078125 3.804688 0.125 3.390625 0.125 C 2.453125 0.125 1.738281 -0.15625 1.25 -0.71875 C 0.757812 -1.28125 0.515625 -2.113281 0.515625 -3.21875 C 0.515625 -3.8125 0.585938 -4.3125 0.734375 -4.71875 C 0.878906 -5.132812 1.082031 -5.46875 1.34375 -5.71875 C 1.601562 -5.976562 1.90625 -6.164062 2.25 -6.28125 C 2.59375 -6.394531 2.957031 -6.453125 3.34375 -6.453125 C 3.875 -6.453125 4.316406 -6.363281 4.671875 -6.1875 C 5.035156 -6.019531 5.320312 -5.785156 5.53125 -5.484375 C 5.75 -5.179688 5.90625 -4.820312 6 -4.40625 C 6.09375 -4 6.140625 -3.5625 6.140625 -3.09375 L 6.140625 -2.953125 Z M 5.046875 -3.75 C 4.992188 -4.425781 4.828125 -4.914062 4.546875 -5.21875 C 4.265625 -5.519531 3.859375 -5.671875 3.328125 -5.671875 C 3.148438 -5.671875 2.960938 -5.644531 2.765625 -5.59375 C 2.578125 -5.539062 2.398438 -5.441406 2.234375 -5.296875 C 2.078125 -5.148438 1.941406 -4.953125 1.828125 -4.703125 C 1.710938 -4.453125 1.644531 -4.132812 1.625 -3.75 Z M 5.046875 -3.75 \"/>\n",
       "</symbol>\n",
       "<symbol overflow=\"visible\" id=\"glyph1-3\">\n",
       "<path style=\"stroke:none;\" d=\"M 0.796875 -7.6875 L 0.796875 -8.703125 L 1.859375 -8.703125 L 1.859375 -7.6875 Z M 0.796875 0 L 0.796875 -6.34375 L 1.859375 -6.34375 L 1.859375 0 Z M 0.796875 0 \"/>\n",
       "</symbol>\n",
       "<symbol overflow=\"visible\" id=\"glyph1-4\">\n",
       "<path style=\"stroke:none;\" d=\"M 3.21875 2.484375 C 2.851562 2.484375 2.53125 2.445312 2.25 2.375 C 1.96875 2.300781 1.722656 2.195312 1.515625 2.0625 C 1.316406 1.925781 1.15625 1.757812 1.03125 1.5625 C 0.90625 1.375 0.816406 1.160156 0.765625 0.921875 L 1.828125 0.78125 C 1.898438 1.070312 2.054688 1.296875 2.296875 1.453125 C 2.535156 1.609375 2.847656 1.6875 3.234375 1.6875 C 3.472656 1.6875 3.691406 1.648438 3.890625 1.578125 C 4.085938 1.515625 4.253906 1.410156 4.390625 1.265625 C 4.523438 1.117188 4.628906 0.925781 4.703125 0.6875 C 4.773438 0.457031 4.8125 0.175781 4.8125 -0.15625 L 4.8125 -1.171875 C 4.726562 -1.015625 4.628906 -0.863281 4.515625 -0.71875 C 4.398438 -0.570312 4.257812 -0.441406 4.09375 -0.328125 C 3.925781 -0.210938 3.734375 -0.117188 3.515625 -0.046875 C 3.296875 0.015625 3.046875 0.046875 2.765625 0.046875 C 2.359375 0.046875 2.007812 -0.0195312 1.71875 -0.15625 C 1.4375 -0.289062 1.203125 -0.492188 1.015625 -0.765625 C 0.835938 -1.035156 0.707031 -1.367188 0.625 -1.765625 C 0.539062 -2.171875 0.5 -2.632812 0.5 -3.15625 C 0.5 -3.664062 0.539062 -4.125 0.625 -4.53125 C 0.707031 -4.9375 0.84375 -5.28125 1.03125 -5.5625 C 1.226562 -5.84375 1.476562 -6.054688 1.78125 -6.203125 C 2.082031 -6.359375 2.453125 -6.4375 2.890625 -6.4375 C 3.335938 -6.4375 3.722656 -6.332031 4.046875 -6.125 C 4.378906 -5.925781 4.632812 -5.632812 4.8125 -5.25 L 4.828125 -5.25 C 4.828125 -5.351562 4.828125 -5.460938 4.828125 -5.578125 C 4.835938 -5.703125 4.84375 -5.816406 4.84375 -5.921875 C 4.851562 -6.035156 4.863281 -6.128906 4.875 -6.203125 C 4.882812 -6.285156 4.894531 -6.332031 4.90625 -6.34375 L 5.90625 -6.34375 C 5.894531 -6.300781 5.890625 -6.238281 5.890625 -6.15625 C 5.890625 -6.070312 5.882812 -5.972656 5.875 -5.859375 C 5.875 -5.742188 5.867188 -5.613281 5.859375 -5.46875 C 5.859375 -5.320312 5.859375 -5.175781 5.859375 -5.03125 L 5.859375 -0.1875 C 5.859375 0.707031 5.640625 1.375 5.203125 1.8125 C 4.773438 2.257812 4.113281 2.484375 3.21875 2.484375 Z M 4.8125 -3.171875 C 4.8125 -3.609375 4.765625 -3.984375 4.671875 -4.296875 C 4.578125 -4.617188 4.453125 -4.878906 4.296875 -5.078125 C 4.140625 -5.273438 3.957031 -5.421875 3.75 -5.515625 C 3.550781 -5.609375 3.347656 -5.65625 3.140625 -5.65625 C 2.867188 -5.65625 2.632812 -5.609375 2.4375 -5.515625 C 2.25 -5.421875 2.09375 -5.269531 1.96875 -5.0625 C 1.84375 -4.863281 1.75 -4.609375 1.6875 -4.296875 C 1.625 -3.984375 1.59375 -3.609375 1.59375 -3.171875 C 1.59375 -2.710938 1.625 -2.328125 1.6875 -2.015625 C 1.75 -1.703125 1.84375 -1.453125 1.96875 -1.265625 C 2.09375 -1.078125 2.25 -0.941406 2.4375 -0.859375 C 2.625 -0.773438 2.851562 -0.734375 3.125 -0.734375 C 3.332031 -0.734375 3.535156 -0.773438 3.734375 -0.859375 C 3.941406 -0.953125 4.125 -1.097656 4.28125 -1.296875 C 4.445312 -1.492188 4.578125 -1.742188 4.671875 -2.046875 C 4.765625 -2.359375 4.8125 -2.734375 4.8125 -3.171875 Z M 4.8125 -3.171875 \"/>\n",
       "</symbol>\n",
       "<symbol overflow=\"visible\" id=\"glyph1-5\">\n",
       "<path style=\"stroke:none;\" d=\"M 1.859375 -5.25 C 1.972656 -5.46875 2.097656 -5.648438 2.234375 -5.796875 C 2.367188 -5.953125 2.519531 -6.078125 2.6875 -6.171875 C 2.851562 -6.273438 3.03125 -6.347656 3.21875 -6.390625 C 3.414062 -6.429688 3.640625 -6.453125 3.890625 -6.453125 C 4.296875 -6.453125 4.628906 -6.394531 4.890625 -6.28125 C 5.148438 -6.175781 5.351562 -6.023438 5.5 -5.828125 C 5.644531 -5.628906 5.742188 -5.394531 5.796875 -5.125 C 5.859375 -4.851562 5.890625 -4.550781 5.890625 -4.21875 L 5.890625 0 L 4.828125 0 L 4.828125 -4.015625 C 4.828125 -4.285156 4.8125 -4.519531 4.78125 -4.71875 C 4.75 -4.925781 4.6875 -5.097656 4.59375 -5.234375 C 4.5 -5.367188 4.363281 -5.46875 4.1875 -5.53125 C 4.019531 -5.601562 3.800781 -5.640625 3.53125 -5.640625 C 3.28125 -5.640625 3.050781 -5.59375 2.84375 -5.5 C 2.644531 -5.414062 2.472656 -5.289062 2.328125 -5.125 C 2.191406 -4.957031 2.082031 -4.753906 2 -4.515625 C 1.925781 -4.285156 1.890625 -4.023438 1.890625 -3.734375 L 1.890625 0 L 0.828125 0 L 0.828125 -8.703125 L 1.890625 -8.703125 L 1.890625 -6.4375 C 1.890625 -6.300781 1.882812 -6.171875 1.875 -6.046875 C 1.875 -5.921875 1.867188 -5.800781 1.859375 -5.6875 C 1.859375 -5.582031 1.851562 -5.488281 1.84375 -5.40625 C 1.84375 -5.332031 1.84375 -5.28125 1.84375 -5.25 Z M 1.859375 -5.25 \"/>\n",
       "</symbol>\n",
       "<symbol overflow=\"visible\" id=\"glyph1-6\">\n",
       "<path style=\"stroke:none;\" d=\"M 6.171875 -3.203125 C 6.171875 -0.984375 5.394531 0.125 3.84375 0.125 C 3.363281 0.125 2.960938 0.0351562 2.640625 -0.140625 C 2.316406 -0.316406 2.054688 -0.597656 1.859375 -0.984375 C 1.859375 -0.878906 1.851562 -0.769531 1.84375 -0.65625 C 1.832031 -0.550781 1.820312 -0.453125 1.8125 -0.359375 C 1.8125 -0.265625 1.804688 -0.1875 1.796875 -0.125 C 1.796875 -0.0625 1.796875 -0.0195312 1.796875 0 L 0.78125 0 C 0.78125 -0.03125 0.78125 -0.0859375 0.78125 -0.171875 C 0.789062 -0.265625 0.796875 -0.367188 0.796875 -0.484375 C 0.796875 -0.597656 0.796875 -0.722656 0.796875 -0.859375 C 0.804688 -1.003906 0.8125 -1.15625 0.8125 -1.3125 L 0.8125 -8.703125 L 1.859375 -8.703125 L 1.859375 -6.21875 C 1.859375 -6.101562 1.859375 -5.988281 1.859375 -5.875 C 1.859375 -5.769531 1.859375 -5.675781 1.859375 -5.59375 C 1.847656 -5.5 1.84375 -5.410156 1.84375 -5.328125 L 1.859375 -5.328125 C 2.054688 -5.734375 2.316406 -6.019531 2.640625 -6.1875 C 2.960938 -6.363281 3.363281 -6.453125 3.84375 -6.453125 C 4.644531 -6.453125 5.234375 -6.179688 5.609375 -5.640625 C 5.984375 -5.109375 6.171875 -4.296875 6.171875 -3.203125 Z M 5.0625 -3.171875 C 5.0625 -3.609375 5.035156 -3.984375 4.984375 -4.296875 C 4.929688 -4.609375 4.84375 -4.863281 4.71875 -5.0625 C 4.59375 -5.257812 4.4375 -5.40625 4.25 -5.5 C 4.0625 -5.59375 3.832031 -5.640625 3.5625 -5.640625 C 3.289062 -5.640625 3.046875 -5.59375 2.828125 -5.5 C 2.617188 -5.414062 2.441406 -5.273438 2.296875 -5.078125 C 2.160156 -4.878906 2.050781 -4.613281 1.96875 -4.28125 C 1.894531 -3.957031 1.859375 -3.5625 1.859375 -3.09375 C 1.859375 -2.644531 1.894531 -2.265625 1.96875 -1.953125 C 2.050781 -1.648438 2.160156 -1.398438 2.296875 -1.203125 C 2.441406 -1.015625 2.617188 -0.875 2.828125 -0.78125 C 3.035156 -0.695312 3.28125 -0.65625 3.5625 -0.65625 C 3.8125 -0.65625 4.03125 -0.703125 4.21875 -0.796875 C 4.40625 -0.890625 4.5625 -1.035156 4.6875 -1.234375 C 4.8125 -1.429688 4.90625 -1.6875 4.96875 -2 C 5.03125 -2.320312 5.0625 -2.710938 5.0625 -3.171875 Z M 5.0625 -3.171875 \"/>\n",
       "</symbol>\n",
       "<symbol overflow=\"visible\" id=\"glyph1-7\">\n",
       "<path style=\"stroke:none;\" d=\"M 6.171875 -3.171875 C 6.171875 -2.066406 5.925781 -1.238281 5.4375 -0.6875 C 4.945312 -0.144531 4.238281 0.125 3.3125 0.125 C 2.875 0.125 2.476562 0.0546875 2.125 -0.078125 C 1.78125 -0.210938 1.488281 -0.414062 1.25 -0.6875 C 1.007812 -0.96875 0.820312 -1.3125 0.6875 -1.71875 C 0.5625 -2.132812 0.5 -2.617188 0.5 -3.171875 C 0.5 -5.359375 1.445312 -6.453125 3.34375 -6.453125 C 3.832031 -6.453125 4.253906 -6.382812 4.609375 -6.25 C 4.972656 -6.113281 5.269531 -5.910156 5.5 -5.640625 C 5.726562 -5.367188 5.894531 -5.023438 6 -4.609375 C 6.113281 -4.203125 6.171875 -3.722656 6.171875 -3.171875 Z M 5.0625 -3.171875 C 5.0625 -3.671875 5.019531 -4.078125 4.9375 -4.390625 C 4.863281 -4.710938 4.753906 -4.96875 4.609375 -5.15625 C 4.460938 -5.351562 4.285156 -5.488281 4.078125 -5.5625 C 3.867188 -5.632812 3.628906 -5.671875 3.359375 -5.671875 C 3.085938 -5.671875 2.84375 -5.628906 2.625 -5.546875 C 2.414062 -5.472656 2.234375 -5.335938 2.078125 -5.140625 C 1.929688 -4.953125 1.816406 -4.695312 1.734375 -4.375 C 1.648438 -4.050781 1.609375 -3.648438 1.609375 -3.171875 C 1.609375 -2.679688 1.648438 -2.273438 1.734375 -1.953125 C 1.828125 -1.628906 1.945312 -1.367188 2.09375 -1.171875 C 2.25 -0.984375 2.425781 -0.847656 2.625 -0.765625 C 2.832031 -0.691406 3.054688 -0.65625 3.296875 -0.65625 C 3.566406 -0.65625 3.8125 -0.691406 4.03125 -0.765625 C 4.25 -0.847656 4.429688 -0.984375 4.578125 -1.171875 C 4.734375 -1.367188 4.851562 -1.628906 4.9375 -1.953125 C 5.019531 -2.273438 5.0625 -2.679688 5.0625 -3.171875 Z M 5.0625 -3.171875 \"/>\n",
       "</symbol>\n",
       "<symbol overflow=\"visible\" id=\"glyph1-8\">\n",
       "<path style=\"stroke:none;\" d=\"M 0.828125 0 L 0.828125 -4.859375 C 0.828125 -4.992188 0.828125 -5.128906 0.828125 -5.265625 C 0.828125 -5.410156 0.820312 -5.546875 0.8125 -5.671875 C 0.8125 -5.796875 0.804688 -5.914062 0.796875 -6.03125 C 0.796875 -6.144531 0.796875 -6.25 0.796875 -6.34375 L 1.796875 -6.34375 C 1.796875 -6.25 1.796875 -6.144531 1.796875 -6.03125 C 1.804688 -5.914062 1.8125 -5.796875 1.8125 -5.671875 C 1.820312 -5.554688 1.828125 -5.441406 1.828125 -5.328125 C 1.835938 -5.210938 1.84375 -5.117188 1.84375 -5.046875 L 1.859375 -5.046875 C 1.929688 -5.285156 2.007812 -5.492188 2.09375 -5.671875 C 2.1875 -5.847656 2.285156 -5.992188 2.390625 -6.109375 C 2.503906 -6.222656 2.640625 -6.304688 2.796875 -6.359375 C 2.953125 -6.421875 3.144531 -6.453125 3.375 -6.453125 C 3.457031 -6.453125 3.535156 -6.445312 3.609375 -6.4375 C 3.691406 -6.425781 3.753906 -6.414062 3.796875 -6.40625 L 3.796875 -5.4375 C 3.722656 -5.457031 3.640625 -5.46875 3.546875 -5.46875 C 3.453125 -5.476562 3.347656 -5.484375 3.234375 -5.484375 C 2.992188 -5.484375 2.785156 -5.425781 2.609375 -5.3125 C 2.441406 -5.207031 2.304688 -5.054688 2.203125 -4.859375 C 2.097656 -4.671875 2.019531 -4.441406 1.96875 -4.171875 C 1.914062 -3.910156 1.890625 -3.625 1.890625 -3.3125 L 1.890625 0 Z M 0.828125 0 \"/>\n",
       "</symbol>\n",
       "<symbol overflow=\"visible\" id=\"glyph1-9\">\n",
       "<path style=\"stroke:none;\" d=\"M 5.5625 -1.75 C 5.5625 -1.457031 5.503906 -1.191406 5.390625 -0.953125 C 5.273438 -0.722656 5.109375 -0.53125 4.890625 -0.375 C 4.671875 -0.21875 4.398438 -0.09375 4.078125 0 C 3.765625 0.0820312 3.40625 0.125 3 0.125 C 2.625 0.125 2.289062 0.09375 2 0.03125 C 1.707031 -0.0195312 1.445312 -0.109375 1.21875 -0.234375 C 1 -0.359375 0.8125 -0.523438 0.65625 -0.734375 C 0.507812 -0.941406 0.398438 -1.191406 0.328125 -1.484375 L 1.265625 -1.671875 C 1.359375 -1.328125 1.546875 -1.078125 1.828125 -0.921875 C 2.109375 -0.765625 2.5 -0.6875 3 -0.6875 C 3.21875 -0.6875 3.421875 -0.703125 3.609375 -0.734375 C 3.804688 -0.765625 3.972656 -0.816406 4.109375 -0.890625 C 4.242188 -0.972656 4.347656 -1.078125 4.421875 -1.203125 C 4.503906 -1.328125 4.546875 -1.484375 4.546875 -1.671875 C 4.546875 -1.859375 4.5 -2.015625 4.40625 -2.140625 C 4.3125 -2.265625 4.1875 -2.367188 4.03125 -2.453125 C 3.875 -2.535156 3.679688 -2.601562 3.453125 -2.65625 C 3.222656 -2.71875 2.972656 -2.785156 2.703125 -2.859375 C 2.441406 -2.929688 2.1875 -3.007812 1.9375 -3.09375 C 1.6875 -3.175781 1.460938 -3.28125 1.265625 -3.40625 C 1.066406 -3.539062 0.90625 -3.707031 0.78125 -3.90625 C 0.65625 -4.113281 0.59375 -4.367188 0.59375 -4.671875 C 0.59375 -5.242188 0.796875 -5.679688 1.203125 -5.984375 C 1.617188 -6.285156 2.21875 -6.4375 3 -6.4375 C 3.707031 -6.4375 4.265625 -6.3125 4.671875 -6.0625 C 5.085938 -5.820312 5.347656 -5.429688 5.453125 -4.890625 L 4.5 -4.765625 C 4.46875 -4.929688 4.40625 -5.066406 4.3125 -5.171875 C 4.21875 -5.285156 4.101562 -5.378906 3.96875 -5.453125 C 3.84375 -5.523438 3.695312 -5.570312 3.53125 -5.59375 C 3.363281 -5.625 3.1875 -5.640625 3 -5.640625 C 2.53125 -5.640625 2.179688 -5.566406 1.953125 -5.421875 C 1.722656 -5.273438 1.609375 -5.054688 1.609375 -4.765625 C 1.609375 -4.597656 1.648438 -4.457031 1.734375 -4.34375 C 1.816406 -4.226562 1.929688 -4.132812 2.078125 -4.0625 C 2.234375 -3.988281 2.414062 -3.921875 2.625 -3.859375 C 2.84375 -3.804688 3.078125 -3.75 3.328125 -3.6875 C 3.492188 -3.644531 3.664062 -3.597656 3.84375 -3.546875 C 4.019531 -3.492188 4.191406 -3.429688 4.359375 -3.359375 C 4.523438 -3.296875 4.679688 -3.21875 4.828125 -3.125 C 4.972656 -3.039062 5.097656 -2.929688 5.203125 -2.796875 C 5.316406 -2.671875 5.40625 -2.519531 5.46875 -2.34375 C 5.53125 -2.175781 5.5625 -1.976562 5.5625 -1.75 Z M 5.5625 -1.75 \"/>\n",
       "</symbol>\n",
       "<symbol overflow=\"visible\" id=\"glyph2-0\">\n",
       "<path style=\"stroke:none;\" d=\"M 0 -0.40625 L -8 -0.40625 L -8 -3.59375 L 0 -3.59375 Z M -0.40625 -0.796875 L -0.40625 -3.1875 L -7.59375 -3.1875 L -7.59375 -0.796875 Z M -0.40625 -0.796875 \"/>\n",
       "</symbol>\n",
       "<symbol overflow=\"visible\" id=\"glyph2-1\">\n",
       "<path style=\"stroke:none;\" d=\"M 0 -6.84375 L -2.421875 -5.890625 L -2.421875 -2.140625 L 0 -1.1875 L 0 -0.03125 L -8.25 -3.390625 L -8.25 -4.671875 L 0 -7.984375 Z M -6.015625 -4.5 C -6.171875 -4.4375 -6.328125 -4.375 -6.484375 -4.3125 C -6.648438 -4.257812 -6.796875 -4.210938 -6.921875 -4.171875 C -7.054688 -4.128906 -7.164062 -4.09375 -7.25 -4.0625 C -7.34375 -4.03125 -7.394531 -4.015625 -7.40625 -4.015625 C -7.394531 -4.003906 -7.34375 -3.984375 -7.25 -3.953125 C -7.15625 -3.929688 -7.039062 -3.894531 -6.90625 -3.84375 C -6.78125 -3.800781 -6.632812 -3.75 -6.46875 -3.6875 C -6.3125 -3.632812 -6.15625 -3.582031 -6 -3.53125 L -3.28125 -2.46875 L -3.28125 -5.5625 Z M -6.015625 -4.5 \"/>\n",
       "</symbol>\n",
       "<symbol overflow=\"visible\" id=\"glyph2-2\">\n",
       "<path style=\"stroke:none;\" d=\"M -3.203125 -1.609375 C -2.835938 -1.609375 -2.5 -1.632812 -2.1875 -1.6875 C -1.882812 -1.738281 -1.625 -1.828125 -1.40625 -1.953125 C -1.1875 -2.078125 -1.015625 -2.242188 -0.890625 -2.453125 C -0.773438 -2.660156 -0.71875 -2.914062 -0.71875 -3.21875 C -0.71875 -3.59375 -0.816406 -3.90625 -1.015625 -4.15625 C -1.222656 -4.40625 -1.535156 -4.5625 -1.953125 -4.625 L -1.890625 -5.6875 C -1.628906 -5.644531 -1.375 -5.566406 -1.125 -5.453125 C -0.882812 -5.335938 -0.671875 -5.175781 -0.484375 -4.96875 C -0.304688 -4.769531 -0.160156 -4.523438 -0.046875 -4.234375 C 0.0664062 -3.953125 0.125 -3.617188 0.125 -3.234375 C 0.125 -2.742188 0.0390625 -2.320312 -0.125 -1.96875 C -0.300781 -1.625 -0.535156 -1.34375 -0.828125 -1.125 C -1.117188 -0.90625 -1.460938 -0.75 -1.859375 -0.65625 C -2.265625 -0.5625 -2.703125 -0.515625 -3.171875 -0.515625 C -3.597656 -0.515625 -3.972656 -0.546875 -4.296875 -0.609375 C -4.628906 -0.679688 -4.914062 -0.78125 -5.15625 -0.90625 C -5.40625 -1.039062 -5.613281 -1.191406 -5.78125 -1.359375 C -5.945312 -1.535156 -6.078125 -1.722656 -6.171875 -1.921875 C -6.273438 -2.117188 -6.347656 -2.328125 -6.390625 -2.546875 C -6.429688 -2.773438 -6.453125 -3.003906 -6.453125 -3.234375 C -6.453125 -3.585938 -6.40625 -3.898438 -6.3125 -4.171875 C -6.21875 -4.453125 -6.082031 -4.691406 -5.90625 -4.890625 C -5.738281 -5.097656 -5.539062 -5.265625 -5.3125 -5.390625 C -5.082031 -5.515625 -4.832031 -5.601562 -4.5625 -5.65625 L -4.484375 -4.5625 C -4.835938 -4.507812 -5.113281 -4.367188 -5.3125 -4.140625 C -5.519531 -3.921875 -5.625 -3.609375 -5.625 -3.203125 C -5.625 -2.898438 -5.570312 -2.644531 -5.46875 -2.4375 C -5.375 -2.238281 -5.226562 -2.078125 -5.03125 -1.953125 C -4.832031 -1.828125 -4.578125 -1.738281 -4.265625 -1.6875 C -3.960938 -1.632812 -3.609375 -1.609375 -3.203125 -1.609375 Z M -3.203125 -1.609375 \"/>\n",
       "</symbol>\n",
       "<symbol overflow=\"visible\" id=\"glyph2-3\">\n",
       "<path style=\"stroke:none;\" d=\"M -6.34375 -1.84375 L -2.328125 -1.84375 C -2.015625 -1.84375 -1.753906 -1.863281 -1.546875 -1.90625 C -1.335938 -1.945312 -1.171875 -2.019531 -1.046875 -2.125 C -0.921875 -2.226562 -0.832031 -2.363281 -0.78125 -2.53125 C -0.726562 -2.695312 -0.703125 -2.898438 -0.703125 -3.140625 C -0.703125 -3.390625 -0.742188 -3.613281 -0.828125 -3.8125 C -0.921875 -4.019531 -1.046875 -4.191406 -1.203125 -4.328125 C -1.367188 -4.472656 -1.570312 -4.582031 -1.8125 -4.65625 C -2.0625 -4.738281 -2.347656 -4.78125 -2.671875 -4.78125 L -6.34375 -4.78125 L -6.34375 -5.84375 L -1.359375 -5.84375 C -1.222656 -5.84375 -1.082031 -5.84375 -0.9375 -5.84375 C -0.789062 -5.84375 -0.648438 -5.84375 -0.515625 -5.84375 C -0.390625 -5.851562 -0.28125 -5.859375 -0.1875 -5.859375 C -0.09375 -5.867188 -0.03125 -5.875 0 -5.875 L 0 -4.875 C -0.0195312 -4.875 -0.0703125 -4.867188 -0.15625 -4.859375 C -0.238281 -4.859375 -0.335938 -4.851562 -0.453125 -4.84375 C -0.566406 -4.84375 -0.679688 -4.835938 -0.796875 -4.828125 C -0.910156 -4.828125 -1.003906 -4.828125 -1.078125 -4.828125 L -1.078125 -4.8125 C -0.898438 -4.71875 -0.734375 -4.609375 -0.578125 -4.484375 C -0.429688 -4.359375 -0.304688 -4.21875 -0.203125 -4.0625 C -0.0976562 -3.90625 -0.0195312 -3.722656 0.03125 -3.515625 C 0.09375 -3.304688 0.125 -3.066406 0.125 -2.796875 C 0.125 -2.441406 0.0820312 -2.132812 0 -1.875 C -0.09375 -1.625 -0.226562 -1.414062 -0.40625 -1.25 C -0.59375 -1.09375 -0.828125 -0.972656 -1.109375 -0.890625 C -1.390625 -0.816406 -1.722656 -0.78125 -2.109375 -0.78125 L -6.34375 -0.78125 Z M -6.34375 -1.84375 \"/>\n",
       "</symbol>\n",
       "<symbol overflow=\"visible\" id=\"glyph2-4\">\n",
       "<path style=\"stroke:none;\" d=\"M 0 -0.828125 L -4.859375 -0.828125 C -4.992188 -0.828125 -5.128906 -0.828125 -5.265625 -0.828125 C -5.410156 -0.828125 -5.546875 -0.820312 -5.671875 -0.8125 C -5.796875 -0.8125 -5.914062 -0.804688 -6.03125 -0.796875 C -6.144531 -0.796875 -6.25 -0.796875 -6.34375 -0.796875 L -6.34375 -1.796875 C -6.25 -1.796875 -6.144531 -1.796875 -6.03125 -1.796875 C -5.914062 -1.804688 -5.796875 -1.8125 -5.671875 -1.8125 C -5.554688 -1.820312 -5.441406 -1.828125 -5.328125 -1.828125 C -5.210938 -1.835938 -5.117188 -1.84375 -5.046875 -1.84375 L -5.046875 -1.859375 C -5.285156 -1.929688 -5.492188 -2.007812 -5.671875 -2.09375 C -5.847656 -2.1875 -5.992188 -2.285156 -6.109375 -2.390625 C -6.222656 -2.503906 -6.304688 -2.640625 -6.359375 -2.796875 C -6.421875 -2.953125 -6.453125 -3.144531 -6.453125 -3.375 C -6.453125 -3.457031 -6.445312 -3.535156 -6.4375 -3.609375 C -6.425781 -3.691406 -6.414062 -3.753906 -6.40625 -3.796875 L -5.4375 -3.796875 C -5.457031 -3.722656 -5.46875 -3.640625 -5.46875 -3.546875 C -5.476562 -3.453125 -5.484375 -3.347656 -5.484375 -3.234375 C -5.484375 -2.992188 -5.425781 -2.785156 -5.3125 -2.609375 C -5.207031 -2.441406 -5.054688 -2.304688 -4.859375 -2.203125 C -4.671875 -2.097656 -4.441406 -2.019531 -4.171875 -1.96875 C -3.910156 -1.914062 -3.625 -1.890625 -3.3125 -1.890625 L 0 -1.890625 Z M 0 -0.828125 \"/>\n",
       "</symbol>\n",
       "<symbol overflow=\"visible\" id=\"glyph2-5\">\n",
       "<path style=\"stroke:none;\" d=\"M 0.125 -2.421875 C 0.125 -1.785156 -0.0390625 -1.304688 -0.375 -0.984375 C -0.71875 -0.671875 -1.179688 -0.515625 -1.765625 -0.515625 C -2.179688 -0.515625 -2.523438 -0.59375 -2.796875 -0.75 C -3.066406 -0.90625 -3.273438 -1.109375 -3.421875 -1.359375 C -3.578125 -1.617188 -3.679688 -1.910156 -3.734375 -2.234375 C -3.796875 -2.566406 -3.832031 -2.90625 -3.84375 -3.25 L -3.875 -4.671875 L -4.21875 -4.671875 C -4.476562 -4.671875 -4.695312 -4.640625 -4.875 -4.578125 C -5.0625 -4.523438 -5.210938 -4.441406 -5.328125 -4.328125 C -5.441406 -4.222656 -5.523438 -4.082031 -5.578125 -3.90625 C -5.628906 -3.738281 -5.65625 -3.539062 -5.65625 -3.3125 C -5.65625 -3.101562 -5.640625 -2.914062 -5.609375 -2.75 C -5.578125 -2.59375 -5.523438 -2.453125 -5.453125 -2.328125 C -5.378906 -2.210938 -5.273438 -2.113281 -5.140625 -2.03125 C -5.015625 -1.957031 -4.847656 -1.910156 -4.640625 -1.890625 L -4.75 -0.796875 C -5 -0.828125 -5.226562 -0.894531 -5.4375 -1 C -5.644531 -1.113281 -5.820312 -1.269531 -5.96875 -1.46875 C -6.125 -1.675781 -6.242188 -1.929688 -6.328125 -2.234375 C -6.410156 -2.535156 -6.453125 -2.898438 -6.453125 -3.328125 C -6.453125 -4.128906 -6.269531 -4.726562 -5.90625 -5.125 C -5.539062 -5.53125 -5.015625 -5.734375 -4.328125 -5.734375 L -1.59375 -5.734375 C -1.28125 -5.734375 -1.046875 -5.773438 -0.890625 -5.859375 C -0.734375 -5.941406 -0.65625 -6.097656 -0.65625 -6.328125 C -0.65625 -6.390625 -0.65625 -6.445312 -0.65625 -6.5 C -0.664062 -6.5625 -0.675781 -6.617188 -0.6875 -6.671875 L -0.03125 -6.671875 C 0 -6.535156 0.0195312 -6.398438 0.03125 -6.265625 C 0.0507812 -6.140625 0.0625 -6.003906 0.0625 -5.859375 C 0.0625 -5.660156 0.0351562 -5.488281 -0.015625 -5.34375 C -0.0664062 -5.207031 -0.144531 -5.09375 -0.25 -5 C -0.363281 -4.90625 -0.5 -4.832031 -0.65625 -4.78125 C -0.8125 -4.738281 -1 -4.710938 -1.21875 -4.703125 L -1.21875 -4.671875 C -1.007812 -4.554688 -0.820312 -4.429688 -0.65625 -4.296875 C -0.5 -4.160156 -0.363281 -4.003906 -0.25 -3.828125 C -0.132812 -3.648438 -0.046875 -3.445312 0.015625 -3.21875 C 0.0859375 -2.988281 0.125 -2.722656 0.125 -2.421875 Z M -0.671875 -2.671875 C -0.671875 -3.003906 -0.734375 -3.296875 -0.859375 -3.546875 C -0.984375 -3.796875 -1.140625 -4.003906 -1.328125 -4.171875 C -1.523438 -4.335938 -1.734375 -4.460938 -1.953125 -4.546875 C -2.179688 -4.628906 -2.398438 -4.671875 -2.609375 -4.671875 L -3.125 -4.671875 L -3.109375 -3.515625 C -3.097656 -3.253906 -3.078125 -3.007812 -3.046875 -2.78125 C -3.015625 -2.550781 -2.945312 -2.347656 -2.84375 -2.171875 C -2.75 -1.992188 -2.613281 -1.851562 -2.4375 -1.75 C -2.269531 -1.644531 -2.039062 -1.59375 -1.75 -1.59375 C -1.40625 -1.59375 -1.140625 -1.6875 -0.953125 -1.875 C -0.765625 -2.0625 -0.671875 -2.328125 -0.671875 -2.671875 Z M -0.671875 -2.671875 \"/>\n",
       "</symbol>\n",
       "<symbol overflow=\"visible\" id=\"glyph2-6\">\n",
       "<path style=\"stroke:none;\" d=\"M 0 -3.546875 C 0.382812 -3.390625 0.726562 -3.234375 1.03125 -3.078125 C 1.34375 -2.929688 1.601562 -2.757812 1.8125 -2.5625 C 2.03125 -2.375 2.195312 -2.160156 2.3125 -1.921875 C 2.425781 -1.691406 2.484375 -1.425781 2.484375 -1.125 C 2.484375 -0.988281 2.476562 -0.863281 2.46875 -0.75 C 2.46875 -0.632812 2.453125 -0.515625 2.421875 -0.390625 L 1.640625 -0.390625 C 1.648438 -0.460938 1.65625 -0.546875 1.65625 -0.640625 C 1.664062 -0.734375 1.671875 -0.816406 1.671875 -0.890625 C 1.671875 -1.191406 1.554688 -1.472656 1.328125 -1.734375 C 1.097656 -2.003906 0.726562 -2.238281 0.21875 -2.4375 L -0.03125 -2.546875 L -6.34375 -0.03125 L -6.34375 -1.15625 L -2.84375 -2.484375 C -2.726562 -2.523438 -2.582031 -2.578125 -2.40625 -2.640625 C -2.238281 -2.703125 -2.066406 -2.757812 -1.890625 -2.8125 C -1.710938 -2.875 -1.550781 -2.925781 -1.40625 -2.96875 C -1.269531 -3.019531 -1.1875 -3.050781 -1.15625 -3.0625 C -1.195312 -3.070312 -1.28125 -3.097656 -1.40625 -3.140625 C -1.53125 -3.191406 -1.671875 -3.242188 -1.828125 -3.296875 C -1.984375 -3.359375 -2.140625 -3.414062 -2.296875 -3.46875 C -2.460938 -3.53125 -2.601562 -3.582031 -2.71875 -3.625 L -6.34375 -4.859375 L -6.34375 -5.984375 Z M 0 -3.546875 \"/>\n",
       "</symbol>\n",
       "<symbol overflow=\"visible\" id=\"glyph2-7\">\n",
       "<path style=\"stroke:none;\" d=\"\"/>\n",
       "</symbol>\n",
       "<symbol overflow=\"visible\" id=\"glyph2-8\">\n",
       "<path style=\"stroke:none;\" d=\"M 0 -0.984375 L -8.25 -0.984375 L -8.25 -7.25 L -7.34375 -7.25 L -7.34375 -2.109375 L -4.6875 -2.109375 L -4.6875 -6.890625 L -3.796875 -6.890625 L -3.796875 -2.109375 L -0.921875 -2.109375 L -0.921875 -7.484375 L 0 -7.484375 Z M 0 -0.984375 \"/>\n",
       "</symbol>\n",
       "<symbol overflow=\"visible\" id=\"glyph2-9\">\n",
       "<path style=\"stroke:none;\" d=\"M -1.75 -5.5625 C -1.457031 -5.5625 -1.191406 -5.503906 -0.953125 -5.390625 C -0.722656 -5.273438 -0.53125 -5.109375 -0.375 -4.890625 C -0.21875 -4.671875 -0.09375 -4.398438 0 -4.078125 C 0.0820312 -3.765625 0.125 -3.40625 0.125 -3 C 0.125 -2.625 0.09375 -2.289062 0.03125 -2 C -0.0195312 -1.707031 -0.109375 -1.445312 -0.234375 -1.21875 C -0.359375 -1 -0.523438 -0.8125 -0.734375 -0.65625 C -0.941406 -0.507812 -1.191406 -0.398438 -1.484375 -0.328125 L -1.671875 -1.265625 C -1.328125 -1.359375 -1.078125 -1.546875 -0.921875 -1.828125 C -0.765625 -2.109375 -0.6875 -2.5 -0.6875 -3 C -0.6875 -3.21875 -0.703125 -3.421875 -0.734375 -3.609375 C -0.765625 -3.804688 -0.816406 -3.972656 -0.890625 -4.109375 C -0.972656 -4.242188 -1.078125 -4.347656 -1.203125 -4.421875 C -1.328125 -4.503906 -1.484375 -4.546875 -1.671875 -4.546875 C -1.859375 -4.546875 -2.015625 -4.5 -2.140625 -4.40625 C -2.265625 -4.3125 -2.367188 -4.1875 -2.453125 -4.03125 C -2.535156 -3.875 -2.601562 -3.679688 -2.65625 -3.453125 C -2.71875 -3.222656 -2.785156 -2.972656 -2.859375 -2.703125 C -2.929688 -2.441406 -3.007812 -2.1875 -3.09375 -1.9375 C -3.175781 -1.6875 -3.28125 -1.460938 -3.40625 -1.265625 C -3.539062 -1.066406 -3.707031 -0.90625 -3.90625 -0.78125 C -4.113281 -0.65625 -4.367188 -0.59375 -4.671875 -0.59375 C -5.242188 -0.59375 -5.679688 -0.796875 -5.984375 -1.203125 C -6.285156 -1.617188 -6.4375 -2.21875 -6.4375 -3 C -6.4375 -3.707031 -6.3125 -4.265625 -6.0625 -4.671875 C -5.820312 -5.085938 -5.429688 -5.347656 -4.890625 -5.453125 L -4.765625 -4.5 C -4.929688 -4.46875 -5.066406 -4.40625 -5.171875 -4.3125 C -5.285156 -4.21875 -5.378906 -4.101562 -5.453125 -3.96875 C -5.523438 -3.84375 -5.570312 -3.695312 -5.59375 -3.53125 C -5.625 -3.363281 -5.640625 -3.1875 -5.640625 -3 C -5.640625 -2.53125 -5.566406 -2.179688 -5.421875 -1.953125 C -5.273438 -1.722656 -5.054688 -1.609375 -4.765625 -1.609375 C -4.597656 -1.609375 -4.457031 -1.648438 -4.34375 -1.734375 C -4.226562 -1.816406 -4.132812 -1.929688 -4.0625 -2.078125 C -3.988281 -2.234375 -3.921875 -2.414062 -3.859375 -2.625 C -3.804688 -2.84375 -3.75 -3.078125 -3.6875 -3.328125 C -3.644531 -3.492188 -3.597656 -3.664062 -3.546875 -3.84375 C -3.492188 -4.019531 -3.429688 -4.191406 -3.359375 -4.359375 C -3.296875 -4.523438 -3.21875 -4.679688 -3.125 -4.828125 C -3.039062 -4.972656 -2.929688 -5.097656 -2.796875 -5.203125 C -2.671875 -5.316406 -2.519531 -5.40625 -2.34375 -5.46875 C -2.175781 -5.53125 -1.976562 -5.5625 -1.75 -5.5625 Z M -1.75 -5.5625 \"/>\n",
       "</symbol>\n",
       "<symbol overflow=\"visible\" id=\"glyph2-10\">\n",
       "<path style=\"stroke:none;\" d=\"M -0.046875 -3.25 C -0.00390625 -3.082031 0.0234375 -2.914062 0.046875 -2.75 C 0.078125 -2.59375 0.09375 -2.40625 0.09375 -2.1875 C 0.09375 -1.34375 -0.382812 -0.921875 -1.34375 -0.921875 L -5.578125 -0.921875 L -5.578125 -0.1875 L -6.34375 -0.1875 L -6.34375 -0.953125 L -7.765625 -1.265625 L -7.765625 -1.96875 L -6.34375 -1.96875 L -6.34375 -3.140625 L -5.578125 -3.140625 L -5.578125 -1.96875 L -1.578125 -1.96875 C -1.265625 -1.96875 -1.046875 -2.015625 -0.921875 -2.109375 C -0.804688 -2.210938 -0.75 -2.390625 -0.75 -2.640625 C -0.75 -2.742188 -0.753906 -2.84375 -0.765625 -2.9375 C -0.785156 -3.03125 -0.804688 -3.132812 -0.828125 -3.25 Z M -0.046875 -3.25 \"/>\n",
       "</symbol>\n",
       "<symbol overflow=\"visible\" id=\"glyph2-11\">\n",
       "<path style=\"stroke:none;\" d=\"M -7.6875 -0.796875 L -8.703125 -0.796875 L -8.703125 -1.859375 L -7.6875 -1.859375 Z M 0 -0.796875 L -6.34375 -0.796875 L -6.34375 -1.859375 L 0 -1.859375 Z M 0 -0.796875 \"/>\n",
       "</symbol>\n",
       "<symbol overflow=\"visible\" id=\"glyph2-12\">\n",
       "<path style=\"stroke:none;\" d=\"M 0 -4.5 L -4.015625 -4.5 C -4.328125 -4.5 -4.585938 -4.476562 -4.796875 -4.4375 C -5.003906 -4.40625 -5.171875 -4.34375 -5.296875 -4.25 C -5.421875 -4.15625 -5.507812 -4.03125 -5.5625 -3.875 C -5.613281 -3.726562 -5.640625 -3.550781 -5.640625 -3.34375 C -5.640625 -3.113281 -5.59375 -2.910156 -5.5 -2.734375 C -5.414062 -2.554688 -5.289062 -2.40625 -5.125 -2.28125 C -4.957031 -2.15625 -4.753906 -2.054688 -4.515625 -1.984375 C -4.273438 -1.910156 -3.992188 -1.875 -3.671875 -1.875 L 0 -1.875 L 0 -0.828125 L -4.984375 -0.828125 C -5.117188 -0.828125 -5.257812 -0.828125 -5.40625 -0.828125 C -5.550781 -0.828125 -5.6875 -0.820312 -5.8125 -0.8125 C -5.945312 -0.8125 -6.0625 -0.804688 -6.15625 -0.796875 C -6.25 -0.796875 -6.3125 -0.796875 -6.34375 -0.796875 L -6.34375 -1.796875 C -6.320312 -1.796875 -6.265625 -1.796875 -6.171875 -1.796875 C -6.085938 -1.804688 -5.988281 -1.8125 -5.875 -1.8125 C -5.769531 -1.820312 -5.660156 -1.828125 -5.546875 -1.828125 C -5.429688 -1.835938 -5.332031 -1.84375 -5.25 -1.84375 L -5.25 -1.859375 C -5.4375 -1.953125 -5.601562 -2.050781 -5.75 -2.15625 C -5.90625 -2.269531 -6.03125 -2.398438 -6.125 -2.546875 C -6.226562 -2.691406 -6.304688 -2.859375 -6.359375 -3.046875 C -6.421875 -3.234375 -6.453125 -3.453125 -6.453125 -3.703125 C -6.453125 -4.191406 -6.359375 -4.570312 -6.171875 -4.84375 C -5.984375 -5.125 -5.675781 -5.320312 -5.25 -5.4375 L -5.25 -5.453125 C -5.4375 -5.546875 -5.601562 -5.648438 -5.75 -5.765625 C -5.90625 -5.878906 -6.03125 -6.015625 -6.125 -6.171875 C -6.226562 -6.328125 -6.304688 -6.503906 -6.359375 -6.703125 C -6.421875 -6.898438 -6.453125 -7.125 -6.453125 -7.375 C -6.453125 -7.695312 -6.410156 -7.972656 -6.328125 -8.203125 C -6.242188 -8.429688 -6.109375 -8.617188 -5.921875 -8.765625 C -5.742188 -8.921875 -5.515625 -9.03125 -5.234375 -9.09375 C -4.953125 -9.164062 -4.613281 -9.203125 -4.21875 -9.203125 L 0 -9.203125 L 0 -8.15625 L -4.015625 -8.15625 C -4.328125 -8.15625 -4.585938 -8.132812 -4.796875 -8.09375 C -5.003906 -8.0625 -5.171875 -8 -5.296875 -7.90625 C -5.421875 -7.8125 -5.507812 -7.691406 -5.5625 -7.546875 C -5.613281 -7.398438 -5.640625 -7.21875 -5.640625 -7 C -5.640625 -6.78125 -5.597656 -6.578125 -5.515625 -6.390625 C -5.429688 -6.210938 -5.304688 -6.0625 -5.140625 -5.9375 C -4.984375 -5.8125 -4.78125 -5.710938 -4.53125 -5.640625 C -4.28125 -5.578125 -3.992188 -5.546875 -3.671875 -5.546875 L 0 -5.546875 Z M 0 -4.5 \"/>\n",
       "</symbol>\n",
       "<symbol overflow=\"visible\" id=\"glyph2-13\">\n",
       "<path style=\"stroke:none;\" d=\"M -2.953125 -1.625 C -2.617188 -1.625 -2.3125 -1.65625 -2.03125 -1.71875 C -1.75 -1.789062 -1.507812 -1.894531 -1.3125 -2.03125 C -1.113281 -2.175781 -0.957031 -2.359375 -0.84375 -2.578125 C -0.726562 -2.804688 -0.671875 -3.078125 -0.671875 -3.390625 C -0.671875 -3.847656 -0.757812 -4.210938 -0.9375 -4.484375 C -1.125 -4.765625 -1.359375 -4.953125 -1.640625 -5.046875 L -1.390625 -5.96875 C -1.210938 -5.90625 -1.035156 -5.8125 -0.859375 -5.6875 C -0.679688 -5.570312 -0.519531 -5.414062 -0.375 -5.21875 C -0.226562 -5.019531 -0.109375 -4.769531 -0.015625 -4.46875 C 0.078125 -4.164062 0.125 -3.804688 0.125 -3.390625 C 0.125 -2.453125 -0.15625 -1.738281 -0.71875 -1.25 C -1.28125 -0.757812 -2.113281 -0.515625 -3.21875 -0.515625 C -3.8125 -0.515625 -4.3125 -0.585938 -4.71875 -0.734375 C -5.132812 -0.878906 -5.46875 -1.082031 -5.71875 -1.34375 C -5.976562 -1.601562 -6.164062 -1.90625 -6.28125 -2.25 C -6.394531 -2.59375 -6.453125 -2.957031 -6.453125 -3.34375 C -6.453125 -3.875 -6.363281 -4.316406 -6.1875 -4.671875 C -6.019531 -5.035156 -5.785156 -5.320312 -5.484375 -5.53125 C -5.179688 -5.75 -4.820312 -5.90625 -4.40625 -6 C -4 -6.09375 -3.5625 -6.140625 -3.09375 -6.140625 L -2.953125 -6.140625 Z M -3.75 -5.046875 C -4.425781 -4.992188 -4.914062 -4.828125 -5.21875 -4.546875 C -5.519531 -4.265625 -5.671875 -3.859375 -5.671875 -3.328125 C -5.671875 -3.148438 -5.644531 -2.960938 -5.59375 -2.765625 C -5.539062 -2.578125 -5.441406 -2.398438 -5.296875 -2.234375 C -5.148438 -2.078125 -4.953125 -1.941406 -4.703125 -1.828125 C -4.453125 -1.710938 -4.132812 -1.644531 -3.75 -1.625 Z M -3.75 -5.046875 \"/>\n",
       "</symbol>\n",
       "<symbol overflow=\"visible\" id=\"glyph3-0\">\n",
       "<path style=\"stroke:none;\" d=\"M 0.296875 0 L 0.296875 -6 L 2.6875 -6 L 2.6875 0 Z M 0.59375 -0.296875 L 2.390625 -0.296875 L 2.390625 -5.703125 L 0.59375 -5.703125 Z M 0.59375 -0.296875 \"/>\n",
       "</symbol>\n",
       "<symbol overflow=\"visible\" id=\"glyph3-1\">\n",
       "<path style=\"stroke:none;\" d=\"M 1.578125 -5.5 L 1.578125 -3.203125 L 5.03125 -3.203125 L 5.03125 -2.515625 L 1.578125 -2.515625 L 1.578125 0 L 0.734375 0 L 0.734375 -6.1875 L 5.140625 -6.1875 L 5.140625 -5.5 Z M 1.578125 -5.5 \"/>\n",
       "</symbol>\n",
       "<symbol overflow=\"visible\" id=\"glyph3-2\">\n",
       "<path style=\"stroke:none;\" d=\"M 0.609375 -5.765625 L 0.609375 -6.515625 L 1.390625 -6.515625 L 1.390625 -5.765625 Z M 0.609375 0 L 0.609375 -4.75 L 1.390625 -4.75 L 1.390625 0 Z M 0.609375 0 \"/>\n",
       "</symbol>\n",
       "<symbol overflow=\"visible\" id=\"glyph3-3\">\n",
       "<path style=\"stroke:none;\" d=\"M 2.40625 1.875 C 2.132812 1.875 1.890625 1.84375 1.671875 1.78125 C 1.460938 1.726562 1.285156 1.648438 1.140625 1.546875 C 0.992188 1.441406 0.875 1.316406 0.78125 1.171875 C 0.6875 1.023438 0.617188 0.863281 0.578125 0.6875 L 1.375 0.578125 C 1.425781 0.796875 1.539062 0.960938 1.71875 1.078125 C 1.894531 1.203125 2.132812 1.265625 2.4375 1.265625 C 2.613281 1.265625 2.773438 1.238281 2.921875 1.1875 C 3.066406 1.132812 3.191406 1.050781 3.296875 0.9375 C 3.398438 0.832031 3.476562 0.691406 3.53125 0.515625 C 3.582031 0.347656 3.609375 0.132812 3.609375 -0.125 L 3.609375 -0.890625 C 3.546875 -0.765625 3.46875 -0.644531 3.375 -0.53125 C 3.289062 -0.425781 3.1875 -0.332031 3.0625 -0.25 C 2.945312 -0.164062 2.804688 -0.0976562 2.640625 -0.046875 C 2.472656 0.00390625 2.285156 0.03125 2.078125 0.03125 C 1.773438 0.03125 1.515625 -0.015625 1.296875 -0.109375 C 1.078125 -0.210938 0.898438 -0.363281 0.765625 -0.5625 C 0.628906 -0.769531 0.53125 -1.023438 0.46875 -1.328125 C 0.40625 -1.628906 0.375 -1.976562 0.375 -2.375 C 0.375 -2.75 0.40625 -3.085938 0.46875 -3.390625 C 0.53125 -3.703125 0.632812 -3.960938 0.78125 -4.171875 C 0.925781 -4.378906 1.109375 -4.539062 1.328125 -4.65625 C 1.554688 -4.769531 1.832031 -4.828125 2.15625 -4.828125 C 2.5 -4.828125 2.789062 -4.75 3.03125 -4.59375 C 3.28125 -4.445312 3.472656 -4.226562 3.609375 -3.9375 L 3.625 -3.9375 C 3.625 -4.007812 3.625 -4.09375 3.625 -4.1875 C 3.632812 -4.28125 3.640625 -4.363281 3.640625 -4.4375 C 3.640625 -4.519531 3.644531 -4.585938 3.65625 -4.640625 C 3.664062 -4.703125 3.671875 -4.738281 3.671875 -4.75 L 4.421875 -4.75 C 4.421875 -4.726562 4.414062 -4.6875 4.40625 -4.625 C 4.40625 -4.5625 4.40625 -4.484375 4.40625 -4.390625 C 4.40625 -4.304688 4.40625 -4.207031 4.40625 -4.09375 C 4.40625 -3.988281 4.40625 -3.878906 4.40625 -3.765625 L 4.40625 -0.140625 C 4.40625 0.523438 4.238281 1.023438 3.90625 1.359375 C 3.582031 1.703125 3.082031 1.875 2.40625 1.875 Z M 3.609375 -2.375 C 3.609375 -2.707031 3.570312 -2.988281 3.5 -3.21875 C 3.425781 -3.457031 3.332031 -3.648438 3.21875 -3.796875 C 3.101562 -3.953125 2.96875 -4.0625 2.8125 -4.125 C 2.664062 -4.195312 2.515625 -4.234375 2.359375 -4.234375 C 2.148438 -4.234375 1.972656 -4.195312 1.828125 -4.125 C 1.691406 -4.0625 1.570312 -3.953125 1.46875 -3.796875 C 1.375 -3.648438 1.304688 -3.457031 1.265625 -3.21875 C 1.222656 -2.988281 1.203125 -2.707031 1.203125 -2.375 C 1.203125 -2.03125 1.222656 -1.742188 1.265625 -1.515625 C 1.304688 -1.285156 1.375 -1.097656 1.46875 -0.953125 C 1.5625 -0.804688 1.679688 -0.703125 1.828125 -0.640625 C 1.972656 -0.578125 2.144531 -0.546875 2.34375 -0.546875 C 2.5 -0.546875 2.648438 -0.578125 2.796875 -0.640625 C 2.953125 -0.710938 3.085938 -0.820312 3.203125 -0.96875 C 3.328125 -1.113281 3.425781 -1.300781 3.5 -1.53125 C 3.570312 -1.769531 3.609375 -2.050781 3.609375 -2.375 Z M 3.609375 -2.375 \"/>\n",
       "</symbol>\n",
       "<symbol overflow=\"visible\" id=\"glyph3-4\">\n",
       "<path style=\"stroke:none;\" d=\"M 1.375 -4.75 L 1.375 -1.734375 C 1.375 -1.503906 1.390625 -1.3125 1.421875 -1.15625 C 1.460938 -1 1.519531 -0.875 1.59375 -0.78125 C 1.664062 -0.6875 1.765625 -0.617188 1.890625 -0.578125 C 2.015625 -0.535156 2.171875 -0.515625 2.359375 -0.515625 C 2.546875 -0.515625 2.710938 -0.546875 2.859375 -0.609375 C 3.015625 -0.679688 3.144531 -0.78125 3.25 -0.90625 C 3.363281 -1.03125 3.445312 -1.179688 3.5 -1.359375 C 3.5625 -1.546875 3.59375 -1.757812 3.59375 -2 L 3.59375 -4.75 L 4.375 -4.75 L 4.375 -1.015625 C 4.375 -0.910156 4.375 -0.800781 4.375 -0.6875 C 4.382812 -0.582031 4.390625 -0.476562 4.390625 -0.375 C 4.390625 -0.28125 4.390625 -0.195312 4.390625 -0.125 C 4.398438 -0.0625 4.40625 -0.0195312 4.40625 0 L 3.65625 0 C 3.65625 -0.0078125 3.648438 -0.046875 3.640625 -0.109375 C 3.640625 -0.179688 3.640625 -0.257812 3.640625 -0.34375 C 3.640625 -0.425781 3.632812 -0.507812 3.625 -0.59375 C 3.625 -0.675781 3.625 -0.75 3.625 -0.8125 L 3.609375 -0.8125 C 3.535156 -0.675781 3.453125 -0.550781 3.359375 -0.4375 C 3.265625 -0.320312 3.15625 -0.226562 3.03125 -0.15625 C 2.914062 -0.0820312 2.78125 -0.0234375 2.625 0.015625 C 2.476562 0.0664062 2.300781 0.09375 2.09375 0.09375 C 1.832031 0.09375 1.601562 0.0625 1.40625 0 C 1.21875 -0.0703125 1.0625 -0.175781 0.9375 -0.3125 C 0.8125 -0.445312 0.71875 -0.617188 0.65625 -0.828125 C 0.601562 -1.035156 0.578125 -1.289062 0.578125 -1.59375 L 0.578125 -4.75 Z M 1.375 -4.75 \"/>\n",
       "</symbol>\n",
       "<symbol overflow=\"visible\" id=\"glyph3-5\">\n",
       "<path style=\"stroke:none;\" d=\"M 0.625 0 L 0.625 -3.640625 C 0.625 -3.742188 0.625 -3.847656 0.625 -3.953125 C 0.625 -4.054688 0.617188 -4.15625 0.609375 -4.25 C 0.609375 -4.351562 0.609375 -4.445312 0.609375 -4.53125 C 0.609375 -4.613281 0.601562 -4.6875 0.59375 -4.75 L 1.34375 -4.75 C 1.34375 -4.6875 1.34375 -4.609375 1.34375 -4.515625 C 1.351562 -4.429688 1.359375 -4.34375 1.359375 -4.25 C 1.367188 -4.164062 1.375 -4.082031 1.375 -4 C 1.375 -3.914062 1.375 -3.84375 1.375 -3.78125 L 1.390625 -3.78125 C 1.453125 -3.96875 1.515625 -4.125 1.578125 -4.25 C 1.640625 -4.382812 1.710938 -4.492188 1.796875 -4.578125 C 1.878906 -4.671875 1.976562 -4.738281 2.09375 -4.78125 C 2.21875 -4.820312 2.363281 -4.84375 2.53125 -4.84375 C 2.59375 -4.84375 2.648438 -4.835938 2.703125 -4.828125 C 2.765625 -4.816406 2.8125 -4.804688 2.84375 -4.796875 L 2.84375 -4.078125 C 2.789062 -4.085938 2.726562 -4.097656 2.65625 -4.109375 C 2.59375 -4.117188 2.515625 -4.125 2.421875 -4.125 C 2.242188 -4.125 2.085938 -4.082031 1.953125 -4 C 1.828125 -3.914062 1.722656 -3.800781 1.640625 -3.65625 C 1.566406 -3.507812 1.507812 -3.332031 1.46875 -3.125 C 1.4375 -2.925781 1.421875 -2.710938 1.421875 -2.484375 L 1.421875 0 Z M 0.625 0 \"/>\n",
       "</symbol>\n",
       "<symbol overflow=\"visible\" id=\"glyph3-6\">\n",
       "<path style=\"stroke:none;\" d=\"M 1.21875 -2.203125 C 1.21875 -1.960938 1.238281 -1.734375 1.28125 -1.515625 C 1.332031 -1.304688 1.410156 -1.125 1.515625 -0.96875 C 1.628906 -0.820312 1.769531 -0.707031 1.9375 -0.625 C 2.101562 -0.539062 2.304688 -0.5 2.546875 -0.5 C 2.878906 -0.5 3.148438 -0.566406 3.359375 -0.703125 C 3.566406 -0.847656 3.707031 -1.023438 3.78125 -1.234375 L 4.484375 -1.03125 C 4.429688 -0.90625 4.359375 -0.773438 4.265625 -0.640625 C 4.179688 -0.503906 4.0625 -0.382812 3.90625 -0.28125 C 3.757812 -0.175781 3.570312 -0.0859375 3.34375 -0.015625 C 3.125 0.0546875 2.859375 0.09375 2.546875 0.09375 C 1.835938 0.09375 1.296875 -0.113281 0.921875 -0.53125 C 0.554688 -0.957031 0.375 -1.582031 0.375 -2.40625 C 0.375 -2.851562 0.429688 -3.226562 0.546875 -3.53125 C 0.660156 -3.84375 0.8125 -4.09375 1 -4.28125 C 1.195312 -4.476562 1.421875 -4.617188 1.671875 -4.703125 C 1.929688 -4.796875 2.210938 -4.84375 2.515625 -4.84375 C 2.910156 -4.84375 3.238281 -4.773438 3.5 -4.640625 C 3.769531 -4.515625 3.988281 -4.335938 4.15625 -4.109375 C 4.320312 -3.890625 4.4375 -3.625 4.5 -3.3125 C 4.570312 -3.007812 4.609375 -2.675781 4.609375 -2.3125 L 4.609375 -2.203125 Z M 3.78125 -2.8125 C 3.738281 -3.3125 3.613281 -3.675781 3.40625 -3.90625 C 3.195312 -4.144531 2.894531 -4.265625 2.5 -4.265625 C 2.363281 -4.265625 2.222656 -4.238281 2.078125 -4.1875 C 1.929688 -4.144531 1.796875 -4.070312 1.671875 -3.96875 C 1.554688 -3.863281 1.453125 -3.71875 1.359375 -3.53125 C 1.273438 -3.34375 1.226562 -3.101562 1.21875 -2.8125 Z M 3.78125 -2.8125 \"/>\n",
       "</symbol>\n",
       "<symbol overflow=\"visible\" id=\"glyph3-7\">\n",
       "<path style=\"stroke:none;\" d=\"\"/>\n",
       "</symbol>\n",
       "<symbol overflow=\"visible\" id=\"glyph3-8\">\n",
       "<path style=\"stroke:none;\" d=\"M 0.6875 0 L 0.6875 -0.671875 L 2.265625 -0.671875 L 2.265625 -5.4375 L 0.859375 -4.4375 L 0.859375 -5.1875 L 2.328125 -6.1875 L 3.0625 -6.1875 L 3.0625 -0.671875 L 4.5625 -0.671875 L 4.5625 0 Z M 0.6875 0 \"/>\n",
       "</symbol>\n",
       "<symbol overflow=\"visible\" id=\"glyph3-9\">\n",
       "<path style=\"stroke:none;\" d=\"M 0.828125 -3.84375 L 0.828125 -4.75 L 1.671875 -4.75 L 1.671875 -3.84375 Z M 0.828125 0 L 0.828125 -0.90625 L 1.671875 -0.90625 L 1.671875 0 Z M 0.828125 0 \"/>\n",
       "</symbol>\n",
       "<symbol overflow=\"visible\" id=\"glyph3-10\">\n",
       "<path style=\"stroke:none;\" d=\"M 5.125 0 L 4.421875 -1.8125 L 1.59375 -1.8125 L 0.890625 0 L 0.015625 0 L 2.546875 -6.1875 L 3.5 -6.1875 L 5.984375 0 Z M 3.375 -4.515625 C 3.332031 -4.628906 3.285156 -4.742188 3.234375 -4.859375 C 3.191406 -4.984375 3.15625 -5.09375 3.125 -5.1875 C 3.09375 -5.289062 3.066406 -5.375 3.046875 -5.4375 C 3.023438 -5.5 3.015625 -5.539062 3.015625 -5.5625 C 3.003906 -5.539062 2.988281 -5.492188 2.96875 -5.421875 C 2.945312 -5.359375 2.921875 -5.273438 2.890625 -5.171875 C 2.859375 -5.078125 2.820312 -4.96875 2.78125 -4.84375 C 2.738281 -4.726562 2.691406 -4.613281 2.640625 -4.5 L 1.859375 -2.46875 L 4.171875 -2.46875 Z M 3.375 -4.515625 \"/>\n",
       "</symbol>\n",
       "<symbol overflow=\"visible\" id=\"glyph3-11\">\n",
       "<path style=\"stroke:none;\" d=\"M 1.203125 -2.40625 C 1.203125 -2.125 1.222656 -1.867188 1.265625 -1.640625 C 1.304688 -1.421875 1.375 -1.226562 1.46875 -1.0625 C 1.5625 -0.894531 1.679688 -0.765625 1.828125 -0.671875 C 1.984375 -0.578125 2.175781 -0.53125 2.40625 -0.53125 C 2.6875 -0.53125 2.921875 -0.609375 3.109375 -0.765625 C 3.296875 -0.921875 3.414062 -1.15625 3.46875 -1.46875 L 4.265625 -1.421875 C 4.234375 -1.222656 4.171875 -1.03125 4.078125 -0.84375 C 3.992188 -0.664062 3.875 -0.503906 3.71875 -0.359375 C 3.570312 -0.222656 3.390625 -0.113281 3.171875 -0.03125 C 2.960938 0.0507812 2.71875 0.09375 2.4375 0.09375 C 2.0625 0.09375 1.742188 0.03125 1.484375 -0.09375 C 1.222656 -0.226562 1.007812 -0.40625 0.84375 -0.625 C 0.6875 -0.84375 0.566406 -1.101562 0.484375 -1.40625 C 0.410156 -1.707031 0.375 -2.03125 0.375 -2.375 C 0.375 -2.695312 0.398438 -2.976562 0.453125 -3.21875 C 0.515625 -3.46875 0.59375 -3.679688 0.6875 -3.859375 C 0.78125 -4.046875 0.890625 -4.203125 1.015625 -4.328125 C 1.148438 -4.453125 1.289062 -4.550781 1.4375 -4.625 C 1.59375 -4.695312 1.753906 -4.75 1.921875 -4.78125 C 2.085938 -4.820312 2.253906 -4.84375 2.421875 -4.84375 C 2.691406 -4.84375 2.929688 -4.804688 3.140625 -4.734375 C 3.347656 -4.660156 3.523438 -4.554688 3.671875 -4.421875 C 3.816406 -4.296875 3.9375 -4.144531 4.03125 -3.96875 C 4.125 -3.800781 4.191406 -3.617188 4.234375 -3.421875 L 3.421875 -3.359375 C 3.378906 -3.617188 3.273438 -3.828125 3.109375 -3.984375 C 2.941406 -4.140625 2.707031 -4.21875 2.40625 -4.21875 C 2.175781 -4.21875 1.984375 -4.179688 1.828125 -4.109375 C 1.679688 -4.035156 1.5625 -3.921875 1.46875 -3.765625 C 1.375 -3.617188 1.304688 -3.429688 1.265625 -3.203125 C 1.222656 -2.972656 1.203125 -2.707031 1.203125 -2.40625 Z M 1.203125 -2.40625 \"/>\n",
       "</symbol>\n",
       "<symbol overflow=\"visible\" id=\"glyph3-12\">\n",
       "<path style=\"stroke:none;\" d=\"M 1.8125 0.09375 C 1.34375 0.09375 0.984375 -0.03125 0.734375 -0.28125 C 0.492188 -0.539062 0.375 -0.890625 0.375 -1.328125 C 0.375 -1.640625 0.429688 -1.894531 0.546875 -2.09375 C 0.671875 -2.300781 0.828125 -2.460938 1.015625 -2.578125 C 1.210938 -2.691406 1.429688 -2.769531 1.671875 -2.8125 C 1.921875 -2.851562 2.175781 -2.878906 2.4375 -2.890625 L 3.5 -2.90625 L 3.5 -3.15625 C 3.5 -3.351562 3.476562 -3.519531 3.4375 -3.65625 C 3.394531 -3.800781 3.332031 -3.914062 3.25 -4 C 3.164062 -4.082031 3.0625 -4.140625 2.9375 -4.171875 C 2.8125 -4.210938 2.660156 -4.234375 2.484375 -4.234375 C 2.328125 -4.234375 2.1875 -4.222656 2.0625 -4.203125 C 1.945312 -4.179688 1.84375 -4.140625 1.75 -4.078125 C 1.65625 -4.023438 1.582031 -3.945312 1.53125 -3.84375 C 1.476562 -3.75 1.441406 -3.628906 1.421875 -3.484375 L 0.59375 -3.5625 C 0.625 -3.75 0.679688 -3.921875 0.765625 -4.078125 C 0.847656 -4.234375 0.960938 -4.367188 1.109375 -4.484375 C 1.265625 -4.597656 1.453125 -4.6875 1.671875 -4.75 C 1.898438 -4.8125 2.175781 -4.84375 2.5 -4.84375 C 3.09375 -4.84375 3.539062 -4.703125 3.84375 -4.421875 C 4.144531 -4.148438 4.296875 -3.757812 4.296875 -3.25 L 4.296875 -1.203125 C 4.296875 -0.960938 4.328125 -0.78125 4.390625 -0.65625 C 4.453125 -0.539062 4.570312 -0.484375 4.75 -0.484375 C 4.789062 -0.484375 4.832031 -0.484375 4.875 -0.484375 C 4.914062 -0.492188 4.957031 -0.503906 5 -0.515625 L 5 -0.03125 C 4.90625 0 4.804688 0.0195312 4.703125 0.03125 C 4.609375 0.0390625 4.503906 0.046875 4.390625 0.046875 C 4.242188 0.046875 4.113281 0.0234375 4 -0.015625 C 3.894531 -0.0546875 3.804688 -0.113281 3.734375 -0.1875 C 3.671875 -0.269531 3.625 -0.367188 3.59375 -0.484375 C 3.5625 -0.609375 3.539062 -0.75 3.53125 -0.90625 L 3.5 -0.90625 C 3.414062 -0.757812 3.320312 -0.625 3.21875 -0.5 C 3.125 -0.375 3.007812 -0.265625 2.875 -0.171875 C 2.738281 -0.0859375 2.582031 -0.0234375 2.40625 0.015625 C 2.238281 0.0664062 2.039062 0.09375 1.8125 0.09375 Z M 2 -0.5 C 2.25 -0.5 2.46875 -0.546875 2.65625 -0.640625 C 2.84375 -0.734375 3 -0.851562 3.125 -1 C 3.25 -1.144531 3.34375 -1.300781 3.40625 -1.46875 C 3.46875 -1.632812 3.5 -1.796875 3.5 -1.953125 L 3.5 -2.34375 L 2.640625 -2.328125 C 2.441406 -2.328125 2.253906 -2.3125 2.078125 -2.28125 C 1.910156 -2.257812 1.757812 -2.210938 1.625 -2.140625 C 1.488281 -2.066406 1.382812 -1.960938 1.3125 -1.828125 C 1.238281 -1.703125 1.203125 -1.53125 1.203125 -1.3125 C 1.203125 -1.050781 1.269531 -0.847656 1.40625 -0.703125 C 1.539062 -0.566406 1.738281 -0.5 2 -0.5 Z M 2 -0.5 \"/>\n",
       "</symbol>\n",
       "<symbol overflow=\"visible\" id=\"glyph3-13\">\n",
       "<path style=\"stroke:none;\" d=\"M 2.65625 0 C 2.539062 0.289062 2.425781 0.550781 2.3125 0.78125 C 2.195312 1.007812 2.066406 1.203125 1.921875 1.359375 C 1.773438 1.523438 1.613281 1.648438 1.4375 1.734375 C 1.269531 1.828125 1.070312 1.875 0.84375 1.875 C 0.738281 1.875 0.644531 1.867188 0.5625 1.859375 C 0.476562 1.847656 0.390625 1.832031 0.296875 1.8125 L 0.296875 1.21875 C 0.347656 1.226562 0.410156 1.234375 0.484375 1.234375 C 0.554688 1.242188 0.613281 1.25 0.65625 1.25 C 0.894531 1.25 1.113281 1.160156 1.3125 0.984375 C 1.507812 0.816406 1.679688 0.546875 1.828125 0.171875 L 1.90625 -0.015625 L 0.015625 -4.75 L 0.859375 -4.75 L 1.875 -2.125 C 1.894531 -2.050781 1.925781 -1.945312 1.96875 -1.8125 C 2.019531 -1.675781 2.066406 -1.539062 2.109375 -1.40625 C 2.160156 -1.28125 2.203125 -1.164062 2.234375 -1.0625 C 2.273438 -0.957031 2.296875 -0.890625 2.296875 -0.859375 C 2.304688 -0.890625 2.328125 -0.953125 2.359375 -1.046875 C 2.390625 -1.148438 2.425781 -1.257812 2.46875 -1.375 C 2.519531 -1.488281 2.566406 -1.601562 2.609375 -1.71875 C 2.648438 -1.84375 2.6875 -1.953125 2.71875 -2.046875 L 3.640625 -4.75 L 4.484375 -4.75 Z M 2.65625 0 \"/>\n",
       "</symbol>\n",
       "<symbol overflow=\"visible\" id=\"glyph3-14\">\n",
       "<path style=\"stroke:none;\" d=\"M 0.734375 0 L 0.734375 -6.1875 L 5.4375 -6.1875 L 5.4375 -5.5 L 1.578125 -5.5 L 1.578125 -3.515625 L 5.171875 -3.515625 L 5.171875 -2.84375 L 1.578125 -2.84375 L 1.578125 -0.6875 L 5.609375 -0.6875 L 5.609375 0 Z M 0.734375 0 \"/>\n",
       "</symbol>\n",
       "<symbol overflow=\"visible\" id=\"glyph3-15\">\n",
       "<path style=\"stroke:none;\" d=\"M 4.171875 -1.3125 C 4.171875 -1.09375 4.128906 -0.894531 4.046875 -0.71875 C 3.960938 -0.539062 3.835938 -0.390625 3.671875 -0.265625 C 3.503906 -0.148438 3.300781 -0.0625 3.0625 0 C 2.820312 0.0625 2.550781 0.09375 2.25 0.09375 C 1.96875 0.09375 1.71875 0.0664062 1.5 0.015625 C 1.28125 -0.0234375 1.085938 -0.09375 0.921875 -0.1875 C 0.753906 -0.28125 0.613281 -0.398438 0.5 -0.546875 C 0.382812 -0.703125 0.300781 -0.890625 0.25 -1.109375 L 0.953125 -1.25 C 1.015625 -1 1.148438 -0.8125 1.359375 -0.6875 C 1.578125 -0.570312 1.875 -0.515625 2.25 -0.515625 C 2.414062 -0.515625 2.566406 -0.523438 2.703125 -0.546875 C 2.847656 -0.566406 2.972656 -0.601562 3.078125 -0.65625 C 3.179688 -0.71875 3.257812 -0.796875 3.3125 -0.890625 C 3.375 -0.992188 3.40625 -1.113281 3.40625 -1.25 C 3.40625 -1.394531 3.367188 -1.515625 3.296875 -1.609375 C 3.234375 -1.703125 3.140625 -1.773438 3.015625 -1.828125 C 2.898438 -1.890625 2.753906 -1.941406 2.578125 -1.984375 C 2.410156 -2.035156 2.222656 -2.09375 2.015625 -2.15625 C 1.828125 -2.195312 1.640625 -2.25 1.453125 -2.3125 C 1.265625 -2.375 1.09375 -2.457031 0.9375 -2.5625 C 0.789062 -2.664062 0.671875 -2.789062 0.578125 -2.9375 C 0.484375 -3.082031 0.4375 -3.269531 0.4375 -3.5 C 0.4375 -3.9375 0.585938 -4.265625 0.890625 -4.484375 C 1.203125 -4.710938 1.65625 -4.828125 2.25 -4.828125 C 2.78125 -4.828125 3.195312 -4.734375 3.5 -4.546875 C 3.8125 -4.367188 4.007812 -4.078125 4.09375 -3.671875 L 3.375 -3.578125 C 3.351562 -3.703125 3.304688 -3.804688 3.234375 -3.890625 C 3.160156 -3.972656 3.070312 -4.039062 2.96875 -4.09375 C 2.875 -4.144531 2.765625 -4.179688 2.640625 -4.203125 C 2.515625 -4.222656 2.382812 -4.234375 2.25 -4.234375 C 1.894531 -4.234375 1.628906 -4.175781 1.453125 -4.0625 C 1.285156 -3.957031 1.203125 -3.796875 1.203125 -3.578125 C 1.203125 -3.453125 1.234375 -3.347656 1.296875 -3.265625 C 1.359375 -3.179688 1.445312 -3.109375 1.5625 -3.046875 C 1.675781 -2.992188 1.8125 -2.941406 1.96875 -2.890625 C 2.125 -2.847656 2.300781 -2.804688 2.5 -2.765625 C 2.625 -2.734375 2.75 -2.695312 2.875 -2.65625 C 3.007812 -2.625 3.140625 -2.582031 3.265625 -2.53125 C 3.390625 -2.476562 3.503906 -2.414062 3.609375 -2.34375 C 3.722656 -2.28125 3.820312 -2.195312 3.90625 -2.09375 C 3.988281 -2 4.050781 -1.882812 4.09375 -1.75 C 4.144531 -1.625 4.171875 -1.476562 4.171875 -1.3125 Z M 4.171875 -1.3125 \"/>\n",
       "</symbol>\n",
       "<symbol overflow=\"visible\" id=\"glyph3-16\">\n",
       "<path style=\"stroke:none;\" d=\"M 2.4375 -0.03125 C 2.3125 0 2.1875 0.0234375 2.0625 0.046875 C 1.9375 0.0664062 1.796875 0.078125 1.640625 0.078125 C 1.003906 0.078125 0.6875 -0.28125 0.6875 -1 L 0.6875 -4.171875 L 0.140625 -4.171875 L 0.140625 -4.75 L 0.71875 -4.75 L 0.953125 -5.8125 L 1.484375 -5.8125 L 1.484375 -4.75 L 2.359375 -4.75 L 2.359375 -4.171875 L 1.484375 -4.171875 L 1.484375 -1.171875 C 1.484375 -0.941406 1.519531 -0.78125 1.59375 -0.6875 C 1.664062 -0.601562 1.796875 -0.5625 1.984375 -0.5625 C 2.054688 -0.5625 2.128906 -0.566406 2.203125 -0.578125 C 2.273438 -0.585938 2.351562 -0.601562 2.4375 -0.625 Z M 2.4375 -0.03125 \"/>\n",
       "</symbol>\n",
       "<symbol overflow=\"visible\" id=\"glyph3-17\">\n",
       "<path style=\"stroke:none;\" d=\"M 3.375 0 L 3.375 -3.015625 C 3.375 -3.242188 3.359375 -3.4375 3.328125 -3.59375 C 3.296875 -3.75 3.242188 -3.875 3.171875 -3.96875 C 3.109375 -4.0625 3.019531 -4.128906 2.90625 -4.171875 C 2.800781 -4.210938 2.664062 -4.234375 2.5 -4.234375 C 2.332031 -4.234375 2.179688 -4.195312 2.046875 -4.125 C 1.910156 -4.0625 1.796875 -3.96875 1.703125 -3.84375 C 1.609375 -3.71875 1.535156 -3.5625 1.484375 -3.375 C 1.429688 -3.195312 1.40625 -2.988281 1.40625 -2.75 L 1.40625 0 L 0.625 0 L 0.625 -3.734375 C 0.625 -3.835938 0.625 -3.941406 0.625 -4.046875 C 0.625 -4.160156 0.617188 -4.265625 0.609375 -4.359375 C 0.609375 -4.460938 0.609375 -4.546875 0.609375 -4.609375 C 0.609375 -4.679688 0.601562 -4.726562 0.59375 -4.75 L 1.34375 -4.75 C 1.34375 -4.738281 1.34375 -4.703125 1.34375 -4.640625 C 1.351562 -4.578125 1.359375 -4.503906 1.359375 -4.421875 C 1.367188 -4.335938 1.375 -4.25 1.375 -4.15625 C 1.375 -4.070312 1.375 -4 1.375 -3.9375 L 1.390625 -3.9375 C 1.460938 -4.082031 1.539062 -4.207031 1.625 -4.3125 C 1.707031 -4.425781 1.800781 -4.519531 1.90625 -4.59375 C 2.019531 -4.675781 2.144531 -4.738281 2.28125 -4.78125 C 2.425781 -4.820312 2.59375 -4.84375 2.78125 -4.84375 C 3.144531 -4.84375 3.429688 -4.769531 3.640625 -4.625 C 3.847656 -4.476562 3.992188 -4.25 4.078125 -3.9375 L 4.09375 -3.9375 C 4.15625 -4.082031 4.226562 -4.207031 4.3125 -4.3125 C 4.40625 -4.425781 4.507812 -4.519531 4.625 -4.59375 C 4.75 -4.675781 4.882812 -4.738281 5.03125 -4.78125 C 5.175781 -4.820312 5.34375 -4.84375 5.53125 -4.84375 C 5.769531 -4.84375 5.972656 -4.8125 6.140625 -4.75 C 6.316406 -4.6875 6.460938 -4.585938 6.578125 -4.453125 C 6.691406 -4.316406 6.773438 -4.140625 6.828125 -3.921875 C 6.878906 -3.710938 6.90625 -3.460938 6.90625 -3.171875 L 6.90625 0 L 6.125 0 L 6.125 -3.015625 C 6.125 -3.242188 6.109375 -3.4375 6.078125 -3.59375 C 6.046875 -3.75 5.992188 -3.875 5.921875 -3.96875 C 5.859375 -4.0625 5.769531 -4.128906 5.65625 -4.171875 C 5.550781 -4.210938 5.414062 -4.234375 5.25 -4.234375 C 5.082031 -4.234375 4.929688 -4.203125 4.796875 -4.140625 C 4.660156 -4.078125 4.546875 -3.984375 4.453125 -3.859375 C 4.359375 -3.734375 4.285156 -3.578125 4.234375 -3.390625 C 4.179688 -3.210938 4.15625 -3 4.15625 -2.75 L 4.15625 0 Z M 3.375 0 \"/>\n",
       "</symbol>\n",
       "<symbol overflow=\"visible\" id=\"glyph3-18\">\n",
       "<path style=\"stroke:none;\" d=\"M 2.6875 0 L 1.765625 0 L 0.03125 -4.75 L 0.875 -4.75 L 1.921875 -1.65625 C 1.941406 -1.59375 1.960938 -1.515625 1.984375 -1.421875 C 2.015625 -1.328125 2.046875 -1.226562 2.078125 -1.125 C 2.109375 -1.03125 2.132812 -0.9375 2.15625 -0.84375 C 2.1875 -0.757812 2.207031 -0.6875 2.21875 -0.625 C 2.238281 -0.6875 2.257812 -0.757812 2.28125 -0.84375 C 2.3125 -0.9375 2.34375 -1.03125 2.375 -1.125 C 2.40625 -1.226562 2.4375 -1.328125 2.46875 -1.421875 C 2.5 -1.515625 2.523438 -1.59375 2.546875 -1.65625 L 3.625 -4.75 L 4.46875 -4.75 Z M 2.6875 0 \"/>\n",
       "</symbol>\n",
       "<symbol overflow=\"visible\" id=\"glyph3-19\">\n",
       "<path style=\"stroke:none;\" d=\"M 4.859375 0 L 2.390625 -2.984375 L 1.578125 -2.375 L 1.578125 0 L 0.734375 0 L 0.734375 -6.1875 L 1.578125 -6.1875 L 1.578125 -3.09375 L 4.5625 -6.1875 L 5.546875 -6.1875 L 2.90625 -3.5 L 5.90625 0 Z M 4.859375 0 \"/>\n",
       "</symbol>\n",
       "</g>\n",
       "<clipPath id=\"clip1\">\n",
       "  <path d=\"M 43.152344 5.480469 L 426.523438 5.480469 L 426.523438 383.371094 L 43.152344 383.371094 Z M 43.152344 5.480469 \"/>\n",
       "</clipPath>\n",
       "<clipPath id=\"clip2\">\n",
       "  <path d=\"M 43.152344 359 L 426.523438 359 L 426.523438 360 L 43.152344 360 Z M 43.152344 359 \"/>\n",
       "</clipPath>\n",
       "<clipPath id=\"clip3\">\n",
       "  <path d=\"M 43.152344 262 L 426.523438 262 L 426.523438 264 L 43.152344 264 Z M 43.152344 262 \"/>\n",
       "</clipPath>\n",
       "<clipPath id=\"clip4\">\n",
       "  <path d=\"M 43.152344 166 L 426.523438 166 L 426.523438 167 L 43.152344 167 Z M 43.152344 166 \"/>\n",
       "</clipPath>\n",
       "<clipPath id=\"clip5\">\n",
       "  <path d=\"M 43.152344 70 L 426.523438 70 L 426.523438 71 L 43.152344 71 Z M 43.152344 70 \"/>\n",
       "</clipPath>\n",
       "<clipPath id=\"clip6\">\n",
       "  <path d=\"M 110 5.480469 L 111 5.480469 L 111 383.371094 L 110 383.371094 Z M 110 5.480469 \"/>\n",
       "</clipPath>\n",
       "<clipPath id=\"clip7\">\n",
       "  <path d=\"M 209 5.480469 L 211 5.480469 L 211 383.371094 L 209 383.371094 Z M 209 5.480469 \"/>\n",
       "</clipPath>\n",
       "<clipPath id=\"clip8\">\n",
       "  <path d=\"M 309 5.480469 L 310 5.480469 L 310 383.371094 L 309 383.371094 Z M 309 5.480469 \"/>\n",
       "</clipPath>\n",
       "<clipPath id=\"clip9\">\n",
       "  <path d=\"M 408 5.480469 L 410 5.480469 L 410 383.371094 L 408 383.371094 Z M 408 5.480469 \"/>\n",
       "</clipPath>\n",
       "<clipPath id=\"clip10\">\n",
       "  <path d=\"M 43.152344 310 L 426.523438 310 L 426.523438 312 L 43.152344 312 Z M 43.152344 310 \"/>\n",
       "</clipPath>\n",
       "<clipPath id=\"clip11\">\n",
       "  <path d=\"M 43.152344 214 L 426.523438 214 L 426.523438 216 L 43.152344 216 Z M 43.152344 214 \"/>\n",
       "</clipPath>\n",
       "<clipPath id=\"clip12\">\n",
       "  <path d=\"M 43.152344 117 L 426.523438 117 L 426.523438 120 L 43.152344 120 Z M 43.152344 117 \"/>\n",
       "</clipPath>\n",
       "<clipPath id=\"clip13\">\n",
       "  <path d=\"M 43.152344 21 L 426.523438 21 L 426.523438 23 L 43.152344 23 Z M 43.152344 21 \"/>\n",
       "</clipPath>\n",
       "<clipPath id=\"clip14\">\n",
       "  <path d=\"M 60 5.480469 L 62 5.480469 L 62 383.371094 L 60 383.371094 Z M 60 5.480469 \"/>\n",
       "</clipPath>\n",
       "<clipPath id=\"clip15\">\n",
       "  <path d=\"M 159 5.480469 L 161 5.480469 L 161 383.371094 L 159 383.371094 Z M 159 5.480469 \"/>\n",
       "</clipPath>\n",
       "<clipPath id=\"clip16\">\n",
       "  <path d=\"M 259 5.480469 L 261 5.480469 L 261 383.371094 L 259 383.371094 Z M 259 5.480469 \"/>\n",
       "</clipPath>\n",
       "<clipPath id=\"clip17\">\n",
       "  <path d=\"M 358 5.480469 L 360 5.480469 L 360 383.371094 L 358 383.371094 Z M 358 5.480469 \"/>\n",
       "</clipPath>\n",
       "</defs>\n",
       "<g id=\"surface682\">\n",
       "<rect x=\"0\" y=\"0\" width=\"432\" height=\"432\" style=\"fill:rgb(100%,100%,100%);fill-opacity:1;stroke:none;\"/>\n",
       "<rect x=\"0\" y=\"0\" width=\"432\" height=\"432\" style=\"fill:rgb(100%,100%,100%);fill-opacity:1;stroke:none;\"/>\n",
       "<path style=\"fill:none;stroke-width:1.066978;stroke-linecap:round;stroke-linejoin:round;stroke:rgb(100%,100%,100%);stroke-opacity:1;stroke-miterlimit:10;\" d=\"M 0 432 L 432 432 L 432 0 L 0 0 Z M 0 432 \"/>\n",
       "<g clip-path=\"url(#clip1)\" clip-rule=\"nonzero\">\n",
       "<path style=\" stroke:none;fill-rule:nonzero;fill:rgb(92.156863%,92.156863%,92.156863%);fill-opacity:1;\" d=\"M 43.152344 383.371094 L 426.523438 383.371094 L 426.523438 5.480469 L 43.152344 5.480469 Z M 43.152344 383.371094 \"/>\n",
       "</g>\n",
       "<g clip-path=\"url(#clip2)\" clip-rule=\"nonzero\">\n",
       "<path style=\"fill:none;stroke-width:0.533489;stroke-linecap:butt;stroke-linejoin:round;stroke:rgb(100%,100%,100%);stroke-opacity:1;stroke-miterlimit:10;\" d=\"M 43.152344 359.320312 L 426.519531 359.320312 \"/>\n",
       "</g>\n",
       "<g clip-path=\"url(#clip3)\" clip-rule=\"nonzero\">\n",
       "<path style=\"fill:none;stroke-width:0.533489;stroke-linecap:butt;stroke-linejoin:round;stroke:rgb(100%,100%,100%);stroke-opacity:1;stroke-miterlimit:10;\" d=\"M 43.152344 263.003906 L 426.519531 263.003906 \"/>\n",
       "</g>\n",
       "<g clip-path=\"url(#clip4)\" clip-rule=\"nonzero\">\n",
       "<path style=\"fill:none;stroke-width:0.533489;stroke-linecap:butt;stroke-linejoin:round;stroke:rgb(100%,100%,100%);stroke-opacity:1;stroke-miterlimit:10;\" d=\"M 43.152344 166.683594 L 426.519531 166.683594 \"/>\n",
       "</g>\n",
       "<g clip-path=\"url(#clip5)\" clip-rule=\"nonzero\">\n",
       "<path style=\"fill:none;stroke-width:0.533489;stroke-linecap:butt;stroke-linejoin:round;stroke:rgb(100%,100%,100%);stroke-opacity:1;stroke-miterlimit:10;\" d=\"M 43.152344 70.363281 L 426.519531 70.363281 \"/>\n",
       "</g>\n",
       "<g clip-path=\"url(#clip6)\" clip-rule=\"nonzero\">\n",
       "<path style=\"fill:none;stroke-width:0.533489;stroke-linecap:butt;stroke-linejoin:round;stroke:rgb(100%,100%,100%);stroke-opacity:1;stroke-miterlimit:10;\" d=\"M 110.363281 383.371094 L 110.363281 5.480469 \"/>\n",
       "</g>\n",
       "<g clip-path=\"url(#clip7)\" clip-rule=\"nonzero\">\n",
       "<path style=\"fill:none;stroke-width:0.533489;stroke-linecap:butt;stroke-linejoin:round;stroke:rgb(100%,100%,100%);stroke-opacity:1;stroke-miterlimit:10;\" d=\"M 209.941406 383.371094 L 209.941406 5.480469 \"/>\n",
       "</g>\n",
       "<g clip-path=\"url(#clip8)\" clip-rule=\"nonzero\">\n",
       "<path style=\"fill:none;stroke-width:0.533489;stroke-linecap:butt;stroke-linejoin:round;stroke:rgb(100%,100%,100%);stroke-opacity:1;stroke-miterlimit:10;\" d=\"M 309.519531 383.371094 L 309.519531 5.480469 \"/>\n",
       "</g>\n",
       "<g clip-path=\"url(#clip9)\" clip-rule=\"nonzero\">\n",
       "<path style=\"fill:none;stroke-width:0.533489;stroke-linecap:butt;stroke-linejoin:round;stroke:rgb(100%,100%,100%);stroke-opacity:1;stroke-miterlimit:10;\" d=\"M 409.09375 383.371094 L 409.09375 5.480469 \"/>\n",
       "</g>\n",
       "<g clip-path=\"url(#clip10)\" clip-rule=\"nonzero\">\n",
       "<path style=\"fill:none;stroke-width:1.066978;stroke-linecap:butt;stroke-linejoin:round;stroke:rgb(100%,100%,100%);stroke-opacity:1;stroke-miterlimit:10;\" d=\"M 43.152344 311.164062 L 426.519531 311.164062 \"/>\n",
       "</g>\n",
       "<g clip-path=\"url(#clip11)\" clip-rule=\"nonzero\">\n",
       "<path style=\"fill:none;stroke-width:1.066978;stroke-linecap:butt;stroke-linejoin:round;stroke:rgb(100%,100%,100%);stroke-opacity:1;stroke-miterlimit:10;\" d=\"M 43.152344 214.84375 L 426.519531 214.84375 \"/>\n",
       "</g>\n",
       "<g clip-path=\"url(#clip12)\" clip-rule=\"nonzero\">\n",
       "<path style=\"fill:none;stroke-width:1.066978;stroke-linecap:butt;stroke-linejoin:round;stroke:rgb(100%,100%,100%);stroke-opacity:1;stroke-miterlimit:10;\" d=\"M 43.152344 118.523438 L 426.519531 118.523438 \"/>\n",
       "</g>\n",
       "<g clip-path=\"url(#clip13)\" clip-rule=\"nonzero\">\n",
       "<path style=\"fill:none;stroke-width:1.066978;stroke-linecap:butt;stroke-linejoin:round;stroke:rgb(100%,100%,100%);stroke-opacity:1;stroke-miterlimit:10;\" d=\"M 43.152344 22.203125 L 426.519531 22.203125 \"/>\n",
       "</g>\n",
       "<g clip-path=\"url(#clip14)\" clip-rule=\"nonzero\">\n",
       "<path style=\"fill:none;stroke-width:1.066978;stroke-linecap:butt;stroke-linejoin:round;stroke:rgb(100%,100%,100%);stroke-opacity:1;stroke-miterlimit:10;\" d=\"M 60.578125 383.371094 L 60.578125 5.480469 \"/>\n",
       "</g>\n",
       "<g clip-path=\"url(#clip15)\" clip-rule=\"nonzero\">\n",
       "<path style=\"fill:none;stroke-width:1.066978;stroke-linecap:butt;stroke-linejoin:round;stroke:rgb(100%,100%,100%);stroke-opacity:1;stroke-miterlimit:10;\" d=\"M 160.152344 383.371094 L 160.152344 5.480469 \"/>\n",
       "</g>\n",
       "<g clip-path=\"url(#clip16)\" clip-rule=\"nonzero\">\n",
       "<path style=\"fill:none;stroke-width:1.066978;stroke-linecap:butt;stroke-linejoin:round;stroke:rgb(100%,100%,100%);stroke-opacity:1;stroke-miterlimit:10;\" d=\"M 259.730469 383.371094 L 259.730469 5.480469 \"/>\n",
       "</g>\n",
       "<g clip-path=\"url(#clip17)\" clip-rule=\"nonzero\">\n",
       "<path style=\"fill:none;stroke-width:1.066978;stroke-linecap:butt;stroke-linejoin:round;stroke:rgb(100%,100%,100%);stroke-opacity:1;stroke-miterlimit:10;\" d=\"M 359.304688 383.371094 L 359.304688 5.480469 \"/>\n",
       "</g>\n",
       "<path style=\"fill-rule:nonzero;fill:rgb(0%,0%,0%);fill-opacity:1;stroke-width:0.708661;stroke-linecap:round;stroke-linejoin:round;stroke:rgb(0%,0%,0%);stroke-opacity:1;stroke-miterlimit:10;\" d=\"M 62.53125 22.65625 C 62.53125 25.261719 58.621094 25.261719 58.621094 22.65625 C 58.621094 20.050781 62.53125 20.050781 62.53125 22.65625 \"/>\n",
       "<path style=\"fill-rule:nonzero;fill:rgb(0%,0%,0%);fill-opacity:1;stroke-width:0.708661;stroke-linecap:round;stroke-linejoin:round;stroke:rgb(0%,0%,0%);stroke-opacity:1;stroke-miterlimit:10;\" d=\"M 112.320312 164.601562 C 112.320312 167.207031 108.410156 167.207031 108.410156 164.601562 C 108.410156 161.996094 112.320312 161.996094 112.320312 164.601562 \"/>\n",
       "<path style=\"fill-rule:nonzero;fill:rgb(0%,0%,0%);fill-opacity:1;stroke-width:0.708661;stroke-linecap:round;stroke-linejoin:round;stroke:rgb(0%,0%,0%);stroke-opacity:1;stroke-miterlimit:10;\" d=\"M 162.109375 188.390625 C 162.109375 190.996094 158.199219 190.996094 158.199219 188.390625 C 158.199219 185.785156 162.109375 185.785156 162.109375 188.390625 \"/>\n",
       "<path style=\"fill-rule:nonzero;fill:rgb(0%,0%,0%);fill-opacity:1;stroke-width:0.708661;stroke-linecap:round;stroke-linejoin:round;stroke:rgb(0%,0%,0%);stroke-opacity:1;stroke-miterlimit:10;\" d=\"M 211.894531 270.355469 C 211.894531 272.960938 207.988281 272.960938 207.988281 270.355469 C 207.988281 267.75 211.894531 267.75 211.894531 270.355469 \"/>\n",
       "<path style=\"fill-rule:nonzero;fill:rgb(0%,0%,0%);fill-opacity:1;stroke-width:0.708661;stroke-linecap:round;stroke-linejoin:round;stroke:rgb(0%,0%,0%);stroke-opacity:1;stroke-miterlimit:10;\" d=\"M 261.683594 258.242188 C 261.683594 260.847656 257.773438 260.847656 257.773438 258.242188 C 257.773438 255.632812 261.683594 255.632812 261.683594 258.242188 \"/>\n",
       "<path style=\"fill-rule:nonzero;fill:rgb(0%,0%,0%);fill-opacity:1;stroke-width:0.708661;stroke-linecap:round;stroke-linejoin:round;stroke:rgb(0%,0%,0%);stroke-opacity:1;stroke-miterlimit:10;\" d=\"M 311.472656 318.621094 C 311.472656 321.226562 307.5625 321.226562 307.5625 318.621094 C 307.5625 316.011719 311.472656 316.011719 311.472656 318.621094 \"/>\n",
       "<path style=\"fill-rule:nonzero;fill:rgb(0%,0%,0%);fill-opacity:1;stroke-width:0.708661;stroke-linecap:round;stroke-linejoin:round;stroke:rgb(0%,0%,0%);stroke-opacity:1;stroke-miterlimit:10;\" d=\"M 361.261719 330.511719 C 361.261719 333.117188 357.351562 333.117188 357.351562 330.511719 C 357.351562 327.90625 361.261719 327.90625 361.261719 330.511719 \"/>\n",
       "<path style=\"fill-rule:nonzero;fill:rgb(0%,0%,0%);fill-opacity:1;stroke-width:0.708661;stroke-linecap:round;stroke-linejoin:round;stroke:rgb(0%,0%,0%);stroke-opacity:1;stroke-miterlimit:10;\" d=\"M 411.050781 366.191406 C 411.050781 368.800781 407.140625 368.800781 407.140625 366.191406 C 407.140625 363.585938 411.050781 363.585938 411.050781 366.191406 \"/>\n",
       "<path style=\"fill:none;stroke-width:1.066978;stroke-linecap:butt;stroke-linejoin:round;stroke:rgb(0%,0%,0%);stroke-opacity:1;stroke-miterlimit:10;\" d=\"M 60.578125 22.65625 L 110.363281 164.601562 L 160.152344 188.390625 L 209.941406 270.355469 L 259.730469 258.242188 L 309.519531 318.621094 L 359.304688 330.511719 L 409.09375 366.191406 \"/>\n",
       "<g style=\"fill:rgb(30.196078%,30.196078%,30.196078%);fill-opacity:1;\">\n",
       "  <use xlink:href=\"#glyph0-1\" x=\"20.21875\" y=\"314.353516\"/>\n",
       "  <use xlink:href=\"#glyph0-2\" x=\"25.21875\" y=\"314.353516\"/>\n",
       "  <use xlink:href=\"#glyph0-3\" x=\"28.21875\" y=\"314.353516\"/>\n",
       "  <use xlink:href=\"#glyph0-4\" x=\"33.21875\" y=\"314.353516\"/>\n",
       "</g>\n",
       "<g style=\"fill:rgb(30.196078%,30.196078%,30.196078%);fill-opacity:1;\">\n",
       "  <use xlink:href=\"#glyph0-1\" x=\"20.21875\" y=\"218.033203\"/>\n",
       "  <use xlink:href=\"#glyph0-2\" x=\"25.21875\" y=\"218.033203\"/>\n",
       "  <use xlink:href=\"#glyph0-3\" x=\"28.21875\" y=\"218.033203\"/>\n",
       "  <use xlink:href=\"#glyph0-5\" x=\"33.21875\" y=\"218.033203\"/>\n",
       "</g>\n",
       "<g style=\"fill:rgb(30.196078%,30.196078%,30.196078%);fill-opacity:1;\">\n",
       "  <use xlink:href=\"#glyph0-1\" x=\"20.21875\" y=\"121.712891\"/>\n",
       "  <use xlink:href=\"#glyph0-2\" x=\"25.21875\" y=\"121.712891\"/>\n",
       "  <use xlink:href=\"#glyph0-3\" x=\"28.21875\" y=\"121.712891\"/>\n",
       "  <use xlink:href=\"#glyph0-6\" x=\"33.21875\" y=\"121.712891\"/>\n",
       "</g>\n",
       "<g style=\"fill:rgb(30.196078%,30.196078%,30.196078%);fill-opacity:1;\">\n",
       "  <use xlink:href=\"#glyph0-1\" x=\"20.21875\" y=\"25.392578\"/>\n",
       "  <use xlink:href=\"#glyph0-2\" x=\"25.21875\" y=\"25.392578\"/>\n",
       "  <use xlink:href=\"#glyph0-7\" x=\"28.21875\" y=\"25.392578\"/>\n",
       "  <use xlink:href=\"#glyph0-1\" x=\"33.21875\" y=\"25.392578\"/>\n",
       "</g>\n",
       "<path style=\"fill:none;stroke-width:1.066978;stroke-linecap:butt;stroke-linejoin:round;stroke:rgb(20%,20%,20%);stroke-opacity:1;stroke-miterlimit:10;\" d=\"M 40.410156 311.164062 L 43.152344 311.164062 \"/>\n",
       "<path style=\"fill:none;stroke-width:1.066978;stroke-linecap:butt;stroke-linejoin:round;stroke:rgb(20%,20%,20%);stroke-opacity:1;stroke-miterlimit:10;\" d=\"M 40.410156 214.84375 L 43.152344 214.84375 \"/>\n",
       "<path style=\"fill:none;stroke-width:1.066978;stroke-linecap:butt;stroke-linejoin:round;stroke:rgb(20%,20%,20%);stroke-opacity:1;stroke-miterlimit:10;\" d=\"M 40.410156 118.523438 L 43.152344 118.523438 \"/>\n",
       "<path style=\"fill:none;stroke-width:1.066978;stroke-linecap:butt;stroke-linejoin:round;stroke:rgb(20%,20%,20%);stroke-opacity:1;stroke-miterlimit:10;\" d=\"M 40.410156 22.203125 L 43.152344 22.203125 \"/>\n",
       "<path style=\"fill:none;stroke-width:1.066978;stroke-linecap:butt;stroke-linejoin:round;stroke:rgb(20%,20%,20%);stroke-opacity:1;stroke-miterlimit:10;\" d=\"M 60.578125 386.109375 L 60.578125 383.371094 \"/>\n",
       "<path style=\"fill:none;stroke-width:1.066978;stroke-linecap:butt;stroke-linejoin:round;stroke:rgb(20%,20%,20%);stroke-opacity:1;stroke-miterlimit:10;\" d=\"M 160.152344 386.109375 L 160.152344 383.371094 \"/>\n",
       "<path style=\"fill:none;stroke-width:1.066978;stroke-linecap:butt;stroke-linejoin:round;stroke:rgb(20%,20%,20%);stroke-opacity:1;stroke-miterlimit:10;\" d=\"M 259.730469 386.109375 L 259.730469 383.371094 \"/>\n",
       "<path style=\"fill:none;stroke-width:1.066978;stroke-linecap:butt;stroke-linejoin:round;stroke:rgb(20%,20%,20%);stroke-opacity:1;stroke-miterlimit:10;\" d=\"M 359.304688 386.109375 L 359.304688 383.371094 \"/>\n",
       "<g style=\"fill:rgb(30.196078%,30.196078%,30.196078%);fill-opacity:1;\">\n",
       "  <use xlink:href=\"#glyph0-8\" x=\"58.078125\" y=\"394.990234\"/>\n",
       "</g>\n",
       "<g style=\"fill:rgb(30.196078%,30.196078%,30.196078%);fill-opacity:1;\">\n",
       "  <use xlink:href=\"#glyph0-5\" x=\"157.652344\" y=\"394.990234\"/>\n",
       "</g>\n",
       "<g style=\"fill:rgb(30.196078%,30.196078%,30.196078%);fill-opacity:1;\">\n",
       "  <use xlink:href=\"#glyph0-9\" x=\"257.230469\" y=\"394.990234\"/>\n",
       "</g>\n",
       "<g style=\"fill:rgb(30.196078%,30.196078%,30.196078%);fill-opacity:1;\">\n",
       "  <use xlink:href=\"#glyph0-3\" x=\"356.804688\" y=\"394.990234\"/>\n",
       "</g>\n",
       "<g style=\"fill:rgb(0%,0%,0%);fill-opacity:1;\">\n",
       "  <use xlink:href=\"#glyph1-1\" x=\"206.335938\" y=\"408.90625\"/>\n",
       "  <use xlink:href=\"#glyph1-2\" x=\"215.335938\" y=\"408.90625\"/>\n",
       "  <use xlink:href=\"#glyph1-3\" x=\"222.335938\" y=\"408.90625\"/>\n",
       "  <use xlink:href=\"#glyph1-4\" x=\"225.335938\" y=\"408.90625\"/>\n",
       "  <use xlink:href=\"#glyph1-5\" x=\"232.335938\" y=\"408.90625\"/>\n",
       "  <use xlink:href=\"#glyph1-6\" x=\"239.335938\" y=\"408.90625\"/>\n",
       "  <use xlink:href=\"#glyph1-7\" x=\"246.335938\" y=\"408.90625\"/>\n",
       "  <use xlink:href=\"#glyph1-8\" x=\"253.335938\" y=\"408.90625\"/>\n",
       "  <use xlink:href=\"#glyph1-9\" x=\"257.335938\" y=\"408.90625\"/>\n",
       "</g>\n",
       "<g style=\"fill:rgb(0%,0%,0%);fill-opacity:1;\">\n",
       "  <use xlink:href=\"#glyph2-1\" x=\"14.34375\" y=\"244.425781\"/>\n",
       "  <use xlink:href=\"#glyph2-2\" x=\"14.34375\" y=\"236.425781\"/>\n",
       "  <use xlink:href=\"#glyph2-2\" x=\"14.34375\" y=\"230.425781\"/>\n",
       "  <use xlink:href=\"#glyph2-3\" x=\"14.34375\" y=\"224.425781\"/>\n",
       "  <use xlink:href=\"#glyph2-4\" x=\"14.34375\" y=\"217.425781\"/>\n",
       "  <use xlink:href=\"#glyph2-5\" x=\"14.34375\" y=\"213.425781\"/>\n",
       "  <use xlink:href=\"#glyph2-2\" x=\"14.34375\" y=\"206.425781\"/>\n",
       "  <use xlink:href=\"#glyph2-6\" x=\"14.34375\" y=\"200.425781\"/>\n",
       "  <use xlink:href=\"#glyph2-7\" x=\"14.34375\" y=\"194.425781\"/>\n",
       "  <use xlink:href=\"#glyph2-8\" x=\"14.34375\" y=\"191.425781\"/>\n",
       "  <use xlink:href=\"#glyph2-9\" x=\"14.34375\" y=\"183.425781\"/>\n",
       "  <use xlink:href=\"#glyph2-10\" x=\"14.34375\" y=\"177.425781\"/>\n",
       "  <use xlink:href=\"#glyph2-11\" x=\"14.34375\" y=\"174.425781\"/>\n",
       "  <use xlink:href=\"#glyph2-12\" x=\"14.34375\" y=\"171.425781\"/>\n",
       "  <use xlink:href=\"#glyph2-5\" x=\"14.34375\" y=\"161.425781\"/>\n",
       "  <use xlink:href=\"#glyph2-10\" x=\"14.34375\" y=\"154.425781\"/>\n",
       "  <use xlink:href=\"#glyph2-13\" x=\"14.34375\" y=\"151.425781\"/>\n",
       "</g>\n",
       "<g style=\"fill:rgb(0%,0%,0%);fill-opacity:1;\">\n",
       "  <use xlink:href=\"#glyph3-1\" x=\"43.152344\" y=\"423.666992\"/>\n",
       "  <use xlink:href=\"#glyph3-2\" x=\"48.152344\" y=\"423.666992\"/>\n",
       "  <use xlink:href=\"#glyph3-3\" x=\"50.152344\" y=\"423.666992\"/>\n",
       "  <use xlink:href=\"#glyph3-4\" x=\"55.152344\" y=\"423.666992\"/>\n",
       "  <use xlink:href=\"#glyph3-5\" x=\"60.152344\" y=\"423.666992\"/>\n",
       "  <use xlink:href=\"#glyph3-6\" x=\"63.152344\" y=\"423.666992\"/>\n",
       "  <use xlink:href=\"#glyph3-7\" x=\"68.152344\" y=\"423.666992\"/>\n",
       "  <use xlink:href=\"#glyph3-8\" x=\"71.152344\" y=\"423.666992\"/>\n",
       "  <use xlink:href=\"#glyph3-9\" x=\"76.152344\" y=\"423.666992\"/>\n",
       "  <use xlink:href=\"#glyph3-7\" x=\"79.152344\" y=\"423.666992\"/>\n",
       "  <use xlink:href=\"#glyph3-10\" x=\"81.152344\" y=\"423.666992\"/>\n",
       "  <use xlink:href=\"#glyph3-11\" x=\"87.152344\" y=\"423.666992\"/>\n",
       "  <use xlink:href=\"#glyph3-11\" x=\"92.152344\" y=\"423.666992\"/>\n",
       "  <use xlink:href=\"#glyph3-4\" x=\"97.152344\" y=\"423.666992\"/>\n",
       "  <use xlink:href=\"#glyph3-5\" x=\"102.152344\" y=\"423.666992\"/>\n",
       "  <use xlink:href=\"#glyph3-12\" x=\"105.152344\" y=\"423.666992\"/>\n",
       "  <use xlink:href=\"#glyph3-11\" x=\"110.152344\" y=\"423.666992\"/>\n",
       "  <use xlink:href=\"#glyph3-13\" x=\"115.152344\" y=\"423.666992\"/>\n",
       "  <use xlink:href=\"#glyph3-7\" x=\"120.152344\" y=\"423.666992\"/>\n",
       "  <use xlink:href=\"#glyph3-14\" x=\"123.152344\" y=\"423.666992\"/>\n",
       "  <use xlink:href=\"#glyph3-15\" x=\"129.152344\" y=\"423.666992\"/>\n",
       "  <use xlink:href=\"#glyph3-16\" x=\"134.152344\" y=\"423.666992\"/>\n",
       "  <use xlink:href=\"#glyph3-2\" x=\"137.152344\" y=\"423.666992\"/>\n",
       "  <use xlink:href=\"#glyph3-17\" x=\"139.152344\" y=\"423.666992\"/>\n",
       "  <use xlink:href=\"#glyph3-12\" x=\"146.152344\" y=\"423.666992\"/>\n",
       "  <use xlink:href=\"#glyph3-16\" x=\"151.152344\" y=\"423.666992\"/>\n",
       "  <use xlink:href=\"#glyph3-6\" x=\"154.152344\" y=\"423.666992\"/>\n",
       "  <use xlink:href=\"#glyph3-7\" x=\"159.152344\" y=\"423.666992\"/>\n",
       "  <use xlink:href=\"#glyph3-18\" x=\"162.152344\" y=\"423.666992\"/>\n",
       "  <use xlink:href=\"#glyph3-6\" x=\"167.152344\" y=\"423.666992\"/>\n",
       "  <use xlink:href=\"#glyph3-5\" x=\"172.152344\" y=\"423.666992\"/>\n",
       "  <use xlink:href=\"#glyph3-15\" x=\"175.152344\" y=\"423.666992\"/>\n",
       "  <use xlink:href=\"#glyph3-4\" x=\"180.152344\" y=\"423.666992\"/>\n",
       "  <use xlink:href=\"#glyph3-15\" x=\"185.152344\" y=\"423.666992\"/>\n",
       "  <use xlink:href=\"#glyph3-7\" x=\"190.152344\" y=\"423.666992\"/>\n",
       "  <use xlink:href=\"#glyph3-19\" x=\"193.152344\" y=\"423.666992\"/>\n",
       "</g>\n",
       "</g>\n",
       "</svg>\n"
      ],
      "text/plain": [
       "plot without title"
      ]
     },
     "metadata": {
      "application/pdf": {
       "height": 360,
       "width": 360
      },
      "image/jpeg": {
       "height": 360,
       "width": 360
      },
      "image/png": {
       "height": 360,
       "width": 360
      },
      "image/svg+xml": {
       "height": 360,
       "isolated": true,
       "width": 360
      }
     },
     "output_type": "display_data"
    }
   ],
   "source": [
    "sleep_recipe <- recipe(occupation ~ ., data = sleep_train) |>\n",
    "  step_scale(all_predictors()) |>\n",
    "  step_center(all_predictors())\n",
    "\n",
    "sleep_spec <- nearest_neighbor(weight_func = \"rectangular\", \n",
    "                              neighbors = tune()) |>\n",
    "  set_engine(\"kknn\") |>\n",
    "  set_mode(\"classification\")\n",
    "\n",
    "sleep_vfold <- vfold_cv(sleep_train, v = 5, strata = occupation)\n",
    "k_vals <- tibble(neighbors = seq(from = 2, to = 9))\n",
    "\n",
    "sleep_results <- workflow() |>\n",
    "add_recipe(sleep_recipe) |>\n",
    "add_model(sleep_spec) |>\n",
    "tune_grid(resamples = sleep_vfold, grid = k_vals) |>\n",
    "collect_metrics()\n",
    "\n",
    "accuracy <- sleep_results |>\n",
    "filter(.metric == \"accuracy\")\n",
    "\n",
    "cross_val_plot <- accuracy |>\n",
    "ggplot(aes(x = neighbors, y = mean)) +\n",
    "geom_point() +\n",
    "geom_line() +\n",
    "labs(x = \"Neighbors\", y = \"Accuracy Estimate\", caption = \"Figure 1: Accuracy Estimate versus K\")+\n",
    "theme(text = element_text(size = 12), plot.caption = element_text(size = 9, hjust=0))\n",
    "\n",
    "\n",
    "options(repr.plot.height = 6, repr.plot.width = 6)\n",
    "\n",
    "cross_val_plot \n"
   ]
  },
  {
   "cell_type": "markdown",
   "id": "890bd2fb-dd07-4308-bd5e-1eb0913ffa10",
   "metadata": {},
   "source": [
    "The training data is used to enhance and fit the k-NN model. The `nearest_neighbor` function is used to specify a rectangular weight function with an optimal k value of 2, which was obtained during the previous tuning phase. The `set_engine` and `set_mode` functions are used to configure the model for categorization. Following that, a workflow is built by combining the previously described preprocessing recipe (`sleep_recipe`) with the revised k-NN model specification (`sleep_spec`). After that, the `fit` function is used to train the model using the training dataset (`sleep_train`). This approach incorporates both data preparation and the chosen k-NN model, offering a thorough framework for training and analysing the model's predictive performance on the sleep health dataset."
   ]
  },
  {
   "cell_type": "code",
   "execution_count": 6,
   "id": "69839c74-d049-402d-a17d-baddb4ad5646",
   "metadata": {
    "tags": []
   },
   "outputs": [],
   "source": [
    "sleep_spec <- nearest_neighbor(weight_func = \"rectangular\", neighbors = 2) |>\n",
    "set_engine(\"kknn\") |>\n",
    "set_mode(\"classification\")\n",
    "\n",
    "sleep_fit <- workflow() |>\n",
    "add_recipe(sleep_recipe) |>\n",
    "add_model(sleep_spec) |>\n",
    "fit(data = sleep_train) \n"
   ]
  },
  {
   "cell_type": "markdown",
   "id": "9782807a-3afb-4dcd-996c-60c825538720",
   "metadata": {},
   "source": [
    "The previously trained k-NN model (`sleep_fit`) on the testing dataset (`sleep_test`) is used to create predictions for the 'occupation' variable. Predictions are obtained using the `predict` function, which are then coupled with the original testing dataset using `bind_cols`. Following that, the prediction accuracy is assessed by comparing the predicted occupation values (`.pred_class`) to the actual occupation values in the testing dataset. The `metrics` function computes accuracy and filters the output to extract accuracy metrics specifically. The accuracy measure is stored in the `occupation_accuracy` object, and it provides an assessment of the model's effectiveness in predicting occupations based on the supplied features in the testing dataset."
   ]
  },
  {
   "cell_type": "code",
   "execution_count": 6,
   "id": "3f26eb4a-5644-498c-a0ab-271328f5e2ba",
   "metadata": {
    "tags": []
   },
   "outputs": [
    {
     "data": {
      "text/html": [
       "<table class=\"dataframe\">\n",
       "<caption>A tibble: 1 × 3</caption>\n",
       "<thead>\n",
       "\t<tr><th scope=col>.metric</th><th scope=col>.estimator</th><th scope=col>.estimate</th></tr>\n",
       "\t<tr><th scope=col>&lt;chr&gt;</th><th scope=col>&lt;chr&gt;</th><th scope=col>&lt;dbl&gt;</th></tr>\n",
       "</thead>\n",
       "<tbody>\n",
       "\t<tr><td>accuracy</td><td>multiclass</td><td>0.9354839</td></tr>\n",
       "</tbody>\n",
       "</table>\n"
      ],
      "text/latex": [
       "A tibble: 1 × 3\n",
       "\\begin{tabular}{lll}\n",
       " .metric & .estimator & .estimate\\\\\n",
       " <chr> & <chr> & <dbl>\\\\\n",
       "\\hline\n",
       "\t accuracy & multiclass & 0.9354839\\\\\n",
       "\\end{tabular}\n"
      ],
      "text/markdown": [
       "\n",
       "A tibble: 1 × 3\n",
       "\n",
       "| .metric &lt;chr&gt; | .estimator &lt;chr&gt; | .estimate &lt;dbl&gt; |\n",
       "|---|---|---|\n",
       "| accuracy | multiclass | 0.9354839 |\n",
       "\n"
      ],
      "text/plain": [
       "  .metric  .estimator .estimate\n",
       "1 accuracy multiclass 0.9354839"
      ]
     },
     "metadata": {},
     "output_type": "display_data"
    }
   ],
   "source": [
    "occupation_predictions <- predict(sleep_fit, sleep_test) |>\n",
    "  bind_cols(sleep_test)\n",
    "\n",
    "occupation_accuracy <- occupation_predictions |>\n",
    "  metrics(truth = occupation, estimate = .pred_class) |>\n",
    "  filter(.metric == \"accuracy\")\n",
    "\n",
    "occupation_accuracy\n",
    "h5('Table 7: First Six Entries of Testing Data')"
   ]
  },
  {
   "cell_type": "markdown",
   "id": "46f7a927-420b-4a93-a8a0-37d321757c60",
   "metadata": {},
   "source": [
    "To further analyse the performance of the k-NN model, a confusion matrix for the predicted professions is constructed. The `conf_mat` function is applied to the model's predictions (`occupation_predictions`), which are compared to the true values of the 'occupation' variable in the testing dataset. The `occupation_conf_mat` object that results encapsulates the confusion matrix, providing a full breakdown of the model's predictions, including true positive, true negative, false positive, and false negative counts. This matrix is a useful tool for evaluating the model's classification accuracy and comprehending its performance across various profession categories."
   ]
  },
  {
   "cell_type": "code",
   "execution_count": 7,
   "id": "d70cd5e9-a502-4953-92e5-2d97b227875f",
   "metadata": {
    "tags": []
   },
   "outputs": [
    {
     "data": {
      "text/plain": [
       "             Truth\n",
       "Prediction    Doctor Teacher Nurse Engineer Accountant Lawyer Salesperson\n",
       "  Doctor          19       0     0        0          0      0           0\n",
       "  Teacher          0       8     0        0          0      0           0\n",
       "  Nurse            0       0    16        0          0      0           0\n",
       "  Engineer         0       0     1       15          0      1           0\n",
       "  Accountant       0       2     0        1          7      0           0\n",
       "  Lawyer           0       0     1        0          0     11           0\n",
       "  Salesperson      0       0     0        0          0      0          11"
      ]
     },
     "metadata": {},
     "output_type": "display_data"
    }
   ],
   "source": [
    "occupation_conf_mat <- occupation_predictions |>\n",
    "conf_mat(truth = occupation, estimate = .pred_class)\n",
    "\n",
    "occupation_conf_mat"
   ]
  },
  {
   "cell_type": "markdown",
   "id": "8b93c8e5-d0f4-4383-ad3e-3ff1ba278cbd",
   "metadata": {},
   "source": [
    "!# This needs to be checked!\n",
    "\n",
    "From the confusion matrix above, we observe that our classification model made no mistakes when classifying Doctors, Teachers or Nurses. However our classification model, according to our confusion matrix, had a 76%, 67%, 90% and %84% accuracy classifying Engineers, Accountants, Lawyers, and Salespersons, respectively. We obtain these values by dividing the number of correct predictions by the total number of predictions  "
   ]
  },
  {
   "cell_type": "markdown",
   "id": "2a3f028d-962d-4c8c-88ad-3538f010468a",
   "metadata": {},
   "source": [
    "<h4>Discussion</h4>"
   ]
  },
  {
   "cell_type": "markdown",
   "id": "8027e393-7e5f-4f76-a569-99d7c2f46017",
   "metadata": {},
   "source": [
    "<h4>References</h4>\n",
    "\n",
    "Tharmalingam, L. (2023, September 18). Sleep health and lifestyle dataset. Kaggle. https://www.kaggle.com/datasets/uom190346a/sleep-health-and-lifestyle-dataset "
   ]
  },
  {
   "cell_type": "code",
   "execution_count": null,
   "id": "f72f472a-dcdd-4b2c-a728-c803ab8e532c",
   "metadata": {},
   "outputs": [],
   "source": []
  },
  {
   "cell_type": "code",
   "execution_count": null,
   "id": "113efa36-ad52-4dcb-81ce-91bf1cc12a3f",
   "metadata": {},
   "outputs": [],
   "source": []
  }
 ],
 "metadata": {
  "kernelspec": {
   "display_name": "R",
   "language": "R",
   "name": "ir"
  },
  "language_info": {
   "codemirror_mode": "r",
   "file_extension": ".r",
   "mimetype": "text/x-r-source",
   "name": "R",
   "pygments_lexer": "r",
   "version": "4.2.2"
  }
 },
 "nbformat": 4,
 "nbformat_minor": 5
}
