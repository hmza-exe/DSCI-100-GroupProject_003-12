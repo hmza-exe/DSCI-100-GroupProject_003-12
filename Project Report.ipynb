{
 "cells": [
  {
   "cell_type": "markdown",
   "id": "e168f138-bc18-4515-880f-44d8a340690d",
   "metadata": {},
   "source": [
    "<div style=\"text-align: center\"> <h1>Project Report</h1></div>\n",
    "\n",
    "***\n",
    "\n",
    "<div style=\"text-align: center\"> <h2>Predicting Occupation Using Knn-Classifciation</h2></div>"
   ]
  },
  {
   "cell_type": "markdown",
   "id": "15dc75c7-4a52-4d53-a8ff-3b2baed69041",
   "metadata": {},
   "source": [
    " "
   ]
  },
  {
   "cell_type": "markdown",
   "id": "a424797c-c09e-4d15-85bb-99d8d4852c12",
   "metadata": {},
   "source": [
    " "
   ]
  },
  {
   "cell_type": "markdown",
   "id": "62103278-7c67-4638-99f7-f952774e4161",
   "metadata": {},
   "source": [
    "<h4> Introduction </h4>\n",
    "\n",
    "A person's occupation has a significant impact on their lifestyle and health. Overall well-being can be influenced by a number of work-related factors, including physical demands, irregular hours, sedentary positions, and stress related to one's job. Maintaining a healthy balance between work obligations and personal well-being is essential for a long-lasting and satisfying career. The following suggestion is based on this awareness:\n",
    "\n",
    "Our work is founded on the concept that different occupational categories may show certain patterns in health and wellness parameters, allowing one to infer a person's career from variables like stress and sleep habits.\n",
    "\n",
    "Our research aims to determine whether it is possible to predict an individual's occupation using predictor variables from the dataset of interest. \n",
    "\n",
    "The Sleep Health and Lifestyle Dataset includes data on gender, age, occupation, sleep metrics, physical activity, stress levels, BMI, cardiovascular health, and sleep disorders. The dataset's columns consist of Person ID, Gender, Age, Occupation, Sleep Duration, Quality of Sleep, Physical Activity Level, Stress Level, BMI Category, Blood Pressure, Heart Rate, Daily Steps, and Sleep Disorder Status (None, Insomnia, Sleep Apnea). This dataset facilitates in-depth analysis of sleep patterns, lifestyle factors, cardiovascular health, and sleep disorders for a diverse population.\n",
    "The Hypothesis underlying our study is that distinct occupational categories may exhibit specific patterns in health and wellness factors, making it possible to infer a person's profession based on factors such as sleep and stress levels. \n"
   ]
  },
  {
   "cell_type": "code",
   "execution_count": null,
   "id": "0ac7df1a-5f28-4f89-bd6c-9fb8ce55e288",
   "metadata": {},
   "outputs": [],
   "source": []
  },
  {
   "cell_type": "markdown",
   "id": "2a3f028d-962d-4c8c-88ad-3538f010468a",
   "metadata": {},
   "source": [
    "<h4>Discussion</h4>"
   ]
  },
  {
   "cell_type": "markdown",
   "id": "8027e393-7e5f-4f76-a569-99d7c2f46017",
   "metadata": {},
   "source": [
    "<h4>References</h4>"
   ]
  },
  {
   "cell_type": "code",
   "execution_count": null,
   "id": "f72f472a-dcdd-4b2c-a728-c803ab8e532c",
   "metadata": {},
   "outputs": [],
   "source": []
  }
 ],
 "metadata": {
  "kernelspec": {
   "display_name": "Python 3 (ipykernel)",
   "language": "python",
   "name": "python3"
  },
  "language_info": {
   "codemirror_mode": {
    "name": "ipython",
    "version": 3
   },
   "file_extension": ".py",
   "mimetype": "text/x-python",
   "name": "python",
   "nbconvert_exporter": "python",
   "pygments_lexer": "ipython3",
   "version": "3.10.8"
  }
 },
 "nbformat": 4,
 "nbformat_minor": 5
}
