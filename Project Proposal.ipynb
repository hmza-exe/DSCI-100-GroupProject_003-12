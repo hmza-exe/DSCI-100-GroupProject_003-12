{
 "cells": [
  {
   "cell_type": "markdown",
   "id": "6c5d16cf-98fe-48e6-91a1-17aa83eabbb3",
   "metadata": {
    "tags": []
   },
   "source": [
    "**Group Project Proposal Notebook.**"
   ]
  },
  {
   "cell_type": "markdown",
   "id": "66de8d94-fe7a-43d2-a687-7f26b3914c58",
   "metadata": {
    "tags": []
   },
   "source": [
    "# Predicting Occupation Using KNN Classification"
   ]
  },
  {
   "cell_type": "markdown",
   "id": "acac9dd8-551f-48dd-8ca5-a03695453926",
   "metadata": {},
   "source": [
    "## Introduction\n",
    "\n",
    "The Hypothesis underlying our study is that distinct occupational categories may exhibit specific patterns in health and wellness factors, making it possible to infer a person's profession based on factors such as sleep and stress levels. \n",
    "\n",
    "Our project seeks to answer the following question:\n",
    "**Can we predict a person's occupation based off their sleep duration, quality of sleep, stress level, physical activity, Body Mass Index (BMI), and blood pressure?**\n",
    "\n",
    "To answer this question we will conduct a classification problem using the \"Sleep Health and Lifestyle Dataset\" sourced from Kaggle."
   ]
  },
  {
   "cell_type": "code",
   "execution_count": null,
   "id": "51973d98-ff3c-4965-a2b6-015a7cebcaaa",
   "metadata": {},
   "outputs": [],
   "source": []
  },
  {
   "cell_type": "code",
   "execution_count": null,
   "id": "819d46bf-bc9f-4965-bc45-0294dd535810",
   "metadata": {},
   "outputs": [],
   "source": []
  }
 ],
 "metadata": {
  "kernelspec": {
   "display_name": "R",
   "language": "R",
   "name": "ir"
  },
  "language_info": {
   "codemirror_mode": "r",
   "file_extension": ".r",
   "mimetype": "text/x-r-source",
   "name": "R",
   "pygments_lexer": "r",
   "version": "4.2.2"
  }
 },
 "nbformat": 4,
 "nbformat_minor": 5
}
