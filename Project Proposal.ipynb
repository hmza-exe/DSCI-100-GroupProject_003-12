{
 "cells": [
  {
   "cell_type": "markdown",
   "id": "6c5d16cf-98fe-48e6-91a1-17aa83eabbb3",
   "metadata": {
    "tags": []
   },
   "source": [
    "**Group Project Proposal Notebook.**"
   ]
  },
  {
   "cell_type": "code",
   "execution_count": null,
   "id": "0df5eecd-0471-419f-a846-c97785befceb",
   "metadata": {},
   "outputs": [],
   "source": []
  }
 ],
 "metadata": {
  "kernelspec": {
   "display_name": "R",
   "language": "R",
   "name": "ir"
  },
  "language_info": {
   "codemirror_mode": "r",
   "file_extension": ".r",
   "mimetype": "text/x-r-source",
   "name": "R",
   "pygments_lexer": "r",
   "version": "4.2.2"
  }
 },
 "nbformat": 4,
 "nbformat_minor": 5
}
